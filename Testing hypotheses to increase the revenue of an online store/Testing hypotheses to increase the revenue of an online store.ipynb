{
 "cells": [
  {
   "cell_type": "markdown",
   "metadata": {},
   "source": [
    "# Проверка гипотез по увеличению выручки интернет-магазина."
   ]
  },
  {
   "cell_type": "markdown",
   "metadata": {},
   "source": [
    "## Описание проекта."
   ]
  },
  {
   "cell_type": "markdown",
   "metadata": {},
   "source": [
    "Отдел маркетинга и аналитик подготовили список гипотез для увеличения выручки крупного интернет-магазина. Нужно проверить гипотезы и понять, что действительно может помочь увеличить выручку."
   ]
  },
  {
   "cell_type": "markdown",
   "metadata": {},
   "source": [
    "## Задачи проекта. "
   ]
  },
  {
   "cell_type": "markdown",
   "metadata": {},
   "source": [
    "- Приоритизировать гипотезы.\n",
    "- Запустить A/B-тест. \n",
    "- Проанализировать результаты."
   ]
  },
  {
   "cell_type": "markdown",
   "metadata": {},
   "source": [
    "## План исследования. "
   ]
  },
  {
   "cell_type": "markdown",
   "metadata": {},
   "source": [
    "1. Загрузить данные и подготовить их к анализу.\n",
    "2. Приоритезировать гипотезы с помощью фреймворков ICE и RICE. \n",
    "3. Проанализировать результаты проведённого А/В-теста. \n",
    "4. Сделать выводы."
   ]
  },
  {
   "cell_type": "code",
   "execution_count": 1,
   "metadata": {},
   "outputs": [],
   "source": [
    "# импортируем библиотеки\n",
    "import pandas as pd\n",
    "import scipy.stats as stats\n",
    "import datetime as dt\n",
    "import numpy as np\n",
    "from matplotlib import pyplot as plt\n",
    "from matplotlib.ticker import FuncFormatter"
   ]
  },
  {
   "cell_type": "markdown",
   "metadata": {
    "id": "_vsKinGUWVwk"
   },
   "source": [
    "## 1. Загрузка и подготовка данных. "
   ]
  },
  {
   "cell_type": "code",
   "execution_count": 2,
   "metadata": {},
   "outputs": [],
   "source": [
    "# загружаем файлы\n",
    "    hypothesis, orders, visitors = (\n",
    "    pd.read_csv('C:/Users/dnast/Downloads/Проект Принятие решений в бизнесе/hypothesis.csv'),\n",
    "    pd.read_csv('C:/Users/dnast/Downloads/Проект Принятие решений в бизнесе/orders.csv'),\n",
    "    pd.read_csv('C:/Users/dnast/Downloads/Проект Принятие решений в бизнесе/visitors.csv'),  \n",
    "    )"
   ]
  },
  {
   "cell_type": "code",
   "execution_count": 3,
   "metadata": {},
   "outputs": [],
   "source": [
    "# создаём функцию для проверки данных в файлах\n",
    "\n",
    "def analyze_file(df):\n",
    "     # описание данных\n",
    "    description = df.describe()\n",
    "\n",
    "    # анализ наиболее часто встречающихся строк с помощью value_counts\n",
    "    most_frequent_rows = df.apply(tuple, axis=1).value_counts().reset_index()\n",
    "    most_frequent_rows.columns = ['Строка', 'Частота']\n",
    "\n",
    "    # первые несколько строк\n",
    "    first_few_rows = df.head()\n",
    "\n",
    "    # обзор данных\n",
    "    data_info = df.info()\n",
    "\n",
    "    print('*' * 50)  \n",
    "\n",
    "    return {\n",
    "        'first_few_rows': first_few_rows,\n",
    "        'description': description,\n",
    "        'most_frequent_rows': most_frequent_rows,\n",
    "        'data_info': data_info\n",
    "    }\n"
   ]
  },
  {
   "cell_type": "code",
   "execution_count": 4,
   "metadata": {
    "scrolled": true
   },
   "outputs": [
    {
     "name": "stdout",
     "output_type": "stream",
     "text": [
      "<class 'pandas.core.frame.DataFrame'>\n",
      "RangeIndex: 9 entries, 0 to 8\n",
      "Data columns (total 5 columns):\n",
      " #   Column      Non-Null Count  Dtype \n",
      "---  ------      --------------  ----- \n",
      " 0   Hypothesis  9 non-null      object\n",
      " 1   Reach       9 non-null      int64 \n",
      " 2   Impact      9 non-null      int64 \n",
      " 3   Confidence  9 non-null      int64 \n",
      " 4   Efforts     9 non-null      int64 \n",
      "dtypes: int64(4), object(1)\n",
      "memory usage: 488.0+ bytes\n",
      "**************************************************\n"
     ]
    },
    {
     "data": {
      "text/plain": [
       "{'first_few_rows':                                           Hypothesis  Reach  Impact  \\\n",
       " 0  Добавить два новых канала привлечения трафика,...      3      10   \n",
       " 1  Запустить собственную службу доставки, что сок...      2       5   \n",
       " 2  Добавить блоки рекомендаций товаров на сайт ин...      8       3   \n",
       " 3  Изменить структура категорий, что увеличит кон...      8       3   \n",
       " 4  Изменить цвет фона главной страницы, чтобы уве...      3       1   \n",
       " \n",
       "    Confidence  Efforts  \n",
       " 0           8        6  \n",
       " 1           4       10  \n",
       " 2           7        3  \n",
       " 3           3        8  \n",
       " 4           1        1  ,\n",
       " 'description':            Reach     Impact  Confidence    Efforts\n",
       " count   9.000000   9.000000    9.000000   9.000000\n",
       " mean    4.777778   4.777778    5.555556   4.888889\n",
       " std     3.153481   3.192874    3.045944   2.803767\n",
       " min     1.000000   1.000000    1.000000   1.000000\n",
       " 25%     3.000000   3.000000    3.000000   3.000000\n",
       " 50%     3.000000   3.000000    7.000000   5.000000\n",
       " 75%     8.000000   7.000000    8.000000   6.000000\n",
       " max    10.000000  10.000000    9.000000  10.000000,\n",
       " 'most_frequent_rows':                                               Строка  Частота\n",
       " 0  (Добавить два новых канала привлечения трафика...        1\n",
       " 1  (Запустить собственную службу доставки, что со...        1\n",
       " 2  (Добавить блоки рекомендаций товаров на сайт и...        1\n",
       " 3  (Изменить структура категорий, что увеличит ко...        1\n",
       " 4  (Изменить цвет фона главной страницы, чтобы ув...        1\n",
       " 5  (Добавить страницу отзывов клиентов о магазине...        1\n",
       " 6  (Показать на главной странице баннеры с актуал...        1\n",
       " 7  (Добавить форму подписки на все основные стран...        1\n",
       " 8  (Запустить акцию, дающую скидку на товар в ден...        1,\n",
       " 'data_info': None}"
      ]
     },
     "execution_count": 4,
     "metadata": {},
     "output_type": "execute_result"
    }
   ],
   "source": [
    "# проверяем данные в гипотезах\n",
    "analyze_file(hypothesis)"
   ]
  },
  {
   "cell_type": "code",
   "execution_count": 5,
   "metadata": {},
   "outputs": [],
   "source": [
    "# переводим названия колонок в нижний регистр\n",
    "hypothesis.columns = hypothesis.columns.str.lower()"
   ]
  },
  {
   "cell_type": "markdown",
   "metadata": {},
   "source": [
    "**Пропусков и повторов нет, названия приведены к pep8, форматы данных в столбцах корректные.**"
   ]
  },
  {
   "cell_type": "code",
   "execution_count": 6,
   "metadata": {},
   "outputs": [
    {
     "name": "stdout",
     "output_type": "stream",
     "text": [
      "<class 'pandas.core.frame.DataFrame'>\n",
      "RangeIndex: 1197 entries, 0 to 1196\n",
      "Data columns (total 5 columns):\n",
      " #   Column         Non-Null Count  Dtype \n",
      "---  ------         --------------  ----- \n",
      " 0   transactionId  1197 non-null   int64 \n",
      " 1   visitorId      1197 non-null   int64 \n",
      " 2   date           1197 non-null   object\n",
      " 3   revenue        1197 non-null   int64 \n",
      " 4   group          1197 non-null   object\n",
      "dtypes: int64(3), object(2)\n",
      "memory usage: 46.9+ KB\n",
      "**************************************************\n"
     ]
    },
    {
     "data": {
      "text/plain": [
       "{'first_few_rows':    transactionId   visitorId        date  revenue group\n",
       " 0     3667963787  3312258926  2019-08-15     1650     B\n",
       " 1     2804400009  3642806036  2019-08-15      730     B\n",
       " 2     2961555356  4069496402  2019-08-15      400     A\n",
       " 3     3797467345  1196621759  2019-08-15     9759     B\n",
       " 4     2282983706  2322279887  2019-08-15     2308     B,\n",
       " 'description':        transactionId     visitorId       revenue\n",
       " count   1.197000e+03  1.197000e+03  1.197000e+03\n",
       " mean    2.155621e+09  2.165960e+09  8.348006e+03\n",
       " std     1.229085e+09  1.236014e+09  3.919113e+04\n",
       " min     1.062393e+06  5.114589e+06  5.000000e+01\n",
       " 25%     1.166776e+09  1.111826e+09  1.220000e+03\n",
       " 50%     2.145194e+09  2.217985e+09  2.978000e+03\n",
       " 75%     3.237740e+09  3.177606e+09  8.290000e+03\n",
       " max     4.293856e+09  4.283872e+09  1.294500e+06,\n",
       " 'most_frequent_rows':                                                Строка  Частота\n",
       " 0       (3667963787, 3312258926, 2019-08-15, 1650, B)        1\n",
       " 1        (4167421281, 154825609, 2019-08-05, 4210, B)        1\n",
       " 2        (2875229767, 1627549308, 2019-08-05, 650, B)        1\n",
       " 3         (504373597, 2604012846, 2019-08-05, 890, B)        1\n",
       " 4        (2017680897, 399216493, 2019-08-05, 1640, A)        1\n",
       " ...                                               ...      ...\n",
       " 1192    (1853288890, 4171878080, 2019-08-28, 9990, B)        1\n",
       " 1193    (2084190534, 3673190339, 2019-08-28, 3890, A)        1\n",
       " 1194     (2956594374, 3260527149, 2019-08-28, 690, B)        1\n",
       " 1195     (3646798055, 709955468, 2019-08-28, 9990, B)        1\n",
       " 1196  (3936777065, 2108080724, 2019-08-15, 202740, B)        1\n",
       " \n",
       " [1197 rows x 2 columns],\n",
       " 'data_info': None}"
      ]
     },
     "execution_count": 6,
     "metadata": {},
     "output_type": "execute_result"
    }
   ],
   "source": [
    "# проверяем данные в заказах\n",
    "analyze_file(orders)"
   ]
  },
  {
   "cell_type": "code",
   "execution_count": 7,
   "metadata": {},
   "outputs": [],
   "source": [
    "# меняем названия колонок\n",
    "orders.rename(columns={'transactionId': 'transaction_id', 'visitorId':'visitor_id'}, inplace=True)"
   ]
  },
  {
   "cell_type": "code",
   "execution_count": 8,
   "metadata": {},
   "outputs": [],
   "source": [
    "# меняем формат колонки с датой\n",
    "orders['date'] = orders['date'].map(lambda x: dt.datetime.strptime(x, '%Y-%m-%d'))"
   ]
  },
  {
   "cell_type": "code",
   "execution_count": 9,
   "metadata": {},
   "outputs": [
    {
     "name": "stdout",
     "output_type": "stream",
     "text": [
      "<class 'pandas.core.frame.DataFrame'>\n",
      "RangeIndex: 1197 entries, 0 to 1196\n",
      "Data columns (total 5 columns):\n",
      " #   Column          Non-Null Count  Dtype         \n",
      "---  ------          --------------  -----         \n",
      " 0   transaction_id  1197 non-null   int64         \n",
      " 1   visitor_id      1197 non-null   int64         \n",
      " 2   date            1197 non-null   datetime64[ns]\n",
      " 3   revenue         1197 non-null   int64         \n",
      " 4   group           1197 non-null   object        \n",
      "dtypes: datetime64[ns](1), int64(3), object(1)\n",
      "memory usage: 46.9+ KB\n",
      "**************************************************\n"
     ]
    },
    {
     "data": {
      "text/plain": [
       "{'first_few_rows':    transaction_id  visitor_id       date  revenue group\n",
       " 0      3667963787  3312258926 2019-08-15     1650     B\n",
       " 1      2804400009  3642806036 2019-08-15      730     B\n",
       " 2      2961555356  4069496402 2019-08-15      400     A\n",
       " 3      3797467345  1196621759 2019-08-15     9759     B\n",
       " 4      2282983706  2322279887 2019-08-15     2308     B,\n",
       " 'description':        transaction_id    visitor_id       revenue\n",
       " count    1.197000e+03  1.197000e+03  1.197000e+03\n",
       " mean     2.155621e+09  2.165960e+09  8.348006e+03\n",
       " std      1.229085e+09  1.236014e+09  3.919113e+04\n",
       " min      1.062393e+06  5.114589e+06  5.000000e+01\n",
       " 25%      1.166776e+09  1.111826e+09  1.220000e+03\n",
       " 50%      2.145194e+09  2.217985e+09  2.978000e+03\n",
       " 75%      3.237740e+09  3.177606e+09  8.290000e+03\n",
       " max      4.293856e+09  4.283872e+09  1.294500e+06,\n",
       " 'most_frequent_rows':                                                  Строка  Частота\n",
       " 0     (3667963787, 3312258926, 2019-08-15 00:00:00, ...        1\n",
       " 1     (4167421281, 154825609, 2019-08-05 00:00:00, 4...        1\n",
       " 2     (2875229767, 1627549308, 2019-08-05 00:00:00, ...        1\n",
       " 3     (504373597, 2604012846, 2019-08-05 00:00:00, 8...        1\n",
       " 4     (2017680897, 399216493, 2019-08-05 00:00:00, 1...        1\n",
       " ...                                                 ...      ...\n",
       " 1192  (1853288890, 4171878080, 2019-08-28 00:00:00, ...        1\n",
       " 1193  (2084190534, 3673190339, 2019-08-28 00:00:00, ...        1\n",
       " 1194  (2956594374, 3260527149, 2019-08-28 00:00:00, ...        1\n",
       " 1195  (3646798055, 709955468, 2019-08-28 00:00:00, 9...        1\n",
       " 1196  (3936777065, 2108080724, 2019-08-15 00:00:00, ...        1\n",
       " \n",
       " [1197 rows x 2 columns],\n",
       " 'data_info': None}"
      ]
     },
     "execution_count": 9,
     "metadata": {},
     "output_type": "execute_result"
    }
   ],
   "source": [
    "# проверка \n",
    "analyze_file(orders)"
   ]
  },
  {
   "cell_type": "markdown",
   "metadata": {},
   "source": [
    "**Изменены названия столбцов по pep8, заменён формат данных в date на корректный, пропусков и повторов нет.**"
   ]
  },
  {
   "cell_type": "code",
   "execution_count": 10,
   "metadata": {},
   "outputs": [
    {
     "name": "stdout",
     "output_type": "stream",
     "text": [
      "<class 'pandas.core.frame.DataFrame'>\n",
      "RangeIndex: 62 entries, 0 to 61\n",
      "Data columns (total 3 columns):\n",
      " #   Column    Non-Null Count  Dtype \n",
      "---  ------    --------------  ----- \n",
      " 0   date      62 non-null     object\n",
      " 1   group     62 non-null     object\n",
      " 2   visitors  62 non-null     int64 \n",
      "dtypes: int64(1), object(2)\n",
      "memory usage: 1.6+ KB\n",
      "**************************************************\n"
     ]
    },
    {
     "data": {
      "text/plain": [
       "{'first_few_rows':          date group  visitors\n",
       " 0  2019-08-01     A       719\n",
       " 1  2019-08-02     A       619\n",
       " 2  2019-08-03     A       507\n",
       " 3  2019-08-04     A       717\n",
       " 4  2019-08-05     A       756,\n",
       " 'description':          visitors\n",
       " count   62.000000\n",
       " mean   607.290323\n",
       " std    114.400560\n",
       " min    361.000000\n",
       " 25%    534.000000\n",
       " 50%    624.500000\n",
       " 75%    710.500000\n",
       " max    770.000000,\n",
       " 'most_frequent_rows':                   Строка  Частота\n",
       " 0   (2019-08-01, A, 719)        1\n",
       " 1   (2019-08-16, B, 413)        1\n",
       " 2   (2019-08-03, B, 509)        1\n",
       " 3   (2019-08-04, B, 770)        1\n",
       " 4   (2019-08-05, B, 707)        1\n",
       " ..                   ...      ...\n",
       " 57  (2019-08-26, A, 722)        1\n",
       " 58  (2019-08-27, A, 711)        1\n",
       " 59  (2019-08-28, A, 594)        1\n",
       " 60  (2019-08-29, A, 577)        1\n",
       " 61  (2019-08-31, B, 718)        1\n",
       " \n",
       " [62 rows x 2 columns],\n",
       " 'data_info': None}"
      ]
     },
     "execution_count": 10,
     "metadata": {},
     "output_type": "execute_result"
    }
   ],
   "source": [
    "# проверяем данные в посетителях\n",
    "analyze_file(visitors)"
   ]
  },
  {
   "cell_type": "code",
   "execution_count": 11,
   "metadata": {},
   "outputs": [],
   "source": [
    "# меняем формат колонки с датой\n",
    "visitors['date'] = visitors['date'].map(lambda x: dt.datetime.strptime(x, '%Y-%m-%d'))"
   ]
  },
  {
   "cell_type": "code",
   "execution_count": 12,
   "metadata": {},
   "outputs": [
    {
     "name": "stdout",
     "output_type": "stream",
     "text": [
      "<class 'pandas.core.frame.DataFrame'>\n",
      "RangeIndex: 62 entries, 0 to 61\n",
      "Data columns (total 3 columns):\n",
      " #   Column    Non-Null Count  Dtype         \n",
      "---  ------    --------------  -----         \n",
      " 0   date      62 non-null     datetime64[ns]\n",
      " 1   group     62 non-null     object        \n",
      " 2   visitors  62 non-null     int64         \n",
      "dtypes: datetime64[ns](1), int64(1), object(1)\n",
      "memory usage: 1.6+ KB\n"
     ]
    }
   ],
   "source": [
    "# проверка\n",
    "visitors.info()"
   ]
  },
  {
   "cell_type": "markdown",
   "metadata": {},
   "source": [
    "**Пропусков и повторов нет, названия по pep8, формат данных в date заменён на корректный.**"
   ]
  },
  {
   "cell_type": "markdown",
   "metadata": {},
   "source": [
    "## 2. Приоритизация гипотез."
   ]
  },
  {
   "cell_type": "markdown",
   "metadata": {},
   "source": [
    "### 2.1. Фреймворк ICE для приоритизации гипотез."
   ]
  },
  {
   "cell_type": "code",
   "execution_count": 13,
   "metadata": {},
   "outputs": [
    {
     "data": {
      "text/html": [
       "<div>\n",
       "<style scoped>\n",
       "    .dataframe tbody tr th:only-of-type {\n",
       "        vertical-align: middle;\n",
       "    }\n",
       "\n",
       "    .dataframe tbody tr th {\n",
       "        vertical-align: top;\n",
       "    }\n",
       "\n",
       "    .dataframe thead th {\n",
       "        text-align: right;\n",
       "    }\n",
       "</style>\n",
       "<table border=\"1\" class=\"dataframe\">\n",
       "  <thead>\n",
       "    <tr style=\"text-align: right;\">\n",
       "      <th></th>\n",
       "      <th>hypothesis</th>\n",
       "      <th>reach</th>\n",
       "      <th>impact</th>\n",
       "      <th>confidence</th>\n",
       "      <th>efforts</th>\n",
       "    </tr>\n",
       "  </thead>\n",
       "  <tbody>\n",
       "    <tr>\n",
       "      <th>0</th>\n",
       "      <td>Добавить два новых канала привлечения трафика, что позволит привлекать на 30% больше пользователей</td>\n",
       "      <td>3</td>\n",
       "      <td>10</td>\n",
       "      <td>8</td>\n",
       "      <td>6</td>\n",
       "    </tr>\n",
       "    <tr>\n",
       "      <th>1</th>\n",
       "      <td>Запустить собственную службу доставки, что сократит срок доставки заказов</td>\n",
       "      <td>2</td>\n",
       "      <td>5</td>\n",
       "      <td>4</td>\n",
       "      <td>10</td>\n",
       "    </tr>\n",
       "    <tr>\n",
       "      <th>2</th>\n",
       "      <td>Добавить блоки рекомендаций товаров на сайт интернет магазина, чтобы повысить конверсию и средни...</td>\n",
       "      <td>8</td>\n",
       "      <td>3</td>\n",
       "      <td>7</td>\n",
       "      <td>3</td>\n",
       "    </tr>\n",
       "    <tr>\n",
       "      <th>3</th>\n",
       "      <td>Изменить структура категорий, что увеличит конверсию, т.к. пользователи быстрее найдут нужный товар</td>\n",
       "      <td>8</td>\n",
       "      <td>3</td>\n",
       "      <td>3</td>\n",
       "      <td>8</td>\n",
       "    </tr>\n",
       "    <tr>\n",
       "      <th>4</th>\n",
       "      <td>Изменить цвет фона главной страницы, чтобы увеличить вовлеченность пользователей</td>\n",
       "      <td>3</td>\n",
       "      <td>1</td>\n",
       "      <td>1</td>\n",
       "      <td>1</td>\n",
       "    </tr>\n",
       "  </tbody>\n",
       "</table>\n",
       "</div>"
      ],
      "text/plain": [
       "                                                                                            hypothesis  \\\n",
       "0   Добавить два новых канала привлечения трафика, что позволит привлекать на 30% больше пользователей   \n",
       "1                            Запустить собственную службу доставки, что сократит срок доставки заказов   \n",
       "2  Добавить блоки рекомендаций товаров на сайт интернет магазина, чтобы повысить конверсию и средни...   \n",
       "3  Изменить структура категорий, что увеличит конверсию, т.к. пользователи быстрее найдут нужный товар   \n",
       "4                     Изменить цвет фона главной страницы, чтобы увеличить вовлеченность пользователей   \n",
       "\n",
       "   reach  impact  confidence  efforts  \n",
       "0      3      10           8        6  \n",
       "1      2       5           4       10  \n",
       "2      8       3           7        3  \n",
       "3      8       3           3        8  \n",
       "4      3       1           1        1  "
      ]
     },
     "execution_count": 13,
     "metadata": {},
     "output_type": "execute_result"
    }
   ],
   "source": [
    "pd.options.display.max_colwidth = 100\n",
    "hypothesis.head()"
   ]
  },
  {
   "cell_type": "code",
   "execution_count": 14,
   "metadata": {
    "scrolled": false
   },
   "outputs": [],
   "source": [
    "# делаем оценку по ICE в новой колонке\n",
    "hypothesis['ICE'] = round(hypothesis['impact']*hypothesis['confidence']/hypothesis['efforts'],2)"
   ]
  },
  {
   "cell_type": "code",
   "execution_count": 15,
   "metadata": {},
   "outputs": [
    {
     "name": "stdout",
     "output_type": "stream",
     "text": [
      "                                                                                                     hypothesis  \\\n",
      "8                                                       Запустить акцию, дающую скидку на товар в день рождения   \n",
      "0            Добавить два новых канала привлечения трафика, что позволит привлекать на 30% больше пользователей   \n",
      "7              Добавить форму подписки на все основные страницы, чтобы собрать базу клиентов для email-рассылок   \n",
      "6          Показать на главной странице баннеры с актуальными акциями и распродажами, чтобы увеличить конверсию   \n",
      "2  Добавить блоки рекомендаций товаров на сайт интернет магазина, чтобы повысить конверсию и средний чек заказа   \n",
      "1                                     Запустить собственную службу доставки, что сократит срок доставки заказов   \n",
      "5                      Добавить страницу отзывов клиентов о магазине, что позволит увеличить количество заказов   \n",
      "3           Изменить структура категорий, что увеличит конверсию, т.к. пользователи быстрее найдут нужный товар   \n",
      "4                              Изменить цвет фона главной страницы, чтобы увеличить вовлеченность пользователей   \n",
      "\n",
      "     ICE  \n",
      "8  16.20  \n",
      "0  13.33  \n",
      "7  11.20  \n",
      "6   8.00  \n",
      "2   7.00  \n",
      "1   2.00  \n",
      "5   1.33  \n",
      "3   1.12  \n",
      "4   1.00  \n"
     ]
    }
   ],
   "source": [
    "# вывод результата\n",
    "pd.options.display.max_colwidth = 200\n",
    "print(hypothesis[['hypothesis', 'ICE']].sort_values(by='ICE', ascending = False))"
   ]
  },
  {
   "cell_type": "markdown",
   "metadata": {},
   "source": [
    "**В пятёрке приоритетов по гипотезам:** \n",
    "\n",
    "**1** (индекс 8) Запустить акцию, дающую скидку на товар в день рождения   \n",
    "**2** (индекс 0) Добавить два новых канала привлечения трафика, что позволит привлекать на 30% больше пользователей   \n",
    "**3** (индекс 7) Добавить форму подписки на все основные страницы, чтобы собрать базу клиентов для email-рассылок   \n",
    "**4** (индекс 6) Показать на главной странице баннеры с актуальными акциями и распродажами, чтобы увеличить конверсию   \n",
    "**5** (индекс 2) Добавить блоки рекомендаций товаров на сайт интернет магазина, чтобы повысить конверсию и средний чек заказа   "
   ]
  },
  {
   "cell_type": "markdown",
   "metadata": {},
   "source": [
    "### 2.2. Фреймворк RICE для приоритизации гипотез."
   ]
  },
  {
   "cell_type": "code",
   "execution_count": 16,
   "metadata": {},
   "outputs": [],
   "source": [
    "# делаем оценку по ICE в новой колонке\n",
    "hypothesis['RICE'] = (hypothesis['reach']*hypothesis['impact']*hypothesis['confidence'])/hypothesis['efforts']"
   ]
  },
  {
   "cell_type": "code",
   "execution_count": 17,
   "metadata": {},
   "outputs": [
    {
     "name": "stdout",
     "output_type": "stream",
     "text": [
      "                                                                                                     hypothesis  \\\n",
      "7              Добавить форму подписки на все основные страницы, чтобы собрать базу клиентов для email-рассылок   \n",
      "2  Добавить блоки рекомендаций товаров на сайт интернет магазина, чтобы повысить конверсию и средний чек заказа   \n",
      "0            Добавить два новых канала привлечения трафика, что позволит привлекать на 30% больше пользователей   \n",
      "6          Показать на главной странице баннеры с актуальными акциями и распродажами, чтобы увеличить конверсию   \n",
      "8                                                       Запустить акцию, дающую скидку на товар в день рождения   \n",
      "3           Изменить структура категорий, что увеличит конверсию, т.к. пользователи быстрее найдут нужный товар   \n",
      "1                                     Запустить собственную службу доставки, что сократит срок доставки заказов   \n",
      "5                      Добавить страницу отзывов клиентов о магазине, что позволит увеличить количество заказов   \n",
      "4                              Изменить цвет фона главной страницы, чтобы увеличить вовлеченность пользователей   \n",
      "\n",
      "    RICE  \n",
      "7  112.0  \n",
      "2   56.0  \n",
      "0   40.0  \n",
      "6   40.0  \n",
      "8   16.2  \n",
      "3    9.0  \n",
      "1    4.0  \n",
      "5    4.0  \n",
      "4    3.0  \n"
     ]
    }
   ],
   "source": [
    "# вывод результата\n",
    "pd.options.display.max_colwidth = 200\n",
    "print(hypothesis[['hypothesis', 'RICE']].sort_values(by='RICE', ascending=False))"
   ]
  },
  {
   "cell_type": "markdown",
   "metadata": {},
   "source": [
    "**В пятёрке приоритетов по гипотезам:** \n",
    "\n",
    "**1** (индекс 7) Добавить форму подписки на все основные страницы, чтобы собрать базу клиентов для email-рассылок   \n",
    "**2** (индекс 2) Добавить блоки рекомендаций товаров на сайт интернет магазина, чтобы повысить конверсию и средний чек заказа   \n",
    "**3** (индекс 0) Добавить два новых канала привлечения трафика, что позволит привлекать на 30% больше пользователей   \n",
    "**4** (индекс 6) Показать на главной странице баннеры с актуальными акциями и распродажами, чтобы увеличить конверсию   \n",
    "**5** (индекс 8) Запустить акцию, дающую скидку на товар в день рождения\n",
    "\n",
    "- Гипотеза \"Добавить форму подписки на все основные страницы, чтобы собрать базу клиентов для email-рассылок\" (индекс 7) перешла с третьего места по ICE на первое место по RICE.\n",
    "- Гипотеза \"Запустить акцию, дающую скидку на товар в день рождения\" (индекс 8) с первого места по ICE ушла на 5 место по RICE. \n",
    "- Гипотеза \"Добавить два новых канала привлечения трафика, что позволит привлекать на 30% больше пользователей\" (индекс 0) перешла со второго на третье. \n",
    "- А гипотеза \"Добавить блоки рекомендаций товаров на сайт интернет магазина, чтобы повысить конверсию и средний чек заказа\" (индекс 2) - с пятого на второе место. \n",
    "- Только гипотеза \"Показать на главной странице баннеры с актуальными акциями и распродажами, чтобы увеличить конверсию\" (индекс 6) осталась на том же четвёртом месте. \n",
    "\n",
    "**Изменения связаны с оценкой охвата пользователей, которых затронет изменение (\"reach\").** \n",
    "\n",
    "У гипотезы \"Запустить акцию, дающую скидку на товар в день рождения\" (индекс 8) охват всего лишь 1, \n",
    "а у гипотезы \"Добавить форму подписки на все основные страницы, чтобы собрать базу клиентов для email-рассылок\" (индекс 7) охват все 10 баллов. \n",
    "\n",
    "Высокий охват и у гипотезы \"Добавить блоки рекомендаций товаров на сайт интернет магазина, чтобы повысить конверсию и средний чек заказа\" (индекс 2) - 8 баллов, поэтому она так поднялась.\n",
    "\n",
    "**Охват имеет большое значение для роста выручки, поэтому предлагается начать проверку приоритетных гипотез по RICE.**"
   ]
  },
  {
   "cell_type": "markdown",
   "metadata": {},
   "source": [
    "## 3. Анализ A/B-теста."
   ]
  },
  {
   "cell_type": "markdown",
   "metadata": {},
   "source": [
    "### 3.1. График кумулятивной выручки по группам."
   ]
  },
  {
   "cell_type": "code",
   "execution_count": 18,
   "metadata": {},
   "outputs": [],
   "source": [
    "# создаем массив уникальных пар значений дат и групп теста\n",
    "dates_groups = orders[['date','group']].drop_duplicates()"
   ]
  },
  {
   "cell_type": "code",
   "execution_count": 19,
   "metadata": {},
   "outputs": [],
   "source": [
    "# получаем агрегированные кумулятивные данные о заказах по дням и группам\n",
    "orders_aggregated = (dates_groups\n",
    "                     .apply(lambda x: orders[np.logical_and(orders['date'] <= x['date'], orders['group'] == x['group'])]\n",
    "                            .agg({'date' : 'max', 'group' : 'max', 'transaction_id' : 'nunique', 'visitor_id' : 'nunique', 'revenue' : 'sum'}), axis=1)\n",
    "                     .sort_values(by=['date','group'])\n",
    "                    )"
   ]
  },
  {
   "cell_type": "code",
   "execution_count": 20,
   "metadata": {},
   "outputs": [],
   "source": [
    "# получаем агрегированные кумулятивные данные о посетителях интернет-магазина \n",
    "visitors_aggregated = (dates_groups\n",
    "                       .apply(lambda x: visitors[np.logical_and(visitors['date'] <= x['date'], visitors['group'] == x['group'])]\n",
    "                              .agg({'date' : 'max', 'group' : 'max', 'visitors' : 'sum'}), axis=1)\n",
    "                       .sort_values(by=['date','group'])\n",
    "                      )"
   ]
  },
  {
   "cell_type": "code",
   "execution_count": 21,
   "metadata": {},
   "outputs": [],
   "source": [
    "# объединяем кумулятивные данные в одной таблице и присваиваем ее столбцам понятные названия\n",
    "cumulative_data = orders_aggregated.merge(visitors_aggregated, left_on=['date', 'group'], right_on=['date', 'group'])\n",
    "\n",
    "#даём названия колонкам\n",
    "cumulative_data.columns = ['date', 'group', 'orders', 'buyers', 'revenue', 'visitors']"
   ]
  },
  {
   "cell_type": "code",
   "execution_count": 22,
   "metadata": {},
   "outputs": [
    {
     "data": {
      "text/html": [
       "<div>\n",
       "<style scoped>\n",
       "    .dataframe tbody tr th:only-of-type {\n",
       "        vertical-align: middle;\n",
       "    }\n",
       "\n",
       "    .dataframe tbody tr th {\n",
       "        vertical-align: top;\n",
       "    }\n",
       "\n",
       "    .dataframe thead th {\n",
       "        text-align: right;\n",
       "    }\n",
       "</style>\n",
       "<table border=\"1\" class=\"dataframe\">\n",
       "  <thead>\n",
       "    <tr style=\"text-align: right;\">\n",
       "      <th></th>\n",
       "      <th>date</th>\n",
       "      <th>group</th>\n",
       "      <th>orders</th>\n",
       "      <th>buyers</th>\n",
       "      <th>revenue</th>\n",
       "      <th>visitors</th>\n",
       "    </tr>\n",
       "  </thead>\n",
       "  <tbody>\n",
       "    <tr>\n",
       "      <th>0</th>\n",
       "      <td>2019-08-01</td>\n",
       "      <td>A</td>\n",
       "      <td>24</td>\n",
       "      <td>20</td>\n",
       "      <td>148579</td>\n",
       "      <td>719</td>\n",
       "    </tr>\n",
       "    <tr>\n",
       "      <th>1</th>\n",
       "      <td>2019-08-01</td>\n",
       "      <td>B</td>\n",
       "      <td>21</td>\n",
       "      <td>20</td>\n",
       "      <td>101217</td>\n",
       "      <td>713</td>\n",
       "    </tr>\n",
       "    <tr>\n",
       "      <th>2</th>\n",
       "      <td>2019-08-02</td>\n",
       "      <td>A</td>\n",
       "      <td>44</td>\n",
       "      <td>38</td>\n",
       "      <td>242401</td>\n",
       "      <td>1338</td>\n",
       "    </tr>\n",
       "    <tr>\n",
       "      <th>3</th>\n",
       "      <td>2019-08-02</td>\n",
       "      <td>B</td>\n",
       "      <td>45</td>\n",
       "      <td>43</td>\n",
       "      <td>266748</td>\n",
       "      <td>1294</td>\n",
       "    </tr>\n",
       "    <tr>\n",
       "      <th>4</th>\n",
       "      <td>2019-08-03</td>\n",
       "      <td>A</td>\n",
       "      <td>68</td>\n",
       "      <td>62</td>\n",
       "      <td>354874</td>\n",
       "      <td>1845</td>\n",
       "    </tr>\n",
       "  </tbody>\n",
       "</table>\n",
       "</div>"
      ],
      "text/plain": [
       "        date group  orders  buyers  revenue  visitors\n",
       "0 2019-08-01     A      24      20   148579       719\n",
       "1 2019-08-01     B      21      20   101217       713\n",
       "2 2019-08-02     A      44      38   242401      1338\n",
       "3 2019-08-02     B      45      43   266748      1294\n",
       "4 2019-08-03     A      68      62   354874      1845"
      ]
     },
     "execution_count": 22,
     "metadata": {},
     "output_type": "execute_result"
    }
   ],
   "source": [
    "# вывод первых строк\n",
    "cumulative_data.head(5)"
   ]
  },
  {
   "cell_type": "code",
   "execution_count": 23,
   "metadata": {},
   "outputs": [],
   "source": [
    "# датафрейм с кумулятивным количеством заказов и кумулятивной выручкой по дням в группе А\n",
    "cumulative_revenue_a = cumulative_data[cumulative_data['group']=='A'][['date','revenue', 'orders']]"
   ]
  },
  {
   "cell_type": "code",
   "execution_count": 24,
   "metadata": {},
   "outputs": [],
   "source": [
    "# датафрейм с кумулятивным количеством заказов и кумулятивной выручкой по дням в группе B\n",
    "cumulative_revenue_b = cumulative_data[cumulative_data['group']=='B'][['date','revenue', 'orders']]"
   ]
  },
  {
   "cell_type": "code",
   "execution_count": 25,
   "metadata": {
    "scrolled": true
   },
   "outputs": [
    {
     "data": {
      "text/html": [
       "<div>\n",
       "<style scoped>\n",
       "    .dataframe tbody tr th:only-of-type {\n",
       "        vertical-align: middle;\n",
       "    }\n",
       "\n",
       "    .dataframe tbody tr th {\n",
       "        vertical-align: top;\n",
       "    }\n",
       "\n",
       "    .dataframe thead th {\n",
       "        text-align: right;\n",
       "    }\n",
       "</style>\n",
       "<table border=\"1\" class=\"dataframe\">\n",
       "  <thead>\n",
       "    <tr style=\"text-align: right;\">\n",
       "      <th></th>\n",
       "      <th>date</th>\n",
       "      <th>revenue</th>\n",
       "      <th>orders</th>\n",
       "    </tr>\n",
       "  </thead>\n",
       "  <tbody>\n",
       "    <tr>\n",
       "      <th>1</th>\n",
       "      <td>2019-08-01</td>\n",
       "      <td>101217</td>\n",
       "      <td>21</td>\n",
       "    </tr>\n",
       "    <tr>\n",
       "      <th>3</th>\n",
       "      <td>2019-08-02</td>\n",
       "      <td>266748</td>\n",
       "      <td>45</td>\n",
       "    </tr>\n",
       "    <tr>\n",
       "      <th>5</th>\n",
       "      <td>2019-08-03</td>\n",
       "      <td>380996</td>\n",
       "      <td>61</td>\n",
       "    </tr>\n",
       "    <tr>\n",
       "      <th>7</th>\n",
       "      <td>2019-08-04</td>\n",
       "      <td>489567</td>\n",
       "      <td>78</td>\n",
       "    </tr>\n",
       "    <tr>\n",
       "      <th>9</th>\n",
       "      <td>2019-08-05</td>\n",
       "      <td>581995</td>\n",
       "      <td>101</td>\n",
       "    </tr>\n",
       "  </tbody>\n",
       "</table>\n",
       "</div>"
      ],
      "text/plain": [
       "        date  revenue  orders\n",
       "1 2019-08-01   101217      21\n",
       "3 2019-08-02   266748      45\n",
       "5 2019-08-03   380996      61\n",
       "7 2019-08-04   489567      78\n",
       "9 2019-08-05   581995     101"
      ]
     },
     "execution_count": 25,
     "metadata": {},
     "output_type": "execute_result"
    }
   ],
   "source": [
    "cumulative_revenue_b.head()"
   ]
  },
  {
   "cell_type": "code",
   "execution_count": 26,
   "metadata": {
    "scrolled": false
   },
   "outputs": [
    {
     "data": {
      "text/html": [
       "<div>\n",
       "<style scoped>\n",
       "    .dataframe tbody tr th:only-of-type {\n",
       "        vertical-align: middle;\n",
       "    }\n",
       "\n",
       "    .dataframe tbody tr th {\n",
       "        vertical-align: top;\n",
       "    }\n",
       "\n",
       "    .dataframe thead th {\n",
       "        text-align: right;\n",
       "    }\n",
       "</style>\n",
       "<table border=\"1\" class=\"dataframe\">\n",
       "  <thead>\n",
       "    <tr style=\"text-align: right;\">\n",
       "      <th></th>\n",
       "      <th>buyers</th>\n",
       "    </tr>\n",
       "    <tr>\n",
       "      <th>group</th>\n",
       "      <th></th>\n",
       "    </tr>\n",
       "  </thead>\n",
       "  <tbody>\n",
       "    <tr>\n",
       "      <th>A</th>\n",
       "      <td>503</td>\n",
       "    </tr>\n",
       "    <tr>\n",
       "      <th>B</th>\n",
       "      <td>586</td>\n",
       "    </tr>\n",
       "  </tbody>\n",
       "</table>\n",
       "</div>"
      ],
      "text/plain": [
       "       buyers\n",
       "group        \n",
       "A         503\n",
       "B         586"
      ]
     },
     "execution_count": 26,
     "metadata": {},
     "output_type": "execute_result"
    }
   ],
   "source": [
    "# для начала проверим количество покупателей в обеих группах\n",
    "buyers_number = orders.groupby('group').agg({'visitor_id':'nunique'})\n",
    "buyers_number.columns = ['buyers']\n",
    "buyers_number"
   ]
  },
  {
   "cell_type": "markdown",
   "metadata": {},
   "source": [
    "**В группе А - 503 покупателя, а в группе В - 586 покупателей. Необходимо проверить, есть ли пересекающиеся покупатели.**"
   ]
  },
  {
   "cell_type": "code",
   "execution_count": 27,
   "metadata": {},
   "outputs": [],
   "source": [
    "# создаём таблицу с id покупателей и булевым значением: если у покупателя 1 значение группы - True, если нет - False\n",
    "migrating_status = orders.groupby('visitor_id')['group'].nunique() == 1#"
   ]
  },
  {
   "cell_type": "code",
   "execution_count": 28,
   "metadata": {
    "scrolled": true
   },
   "outputs": [
    {
     "data": {
      "text/plain": [
       "visitor_id\n",
       "5114589      True\n",
       "6958315      True\n",
       "8300375     False\n",
       "11685486     True\n",
       "39475350     True\n",
       "Name: group, dtype: bool"
      ]
     },
     "execution_count": 28,
     "metadata": {},
     "output_type": "execute_result"
    }
   ],
   "source": [
    "# вывод первых строк\n",
    "migrating_status.head()"
   ]
  },
  {
   "cell_type": "code",
   "execution_count": 29,
   "metadata": {},
   "outputs": [
    {
     "name": "stdout",
     "output_type": "stream",
     "text": [
      "Количество покупателей, попавших в обе группы: 58\n"
     ]
    }
   ],
   "source": [
    "# создаём список id покупателей, у которых больше одной группы\n",
    "migrating_buyers = migrating_status[migrating_status == False].index\n",
    "\n",
    "# считаем таких покупателей\n",
    "count_migrating_buyers = len(migrating_status[migrating_status == False])\n",
    "\n",
    "# вывод числа покупателей, которые вошли в обе группы\n",
    "print('Количество покупателей, попавших в обе группы:', count_migrating_buyers)"
   ]
  },
  {
   "cell_type": "markdown",
   "metadata": {},
   "source": [
    "**58 покупателей вошли и в группу А, и в группу В.**\n",
    "      "
   ]
  },
  {
   "cell_type": "markdown",
   "metadata": {},
   "source": [
    "**Всего покупателей, которые вошли и в группу А, и в группу В, 58, что составляет 12% от покупателей группы А и 10% от покупателей группы В. \n",
    "Эти покупатели видели оба варианта и мы не знаем, что именно повлияло на решение о покупке. Кроме того, есть ли такие \"мигрирующие\" между группами пользователи без покупок, проверить невозможно, так как данные по ним дали уже агрегированными. С руководителем проекта решено оставить этих пользователей для анализа в датасете и отдельно разобраться, почему данные собраны не совсем корректно.**   "
   ]
  },
  {
   "cell_type": "code",
   "execution_count": 33,
   "metadata": {},
   "outputs": [
    {
     "data": {
      "image/png": "[encoded data removed]",
      "text/plain": [
       "<Figure size 640x480 with 1 Axes>"
      ]
     },
     "metadata": {},
     "output_type": "display_data"
    }
   ],
   "source": [
    "# Строим график выручки группы А\n",
    "plt.plot(cumulative_revenue_a['date'], cumulative_revenue_a['revenue'], label='A')\n",
    "\n",
    "# Строим график выручки группы B\n",
    "plt.plot(cumulative_revenue_b['date'], cumulative_revenue_b['revenue'], label='B')\n",
    "\n",
    "# форматируем цифры по оси y\n",
    "plt.ticklabel_format(style='plain', axis='y')\n",
    "\n",
    "# выводим легенду\n",
    "plt.legend()\n",
    "\n",
    "# поворачиваем даты на 45 градусов\n",
    "plt.xticks(rotation=45) \n",
    "\n",
    "# добавляем названия осей и графика\n",
    "plt.ylabel('Кумулятивная выручка')\n",
    "plt.title('Кумулятивная выручка по группам')\n",
    "\n",
    "plt.show();"
   ]
  },
  {
   "cell_type": "markdown",
   "metadata": {},
   "source": [
    "**Кумулятивная выручка для обеих групп растёт в течение всего теста. Это хороший признак.\n",
    "У группы В виден резский рост в двух точках, особенно стремительный на неделе 17-21 авуста. Это может говорить об аномалиях (дорогие заказы или большое количество заказов). За счёт этого роста кумулятивная выручка группы В выше по итогам теста, чем группы А. Но для корректного вывода нужно очистить данные от аномалий.** "
   ]
  },
  {
   "cell_type": "markdown",
   "metadata": {},
   "source": [
    "### 3.2. График кумулятивного среднего чека по группам."
   ]
  },
  {
   "cell_type": "code",
   "execution_count": 34,
   "metadata": {},
   "outputs": [
    {
     "data": {
      "image/png": "[encoded data removed]",
      "text/plain": [
       "<Figure size 640x480 with 1 Axes>"
      ]
     },
     "metadata": {},
     "output_type": "display_data"
    }
   ],
   "source": [
    "plt.plot(cumulative_revenue_a['date'], cumulative_revenue_a['revenue']/cumulative_revenue_a['orders'], label='A')\n",
    "plt.plot(cumulative_revenue_b['date'], cumulative_revenue_b['revenue']/cumulative_revenue_b['orders'], label='B')\n",
    "plt.legend()\n",
    "\n",
    "# поворачиваем даты на 45 градусов\n",
    "plt.xticks(rotation=45) \n",
    "\n",
    "# добавляем названия осей и графика\n",
    "plt.ylabel('Кумулятивный средний чек')\n",
    "plt.title('Кумулятивный средний чек по группам')\n",
    "\n",
    "plt.show();"
   ]
  },
  {
   "cell_type": "markdown",
   "metadata": {},
   "source": [
    "**Кумулятивный средний чек то растёт, то падает в обеих группах. Из-за этой нестабильности сложно сделать какой-либо вывод.\n",
    "Однако, средний чек группы В существенно выше, и аномально высокий скачок произошёл также как и в кумулятивной выручке на неделе 17-21 августа, а потом пошёл на спад (но не такой стремительный как был рост). Ещё один признак того, что нужно проверить данные на аномальные заказы.** "
   ]
  },
  {
   "cell_type": "markdown",
   "metadata": {},
   "source": [
    "### 3.3. График относительного изменения кумулятивного среднего чека группы B к группе A."
   ]
  },
  {
   "cell_type": "code",
   "execution_count": 35,
   "metadata": {},
   "outputs": [],
   "source": [
    "# собираем данные в одном датафрейме\n",
    "merged_cumulative_revenue = cumulative_revenue_a.merge(cumulative_revenue_b, \n",
    "                                                       left_on='date', right_on='date', how='left', suffixes=['A', 'B'])"
   ]
  },
  {
   "cell_type": "code",
   "execution_count": 36,
   "metadata": {},
   "outputs": [],
   "source": [
    "# создаём функцию для вывода процентов\n",
    "def percent_formatter(x, pos):\n",
    "    return f'{x:.0f}%'"
   ]
  },
  {
   "cell_type": "code",
   "execution_count": 37,
   "metadata": {},
   "outputs": [
    {
     "data": {
      "image/png": "[encoded data removed]",
      "text/plain": [
       "<Figure size 640x480 with 1 Axes>"
      ]
     },
     "metadata": {},
     "output_type": "display_data"
    }
   ],
   "source": [
    "# собираем данные для графика\n",
    "x_values = merged_cumulative_revenue['date']\n",
    "y_values = ((merged_cumulative_revenue['revenueB'] / merged_cumulative_revenue['ordersB']) /\n",
    "            (merged_cumulative_revenue['revenueA'] / merged_cumulative_revenue['ordersA']) - 1) * 100\n",
    "\n",
    "# создаём график\n",
    "plt.plot(x_values, y_values,\n",
    "         label=\"Относительный прирост кумулятивного среднего чека группы B относительно группы A\")\n",
    "\n",
    "plt.legend()\n",
    "plt.axhline(y=0, color='black', linestyle='--')\n",
    "plt.xticks(rotation=45)\n",
    "\n",
    "y_formatter = FuncFormatter(percent_formatter)\n",
    "plt.gca().yaxis.set_major_formatter(y_formatter)\n",
    "\n",
    "# добавляем названия\n",
    "plt.ylabel('Кумулятивное изменение среднего чека в %')\n",
    "plt.title('Изменение кумулятивного среднего чека группы B к группе A')\n",
    "\n",
    "plt.show()\n"
   ]
  },
  {
   "cell_type": "markdown",
   "metadata": {},
   "source": [
    "**График среднего чека сильно скачет, что снова указывает на то, что в выборках есть крыпные заказы, меняющие картину.**"
   ]
  },
  {
   "cell_type": "markdown",
   "metadata": {},
   "source": [
    "### 3.4. График кумулятивного среднего количества заказов на посетителя по группам."
   ]
  },
  {
   "cell_type": "code",
   "execution_count": 38,
   "metadata": {
    "scrolled": true
   },
   "outputs": [],
   "source": [
    "# считаем кумулятивную конверсию\n",
    "cumulative_data['conversion'] = cumulative_data['orders']/cumulative_data['visitors']"
   ]
  },
  {
   "cell_type": "code",
   "execution_count": 39,
   "metadata": {},
   "outputs": [],
   "source": [
    "# отделяем данные по группе A\n",
    "cumulative_data_a = cumulative_data[cumulative_data['group']=='A']"
   ]
  },
  {
   "cell_type": "code",
   "execution_count": 40,
   "metadata": {},
   "outputs": [],
   "source": [
    "# отделяем данные по группе B\n",
    "cumulative_data_b = cumulative_data[cumulative_data['group']=='B']"
   ]
  },
  {
   "cell_type": "code",
   "execution_count": 41,
   "metadata": {},
   "outputs": [
    {
     "data": {
      "image/png": "[encoded data removed]",
      "text/plain": [
       "<Figure size 640x480 with 1 Axes>"
      ]
     },
     "metadata": {},
     "output_type": "display_data"
    }
   ],
   "source": [
    "# задаём данные\n",
    "x_values_a = cumulative_data_a['date']\n",
    "x_values_b = cumulative_data_b['date']\n",
    "y_values_a = cumulative_data_a['conversion']\n",
    "y_values_b = cumulative_data_b['conversion']\n",
    "\n",
    "# график для группы А\n",
    "plt.plot(x_values_a, y_values_a, label='A')\n",
    "\n",
    "# график для группы B\n",
    "plt.plot(x_values_b, y_values_b, label='B')\n",
    "\n",
    "plt.legend()\n",
    "plt.xticks(rotation=45)\n",
    "\n",
    "# форматирование в проценты\n",
    "y_formatter = FuncFormatter(percent_formatter)\n",
    "plt.gca().yaxis.set_major_formatter(y_formatter)\n",
    "\n",
    "# названия для осей и графика\n",
    "plt.ylabel('Кумулятивная конверсия')\n",
    "plt.title('Кумулятивная конверсия группы A и группы B')\n",
    "\n",
    "plt.show()\n"
   ]
  },
  {
   "cell_type": "markdown",
   "metadata": {},
   "source": [
    "**Конверсия по группам зеркально расходится: группа В идет вверх, а группа А идёт вниз. Видно много шумов (скачки в точках). Лучше исключить аномалии, что быть уверенными в выводах.**"
   ]
  },
  {
   "cell_type": "markdown",
   "metadata": {},
   "source": [
    "### 3.5. График относительного изменения кумулятивного среднего количества заказов на посетителя группы B к группе A."
   ]
  },
  {
   "cell_type": "code",
   "execution_count": 42,
   "metadata": {},
   "outputs": [],
   "source": [
    "# создаем таблицу с данными о конверсии\n",
    "merged_cumulative_conversions = cumulative_data_a[['date','conversion']].merge(cumulative_data_b[['date','conversion']], \n",
    "                                                                           left_on='date', right_on='date', how='left', \n",
    "                                                                           suffixes=['A', 'B'])"
   ]
  },
  {
   "cell_type": "code",
   "execution_count": 43,
   "metadata": {},
   "outputs": [
    {
     "data": {
      "image/png": "[encoded data removed]",
      "text/plain": [
       "<Figure size 640x480 with 1 Axes>"
      ]
     },
     "metadata": {},
     "output_type": "display_data"
    }
   ],
   "source": [
    "# собираем данные для графика\n",
    "x_values = merged_cumulative_conversions['date']\n",
    "y_values = (merged_cumulative_conversions['conversionB'] / merged_cumulative_conversions['conversionA'] - 1) * 100\n",
    "\n",
    "# создаём график\n",
    "plt.plot(x_values, y_values, label=\"Относительный прирост конверсии группы B относительно группы A\")\n",
    "\n",
    "# выводим легенду\n",
    "plt.legend()\n",
    "\n",
    "# задаём линии на 0 и -10 %\n",
    "plt.axhline(y=0, color='black', linestyle='--')\n",
    "plt.axhline(y=-10, color='grey', linestyle='--')  \n",
    "\n",
    "# поворачиваем даты на 45 градусов\n",
    "plt.xticks(rotation=45)\n",
    "\n",
    "y_formatter = FuncFormatter(percent_formatter)\n",
    "plt.gca().yaxis.set_major_formatter(y_formatter)\n",
    "\n",
    "# задаём названия\n",
    "plt.ylabel('Изменение конверсии в %')\n",
    "plt.title('Кумулятивное изменение конверсии группы B к группе A')\n",
    "\n",
    "plt.show()\n"
   ]
  },
  {
   "cell_type": "markdown",
   "metadata": {},
   "source": [
    "**Конверсия группы В сначала была значительно ниже группы А, но затем вырвалась вперёд и большую часть теста выше конверсии группы А. При этом видно, что она колеблется - то выше, то ниже. На текущий момент конверсия группы В выше примерно на 14% конверсии группы А.\n",
    "Окончательно можно сделать вывод, что конверсия группы В значительно выше группы А, когда будут исключены аномалии.** "
   ]
  },
  {
   "cell_type": "markdown",
   "metadata": {},
   "source": [
    "### 3.6. Точечный график количества заказов по пользователям."
   ]
  },
  {
   "cell_type": "code",
   "execution_count": 44,
   "metadata": {},
   "outputs": [],
   "source": [
    "# группируем количество заказов по пользователям\n",
    "orders_by_users = (\n",
    "    orders.groupby('visitor_id', as_index=False)\n",
    "    .agg({'transaction_id': 'nunique'})\n",
    ")"
   ]
  },
  {
   "cell_type": "code",
   "execution_count": 45,
   "metadata": {},
   "outputs": [],
   "source": [
    "# даём названия колонкам\n",
    "orders_by_users.columns = ['visitor_id', 'orders']"
   ]
  },
  {
   "cell_type": "code",
   "execution_count": 46,
   "metadata": {},
   "outputs": [
    {
     "data": {
      "text/html": [
       "<div>\n",
       "<style scoped>\n",
       "    .dataframe tbody tr th:only-of-type {\n",
       "        vertical-align: middle;\n",
       "    }\n",
       "\n",
       "    .dataframe tbody tr th {\n",
       "        vertical-align: top;\n",
       "    }\n",
       "\n",
       "    .dataframe thead th {\n",
       "        text-align: right;\n",
       "    }\n",
       "</style>\n",
       "<table border=\"1\" class=\"dataframe\">\n",
       "  <thead>\n",
       "    <tr style=\"text-align: right;\">\n",
       "      <th></th>\n",
       "      <th>visitor_id</th>\n",
       "      <th>orders</th>\n",
       "    </tr>\n",
       "  </thead>\n",
       "  <tbody>\n",
       "    <tr>\n",
       "      <th>1023</th>\n",
       "      <td>4256040402</td>\n",
       "      <td>11</td>\n",
       "    </tr>\n",
       "    <tr>\n",
       "      <th>591</th>\n",
       "      <td>2458001652</td>\n",
       "      <td>11</td>\n",
       "    </tr>\n",
       "    <tr>\n",
       "      <th>569</th>\n",
       "      <td>2378935119</td>\n",
       "      <td>9</td>\n",
       "    </tr>\n",
       "    <tr>\n",
       "      <th>487</th>\n",
       "      <td>2038680547</td>\n",
       "      <td>8</td>\n",
       "    </tr>\n",
       "    <tr>\n",
       "      <th>44</th>\n",
       "      <td>199603092</td>\n",
       "      <td>5</td>\n",
       "    </tr>\n",
       "  </tbody>\n",
       "</table>\n",
       "</div>"
      ],
      "text/plain": [
       "      visitor_id  orders\n",
       "1023  4256040402      11\n",
       "591   2458001652      11\n",
       "569   2378935119       9\n",
       "487   2038680547       8\n",
       "44     199603092       5"
      ]
     },
     "execution_count": 46,
     "metadata": {},
     "output_type": "execute_result"
    }
   ],
   "source": [
    "# вывод первых строк по убыванию\n",
    "orders_by_users.sort_values(by='orders', ascending=False).head()"
   ]
  },
  {
   "cell_type": "code",
   "execution_count": 47,
   "metadata": {
    "scrolled": false
   },
   "outputs": [
    {
     "data": {
      "image/png": "[encoded data removed]",
      "text/plain": [
       "<Figure size 640x480 with 1 Axes>"
      ]
     },
     "metadata": {},
     "output_type": "display_data"
    }
   ],
   "source": [
    "# строим точечный график\n",
    "x_values = pd.Series(range(0,len(orders_by_users)))\n",
    "plt.scatter(x_values, orders_by_users['orders'])\n",
    "\n",
    "# Добавляем названия осей и графика\n",
    "plt.xlabel('Количество клиентов')\n",
    "plt.ylabel('Количество заказов')\n",
    "plt.title('График количества заказов')\n",
    "\n",
    "plt.show()"
   ]
  },
  {
   "cell_type": "markdown",
   "metadata": {},
   "source": [
    "**На графике видно, что у большей части клиентов 2 и менее заказов. Проверим это через перцентили.**"
   ]
  },
  {
   "cell_type": "markdown",
   "metadata": {},
   "source": [
    "### 3.7. 95-й и 99-й перцентили количества заказов на пользователя. Граница для определения аномальных пользователей."
   ]
  },
  {
   "cell_type": "code",
   "execution_count": 48,
   "metadata": {},
   "outputs": [
    {
     "data": {
      "text/plain": [
       "array([1., 2., 4.])"
      ]
     },
     "execution_count": 48,
     "metadata": {},
     "output_type": "execute_result"
    }
   ],
   "source": [
    "# вычисляем перцентили\n",
    "np.percentile(orders_by_users['orders'], [90, 95, 99])"
   ]
  },
  {
   "cell_type": "markdown",
   "metadata": {},
   "source": [
    "**- 10% пользователей делали более 1 заказа,**\n",
    "\n",
    "**- не более 5 % оформляли более 2 заказов,**\n",
    "\n",
    "**- не более 1 % клиентов заказывали более 4 заказов.**\n",
    "\n",
    "**Можно считать количество заказов выше 2 аномальным.**"
   ]
  },
  {
   "cell_type": "markdown",
   "metadata": {},
   "source": [
    "### 3.8. Точечный график стоимостей заказов. "
   ]
  },
  {
   "cell_type": "code",
   "execution_count": 49,
   "metadata": {},
   "outputs": [
    {
     "data": {
      "image/png": "[encoded data removed]",
      "text/plain": [
       "<Figure size 640x480 with 1 Axes>"
      ]
     },
     "metadata": {},
     "output_type": "display_data"
    }
   ],
   "source": [
    "# задаём данные для графика\n",
    "x_values = pd.Series(range(0, len(orders['revenue'])))\n",
    "y_values = orders['revenue']\n",
    "\n",
    "# создаём точечный график\n",
    "plt.scatter(x_values, y_values)\n",
    "\n",
    "# форматируем цифры по оси y\n",
    "plt.ticklabel_format(style='plain', axis='y')\n",
    "\n",
    "# Добавляем названия осей и графика\n",
    "plt.xlabel('Количество заказов')\n",
    "plt.ylabel('Сумма заказов')\n",
    "plt.title('График стоимости заказов')\n",
    "\n",
    "plt.show()"
   ]
  },
  {
   "cell_type": "markdown",
   "metadata": {},
   "source": [
    "**Мы видим очень аномальный заказ - больше 1 млн 200 тысяч. \n",
    "При этом практически все заказы стоимостью не больше примерно 50 тысяч. Скорее всего, все заказы сверх 50 тыс. можно считать аномальными, но проверим перцентили.**"
   ]
  },
  {
   "cell_type": "markdown",
   "metadata": {},
   "source": [
    "### 3.9. 95-й и 99-й перцентили стоимости заказов. Граница для определения аномальных заказов."
   ]
  },
  {
   "cell_type": "code",
   "execution_count": 50,
   "metadata": {},
   "outputs": [
    {
     "data": {
      "text/plain": [
       "array([18168. , 28000. , 58233.2])"
      ]
     },
     "execution_count": 50,
     "metadata": {},
     "output_type": "execute_result"
    }
   ],
   "source": [
    "# вычисляем перцентили\n",
    "np.percentile(orders['revenue'], [90, 95, 99])"
   ]
  },
  {
   "cell_type": "markdown",
   "metadata": {},
   "source": [
    "**- не более 10% заказов на сумму более 18 168,**\n",
    "\n",
    "**- не более 5 % заказов на сумму более 28 000,**\n",
    "\n",
    "**- не более 1 % заказов на сумму 58 233.**\n",
    "\n",
    "**Можно считать заказы на сумму свыше 20 000 рублей аномальными.**"
   ]
  },
  {
   "cell_type": "markdown",
   "metadata": {},
   "source": [
    "### 3.10. Статистическая значимость различий в среднем количестве заказов на посетителя между группами по «сырым» данным."
   ]
  },
  {
   "cell_type": "code",
   "execution_count": 51,
   "metadata": {},
   "outputs": [
    {
     "data": {
      "text/html": [
       "<div>\n",
       "<style scoped>\n",
       "    .dataframe tbody tr th:only-of-type {\n",
       "        vertical-align: middle;\n",
       "    }\n",
       "\n",
       "    .dataframe tbody tr th {\n",
       "        vertical-align: top;\n",
       "    }\n",
       "\n",
       "    .dataframe thead th {\n",
       "        text-align: right;\n",
       "    }\n",
       "</style>\n",
       "<table border=\"1\" class=\"dataframe\">\n",
       "  <thead>\n",
       "    <tr style=\"text-align: right;\">\n",
       "      <th></th>\n",
       "      <th>transaction_id</th>\n",
       "      <th>visitor_id</th>\n",
       "      <th>date</th>\n",
       "      <th>revenue</th>\n",
       "      <th>group</th>\n",
       "    </tr>\n",
       "  </thead>\n",
       "  <tbody>\n",
       "    <tr>\n",
       "      <th>0</th>\n",
       "      <td>3667963787</td>\n",
       "      <td>3312258926</td>\n",
       "      <td>2019-08-15</td>\n",
       "      <td>1650</td>\n",
       "      <td>B</td>\n",
       "    </tr>\n",
       "    <tr>\n",
       "      <th>1</th>\n",
       "      <td>2804400009</td>\n",
       "      <td>3642806036</td>\n",
       "      <td>2019-08-15</td>\n",
       "      <td>730</td>\n",
       "      <td>B</td>\n",
       "    </tr>\n",
       "    <tr>\n",
       "      <th>2</th>\n",
       "      <td>2961555356</td>\n",
       "      <td>4069496402</td>\n",
       "      <td>2019-08-15</td>\n",
       "      <td>400</td>\n",
       "      <td>A</td>\n",
       "    </tr>\n",
       "    <tr>\n",
       "      <th>3</th>\n",
       "      <td>3797467345</td>\n",
       "      <td>1196621759</td>\n",
       "      <td>2019-08-15</td>\n",
       "      <td>9759</td>\n",
       "      <td>B</td>\n",
       "    </tr>\n",
       "    <tr>\n",
       "      <th>4</th>\n",
       "      <td>2282983706</td>\n",
       "      <td>2322279887</td>\n",
       "      <td>2019-08-15</td>\n",
       "      <td>2308</td>\n",
       "      <td>B</td>\n",
       "    </tr>\n",
       "  </tbody>\n",
       "</table>\n",
       "</div>"
      ],
      "text/plain": [
       "   transaction_id  visitor_id       date  revenue group\n",
       "0      3667963787  3312258926 2019-08-15     1650     B\n",
       "1      2804400009  3642806036 2019-08-15      730     B\n",
       "2      2961555356  4069496402 2019-08-15      400     A\n",
       "3      3797467345  1196621759 2019-08-15     9759     B\n",
       "4      2282983706  2322279887 2019-08-15     2308     B"
      ]
     },
     "execution_count": 51,
     "metadata": {},
     "output_type": "execute_result"
    }
   ],
   "source": [
    "orders.head()"
   ]
  },
  {
   "cell_type": "code",
   "execution_count": 52,
   "metadata": {},
   "outputs": [],
   "source": [
    "# создаем таблицу заказов по посетителям для группы А \n",
    "\n",
    "orders_by_users_a = (\n",
    "    orders[orders['group'] == 'A']\n",
    "    .groupby('visitor_id', as_index=False)\n",
    "    .agg({'transaction_id': pd.Series.nunique})\n",
    ")\n",
    "\n",
    "orders_by_users_a.columns = ['visitor_id', 'orders']"
   ]
  },
  {
   "cell_type": "code",
   "execution_count": 53,
   "metadata": {},
   "outputs": [],
   "source": [
    "# создаем таблицу заказов по посетителям для группы В\n",
    "\n",
    "orders_by_users_b = (\n",
    "    orders[orders['group'] == 'B']\n",
    "    .groupby('visitor_id', as_index=False)\n",
    "    .agg({'transaction_id': pd.Series.nunique})\n",
    ")\n",
    "\n",
    "orders_by_users_b.columns = ['visitor_id', 'orders']"
   ]
  },
  {
   "cell_type": "code",
   "execution_count": 54,
   "metadata": {},
   "outputs": [],
   "source": [
    "# создаем таблицу количества посетителей по датам для группы А \n",
    "\n",
    "visitors_daily_a = visitors[visitors['group'] == 'A'][['date', 'visitors']]\n",
    "visitors_daily_a.columns = ['date', 'visitors_per_date_a']"
   ]
  },
  {
   "cell_type": "code",
   "execution_count": 55,
   "metadata": {},
   "outputs": [],
   "source": [
    "# создаем таблицу количества посетителей по датам для группы В\n",
    "\n",
    "visitors_daily_b = visitors[visitors['group'] == 'B'][['date', 'visitors']]\n",
    "visitors_daily_b.columns = ['date', 'visitors_per_date_b']"
   ]
  },
  {
   "cell_type": "code",
   "execution_count": 56,
   "metadata": {},
   "outputs": [],
   "source": [
    "# создём таблицу с посетителями (с количеством заказов или с нулями при их отсутствии) для группы А\n",
    "\n",
    "sample_a = pd.concat(\n",
    "    [\n",
    "        orders_by_users_a['orders'],\n",
    "        pd.Series(\n",
    "            0,\n",
    "            index=np.arange(\n",
    "                visitors_daily_a['visitors_per_date_a'].sum() - len(orders_by_users_a['orders'])\n",
    "            ),\n",
    "            name='orders',\n",
    "        ),\n",
    "    ],\n",
    "    axis=0,\n",
    ")"
   ]
  },
  {
   "cell_type": "code",
   "execution_count": 57,
   "metadata": {},
   "outputs": [],
   "source": [
    "# создём таблицу с посетителями (с количеством заказов или с нулями при их отсутствии) для группы В\n",
    "\n",
    "sample_b = pd.concat(\n",
    "    [\n",
    "        orders_by_users_b['orders'],\n",
    "        pd.Series(\n",
    "            0,\n",
    "            index=np.arange(\n",
    "                visitors_daily_b['visitors_per_date_b'].sum() - len(orders_by_users_b['orders'])\n",
    "            ),\n",
    "            name='orders',\n",
    "        ),\n",
    "    ],\n",
    "    axis=0,\n",
    ")"
   ]
  },
  {
   "cell_type": "markdown",
   "metadata": {},
   "source": [
    "**Проверим нулевую гипотезу \"Cреднее количество заказов на посетителя по «сырым» данным между группами А и В равно\" тестом Уилкоксона-Манна-Уитни. \n",
    "Альтернативная гипотеза: \"Cреднее количество заказов на посетителя по «сырым» данным между группами А и В различается (не равно)\".**\n",
    " "
   ]
  },
  {
   "cell_type": "code",
   "execution_count": 58,
   "metadata": {
    "scrolled": true
   },
   "outputs": [
    {
     "data": {
      "text/plain": [
       "'Согласно тесту Уилкоксона-Манна-Уитни, p-value: 0.017'"
      ]
     },
     "metadata": {},
     "output_type": "display_data"
    },
    {
     "data": {
      "text/plain": [
       "'Относительное различие между средними в количестве заказов групп В и А: 0.138'"
      ]
     },
     "execution_count": 58,
     "metadata": {},
     "output_type": "execute_result"
    }
   ],
   "source": [
    "# проводим тест и считаем относительное различие между средними\n",
    "\n",
    "display(f\"{'Согласно тесту Уилкоксона-Манна-Уитни,'} p-value: {(stats.mannwhitneyu(sample_a, sample_b)[1]):.3f}\")\n",
    "\n",
    "f\"{'Относительное различие между средними в количестве заказов групп В и А'}: {(sample_b.mean() / sample_a.mean() - 1):.3f}\"\n"
   ]
  },
  {
   "cell_type": "markdown",
   "metadata": {},
   "source": [
    "**p-value меньше 5%, значит, мы отвергаем нулевую гипотезу о равенстве среднего количества заказов на посетителя между группами по «сырым» данным.**\n",
    "\n",
    "**Относительное различие средних по заказам в группе составляет 13,8% (в группе В больше, чем в группе А).**"
   ]
  },
  {
   "cell_type": "markdown",
   "metadata": {},
   "source": [
    "### 3.11. Статистическая значимость различий в среднем чеке заказа между группами по «сырым» данным."
   ]
  },
  {
   "cell_type": "markdown",
   "metadata": {},
   "source": [
    "**Проверим нулевую гипотезу \"Средние чеки заказов по «сырым» данным между группами А и В равны\" тестом Уилкоксона-Манна-Уитни. \n",
    "Альтернативная гипотеза: \"Cредние чеки заказов по «сырым» данным между группами А и В различаются (не равны)\".**\n",
    " "
   ]
  },
  {
   "cell_type": "code",
   "execution_count": 59,
   "metadata": {},
   "outputs": [
    {
     "data": {
      "text/plain": [
       "'Согласно тесту Уилкоксона-Манна-Уитни, p-value: 0.729'"
      ]
     },
     "metadata": {},
     "output_type": "display_data"
    },
    {
     "data": {
      "text/plain": [
       "'Относительное различие в среднем чеке В и А: 0.259'"
      ]
     },
     "execution_count": 59,
     "metadata": {},
     "output_type": "execute_result"
    }
   ],
   "source": [
    "# проводим тест и считаем относительное различие между средними\n",
    "\n",
    "result_1 = \"Согласно тесту Уилкоксона-Манна-Уитни, p-value: {:.3f}\".format(\n",
    "    stats.mannwhitneyu(\n",
    "        orders[orders['group'] == 'A']['revenue'],\n",
    "        orders[orders['group'] == 'B']['revenue']\n",
    "    )[1]\n",
    ")\n",
    "\n",
    "display(result_1)\n",
    "\n",
    "result_2 = \"Относительное различие в среднем чеке В и А: {:.3f}\".format(\n",
    "    orders[orders['group'] == 'B']['revenue'].mean() / orders[orders['group'] == 'A']['revenue'].mean() - 1\n",
    ")\n",
    "\n",
    "result_2"
   ]
  },
  {
   "cell_type": "markdown",
   "metadata": {},
   "source": [
    "**Полученный в ходе теста p-value 0,729 больше заданного уровня значимости 0,05, поэтому статистических отличий между средними чеками по \"сырым\" данным нет.**\n",
    "\n",
    "**Относительный прирост среднего чека группы B получился 25,9%. Как мы уже увидели выше, это различие не имеет статистической значимости, так как p-value больше alpha.** \n",
    "\n",
    "**Стоит провести тест на очищенных данных, чтобы выводы были более достоверными.**"
   ]
  },
  {
   "cell_type": "markdown",
   "metadata": {},
   "source": [
    "### 3.12. Статистическая значимость различий в среднем количестве заказов на посетителя между группами по «очищенным» данным. "
   ]
  },
  {
   "cell_type": "code",
   "execution_count": 61,
   "metadata": {},
   "outputs": [],
   "source": [
    "# создаём общий список id пользователей с аномальным количеством заказов\n",
    "\n",
    "users_with_many_orders = pd.concat(\n",
    "    [\n",
    "        orders_by_users_a[orders_by_users_a['orders'] > np.percentile(orders_by_users['orders'], 95)]['visitor_id'],\n",
    "        orders_by_users_b[orders_by_users_b['orders'] > np.percentile(orders_by_users['orders'], 95)]['visitor_id'],\n",
    "    ],\n",
    "    axis=0,\n",
    ")"
   ]
  },
  {
   "cell_type": "code",
   "execution_count": 63,
   "metadata": {},
   "outputs": [],
   "source": [
    "users_with_expensive_orders = orders[orders['revenue'] > np.percentile(orders['revenue'], 90)]['visitor_id']"
   ]
  },
  {
   "cell_type": "code",
   "execution_count": 64,
   "metadata": {},
   "outputs": [],
   "source": [
    "# создаём общий список id пользователей с аномальным количеством заказов и суммой заказов\n",
    "\n",
    "abnormal_users = (\n",
    "    pd.concat([users_with_many_orders, users_with_expensive_orders], axis=0)\n",
    "    .drop_duplicates()\n",
    "    .sort_values()\n",
    ")"
   ]
  },
  {
   "cell_type": "code",
   "execution_count": 65,
   "metadata": {},
   "outputs": [
    {
     "data": {
      "text/plain": [
       "568     113298937\n",
       "1099    148427295\n",
       "461     154576532\n",
       "18      199603092\n",
       "928     204675465\n",
       "Name: visitor_id, dtype: int64"
      ]
     },
     "execution_count": 65,
     "metadata": {},
     "output_type": "execute_result"
    }
   ],
   "source": [
    "# выводим первые строки списка\n",
    "\n",
    "abnormal_users.head(5)"
   ]
  },
  {
   "cell_type": "code",
   "execution_count": 66,
   "metadata": {},
   "outputs": [],
   "source": [
    "# выбираем тех пользователей, которых нет в списке аномальных, для группы А\n",
    "\n",
    "sample_filtered_a = pd.concat(\n",
    "    [\n",
    "        orders_by_users_a[\n",
    "            np.logical_not(orders_by_users_a['visitor_id'].isin(abnormal_users))\n",
    "        ]['orders'],\n",
    "        pd.Series(\n",
    "            0,\n",
    "            index=np.arange(\n",
    "                visitors_daily_a['visitors_per_date_a'].sum() - len(orders_by_users_a['orders'])\n",
    "            ),\n",
    "            name='orders',\n",
    "        ),\n",
    "    ],\n",
    "    axis=0,\n",
    ")"
   ]
  },
  {
   "cell_type": "code",
   "execution_count": 67,
   "metadata": {},
   "outputs": [],
   "source": [
    "# выбираем тех пользователей, которых нет в списке аномальных, для группы В\n",
    "\n",
    "sample_filtered_b = pd.concat(\n",
    "    [\n",
    "        orders_by_users_b[\n",
    "            np.logical_not(orders_by_users_b['visitor_id'].isin(abnormal_users))\n",
    "        ]['orders'],\n",
    "        pd.Series(\n",
    "            0,\n",
    "            index=np.arange(\n",
    "                visitors_daily_b['visitors_per_date_b'].sum() - len(orders_by_users_b['orders'])\n",
    "            ),\n",
    "            name='orders',\n",
    "        ),\n",
    "    ],\n",
    "    axis=0,\n",
    ")"
   ]
  },
  {
   "cell_type": "markdown",
   "metadata": {},
   "source": [
    "**Проверим нулевую гипотезу \"Cреднее количество заказов на посетителя по «очищенным» данным между группами А и В равно\" тестом Уилкоксона-Манна-Уитни. \n",
    "Альтернативная гипотеза: \"Cреднее количество заказов на посетителя по «очищенным» данным между группами А и В различается (не равно)\"**. "
   ]
  },
  {
   "cell_type": "code",
   "execution_count": 68,
   "metadata": {},
   "outputs": [
    {
     "data": {
      "text/plain": [
       "'Согласно тесту Уилкоксона-Манна-Уитни, p-value: 0.019'"
      ]
     },
     "metadata": {},
     "output_type": "display_data"
    },
    {
     "data": {
      "text/plain": [
       "'Относительное различие между средними в количестве заказов групп В и А: 0.172'"
      ]
     },
     "execution_count": 68,
     "metadata": {},
     "output_type": "execute_result"
    }
   ],
   "source": [
    "# проводим тест и считаем относительное различие между средними\n",
    "\n",
    "result_3 = \"Согласно тесту Уилкоксона-Манна-Уитни, p-value: {:.3f}\".format(\n",
    "    stats.mannwhitneyu(sample_filtered_a, sample_filtered_b)[1]\n",
    ")\n",
    "\n",
    "display(result_3)\n",
    "\n",
    "result_4 = \"Относительное различие между средними в количестве заказов групп В и А: {:.3f}\".format(\n",
    "    sample_filtered_b.mean() / sample_filtered_a.mean() - 1\n",
    ")\n",
    "\n",
    "result_4"
   ]
  },
  {
   "cell_type": "markdown",
   "metadata": {},
   "source": [
    "**p-value также как и в \"сырых\" данных оказался меньше меньше 5%, значит, мы отвергаем нулевую гипотезу о равенстве среднего количества заказов на посетителя между группами по очищенным данным.**\n",
    "\n",
    "**Относительное различие средних по заказам в группе составляет уже больше - 17% (в группе В больше, чем в группе А).**"
   ]
  },
  {
   "cell_type": "markdown",
   "metadata": {},
   "source": [
    "### 3.13. Статистическая значимость различий в среднем чеке заказа между группами по «очищенным» данным. "
   ]
  },
  {
   "cell_type": "markdown",
   "metadata": {},
   "source": [
    "**Проверим нулевую гипотезу \"Средние чеки заказов по «очищенным» данным между группами А и В равны\" тестом Уилкоксона-Манна-Уитни.** \n",
    "**Альтернативная гипотеза: \"Cредние чеки заказов по «очищенным» данным между группами А и В различаются (не равны)\".**\n",
    " "
   ]
  },
  {
   "cell_type": "code",
   "execution_count": 69,
   "metadata": {},
   "outputs": [
    {
     "data": {
      "text/plain": [
       "'Согласно тесту Уилкоксона-Манна-Уитни, p-value: 0.619'"
      ]
     },
     "metadata": {},
     "output_type": "display_data"
    }
   ],
   "source": [
    "display(f\"Согласно тесту Уилкоксона-Манна-Уитни, p-value: {'{0:.3f}'.format(stats.mannwhitneyu(orders[np.logical_and(orders['group'] == 'A', np.logical_not(orders['visitor_id'].isin(abnormal_users)))]['revenue'], orders[np.logical_and(orders['group'] == 'B', np.logical_not(orders['visitor_id'].isin(abnormal_users)))]['revenue'])[1])}\")\n"
   ]
  },
  {
   "cell_type": "code",
   "execution_count": 70,
   "metadata": {},
   "outputs": [
    {
     "data": {
      "text/plain": [
       "'Согласно тесту Уилкоксона-Манна-Уитни, p-value: 0.619'"
      ]
     },
     "metadata": {},
     "output_type": "display_data"
    },
    {
     "data": {
      "text/plain": [
       "'Относительное различие в среднем чеке В и А: -0.049'"
      ]
     },
     "execution_count": 70,
     "metadata": {},
     "output_type": "execute_result"
    }
   ],
   "source": [
    "result_5 = \"Согласно тесту Уилкоксона-Манна-Уитни, p-value: {:.3f}\".format(\n",
    "    stats.mannwhitneyu(\n",
    "        orders[\n",
    "            np.logical_and(\n",
    "                orders['group'] == 'A',\n",
    "                np.logical_not(orders['visitor_id'].isin(abnormal_users))\n",
    "            )\n",
    "        ]['revenue'],\n",
    "        orders[\n",
    "            np.logical_and(\n",
    "                orders['group'] == 'B',\n",
    "                np.logical_not(orders['visitor_id'].isin(abnormal_users))\n",
    "            )\n",
    "        ]['revenue']\n",
    "    )[1]\n",
    ")\n",
    "\n",
    "display(result_5)\n",
    "\n",
    "result_6 = \"Относительное различие в среднем чеке В и А: {:.3f}\".format(\n",
    "    orders[\n",
    "        np.logical_and(\n",
    "            orders['group'] == 'B',\n",
    "            np.logical_not(orders['visitor_id'].isin(abnormal_users)),\n",
    "        )\n",
    "    ]['revenue'].mean()\n",
    "    / orders[\n",
    "        np.logical_and(\n",
    "            orders['group'] == 'A',\n",
    "            np.logical_not(orders['visitor_id'].isin(abnormal_users)),\n",
    "        )\n",
    "    ]['revenue'].mean()\n",
    "    - 1\n",
    ")\n",
    "\n",
    "result_6\n"
   ]
  },
  {
   "cell_type": "markdown",
   "metadata": {},
   "source": [
    "**p-value 0,619 выше 0,05 (как и в сырых данных), поэтому мы не отвергаем нулевую гипотезу о равенсте средних чеков групп А и В. \n",
    "А вот относительное изменение среднего чека группы B полностью изменилось: если на сырых данных был прирост 25,9%, то на очищенных данных видна убыль на -3%.** "
   ]
  },
  {
   "cell_type": "markdown",
   "metadata": {
    "id": "hbNu9EXeWVwo"
   },
   "source": [
    "<div style=\"border:solid Chocolate 2px; padding: 40px\">\n",
    "\n",
    "## Общий вывод.\n",
    "\n",
    "#### Предобработка данных. \n",
    "\n",
    "На этапе предобработки не выявлено дубликатов и пропусков. Были скорректированы заголовки столбцов согласно pep8, заменены форматы дат на datetime. \n",
    "\n",
    "#### Приоритезация гипотез. \n",
    "\n",
    "Так как охват пользователей, которых затронет изменение, имеет большое значение для роста выручки, предлагается начать проверку приоритетных гипотез по RICE. В пятёрке приоритетов гипотезы:\n",
    "    \n",
    "7    Добавить форму подписки на все основные страницы, чтобы собрать базу клиентов для email-рассылок   \n",
    "2  Добавить блоки рекомендаций товаров на сайт интернет магазина, чтобы повысить конверсию и средний чек заказа   \n",
    "0            Добавить два новых канала привлечения трафика, что позволит привлекать на 30% больше пользователей   \n",
    "6          Показать на главной странице баннеры с актуальными акциями и распродажами, чтобы увеличить конверсию   \n",
    "8                                                       Запустить акцию, дающую скидку на товар в день рождения   \n",
    "\n",
    "#### Анализ итогов А/В теста по кумулятивным метрикам на графиках.\n",
    "\n",
    "На всех графиках видны скачки разной интенсивности, что говорит о наличии аномалий и не даёт сделать окончательный вывод:\n",
    "\n",
    " - Кумулятивная выручка для обеих групп растёт в течение всего теста. У группы В выручка значительно выше. Видны резкие скачки в нескольких точках.\n",
    " \n",
    "- Кумулятивный средний чек то растёт, то падает в обеих группах. Однако, средний чек группы В существенно выше и есть аномально высокий скачок.\n",
    "\n",
    "- Изменение кумулятивного среднего чека группы В к группе А сильно скачет, невозможно сделать вывод.\n",
    "\n",
    "- Кумулятивная конверсия по группам зеркально расходится: группа В идет вверх, а группа А идёт вниз. Видно много шумов (скачки в точках). \n",
    "\n",
    "- Изменение кумулятивной конверсии группы В сначала было значительно ниже группы А, но затем вырвалось вперёд и большую часть теста выше конверсии группы А. При этом видно, что оно колеблется - то выше, то ниже, но уже не опускается ниже группы А, всегда значительно выше. \n",
    "\n",
    "####  Выявление аномалий. \n",
    "\n",
    "- Не более 5 % оформляли более 2 заказов, поэтому считаем количество заказов выше 2 аномальным.\n",
    "\n",
    "- Не более 10% заказов на сумму более 18 168, считаем заказы на сумму свыше 20 000 рублей аномальными.\n",
    "\n",
    "####  Проверка гипотез по «сырым» данным.\n",
    "\n",
    "- Отвергаем нулевую гипотезу о равенстве среднего количества заказов на посетителя между группами, относительное различие средних по заказам в группах составляет 13,8% (в группе В конверсия выше, чем в группе А).\n",
    "\n",
    "- Статистических отличий между средними чеками в группах нет. Однако относительный прирост среднего чека группы B получился 25,9%.Что довольно странно. \n",
    "\n",
    "####  Проверка гипотез по «очищенным» данным.\n",
    "\n",
    "- Также как и в \"сырых\" данных отвергаем нулевую гипотезу о равенстве конверсий. Относительное различие средних по заказам в группе составляет уже больше - в группе В конверсия выше на 17% , чем в группе А.\n",
    "\n",
    "-  Как и в \"сырых\" данных, мы не отвергаем нулевую гипотезу о равенсте средних чеков групп А и В. \n",
    "А вот относительное изменение среднего чека группы B полностью изменилось: видна убыль на -3%.\n"
   ]
  },
  {
   "cell_type": "markdown",
   "metadata": {},
   "source": [
    "<div style=\"border:solid Chocolate 2px; padding: 40px\">\n",
    "\n",
    "### Основные выводы и рекомендации по тесту:\n",
    "\n",
    " - Есть статистически значимое различие по конверсии между группами как по \"сырым\" данным, так и по данным, очищенным от аномалий.\n",
    " - По \"сырым\" данным у группы В средний чек на 25% выше, однако после очистки от аномалий у группы В чек стал ниже на 3%.\n",
    " - График различия конверсии между группами показывает, что результаты группы B лучше группы A: большую часть теста конверсия у В растёт и находится выше конверсии А. Однако конверсия не зафиксировалась, недавно было небольшое падение и снова пошёл рост.\n",
    " - График различия среднего чека колеблется так сильно, что сделать из этого графика определённые выводы нельзя.\n",
    " \n",
    "\n",
    "**Рекомендуется остановить тест, так как преимущество конверсии в группе В не падает ниже 10% и группу В можно признать победителем теста.**"
   ]
  },
  {
   "cell_type": "code",
   "execution_count": null,
   "metadata": {},
   "outputs": [],
   "source": []
  }
 ],
 "metadata": {
  "ExecuteTimeLog": [
   {
    "duration": 669,
    "start_time": "2023-08-19T20:29:45.624Z"
   },
   {
    "duration": 2443,
    "start_time": "2023-08-19T20:29:46.295Z"
   },
   {
    "duration": 17,
    "start_time": "2023-08-19T20:29:48.760Z"
   },
   {
    "duration": 111,
    "start_time": "2023-08-19T20:29:48.779Z"
   },
   {
    "duration": 4,
    "start_time": "2023-08-19T20:29:48.891Z"
   },
   {
    "duration": 275,
    "start_time": "2023-08-19T20:29:48.897Z"
   },
   {
    "duration": 96,
    "start_time": "2023-08-19T20:29:49.175Z"
   },
   {
    "duration": 22,
    "start_time": "2023-08-19T20:29:49.273Z"
   },
   {
    "duration": 77,
    "start_time": "2023-08-19T20:29:49.297Z"
   },
   {
    "duration": 21,
    "start_time": "2023-08-19T20:29:49.376Z"
   },
   {
    "duration": 302,
    "start_time": "2023-08-19T20:29:49.398Z"
   },
   {
    "duration": 70,
    "start_time": "2023-08-19T20:29:49.701Z"
   },
   {
    "duration": 11,
    "start_time": "2023-08-19T20:29:49.773Z"
   },
   {
    "duration": 3,
    "start_time": "2023-08-19T20:29:49.785Z"
   },
   {
    "duration": 11,
    "start_time": "2023-08-19T20:29:49.790Z"
   },
   {
    "duration": 11,
    "start_time": "2023-08-19T20:29:49.802Z"
   },
   {
    "duration": 8,
    "start_time": "2023-08-19T20:29:49.815Z"
   },
   {
    "duration": 7,
    "start_time": "2023-08-19T20:29:49.825Z"
   },
   {
    "duration": 14,
    "start_time": "2023-08-19T20:29:49.857Z"
   },
   {
    "duration": 4,
    "start_time": "2023-08-19T20:29:49.873Z"
   },
   {
    "duration": 6,
    "start_time": "2023-08-19T20:29:49.879Z"
   },
   {
    "duration": 10,
    "start_time": "2023-08-19T20:29:49.887Z"
   },
   {
    "duration": 8,
    "start_time": "2023-08-19T20:29:49.899Z"
   },
   {
    "duration": 9,
    "start_time": "2023-08-19T20:29:49.908Z"
   },
   {
    "duration": 24,
    "start_time": "2023-08-19T20:29:49.919Z"
   },
   {
    "duration": 24,
    "start_time": "2023-08-19T20:29:49.945Z"
   },
   {
    "duration": 16,
    "start_time": "2023-08-19T20:29:49.971Z"
   },
   {
    "duration": 12,
    "start_time": "2023-08-19T20:29:49.991Z"
   },
   {
    "duration": 14,
    "start_time": "2023-08-19T20:29:50.005Z"
   },
   {
    "duration": 11,
    "start_time": "2023-08-19T20:29:50.021Z"
   },
   {
    "duration": 13,
    "start_time": "2023-08-19T20:29:50.034Z"
   },
   {
    "duration": 24,
    "start_time": "2023-08-19T20:29:50.048Z"
   },
   {
    "duration": 473,
    "start_time": "2023-08-19T20:29:50.074Z"
   },
   {
    "duration": 23,
    "start_time": "2023-08-19T20:29:50.548Z"
   },
   {
    "duration": 15,
    "start_time": "2023-08-19T20:29:50.573Z"
   },
   {
    "duration": 20,
    "start_time": "2023-08-19T20:29:50.589Z"
   },
   {
    "duration": 20,
    "start_time": "2023-08-19T20:29:50.611Z"
   },
   {
    "duration": 43,
    "start_time": "2023-08-19T20:29:50.633Z"
   },
   {
    "duration": 4,
    "start_time": "2023-08-19T20:29:50.678Z"
   },
   {
    "duration": 16,
    "start_time": "2023-08-19T20:29:50.684Z"
   },
   {
    "duration": 7,
    "start_time": "2023-08-19T20:29:50.702Z"
   },
   {
    "duration": 112,
    "start_time": "2023-08-19T20:29:50.711Z"
   },
   {
    "duration": 0,
    "start_time": "2023-08-19T20:29:50.825Z"
   },
   {
    "duration": 0,
    "start_time": "2023-08-19T20:29:50.826Z"
   },
   {
    "duration": 0,
    "start_time": "2023-08-19T20:29:50.827Z"
   },
   {
    "duration": 1,
    "start_time": "2023-08-19T20:29:50.828Z"
   },
   {
    "duration": 0,
    "start_time": "2023-08-19T20:29:50.829Z"
   },
   {
    "duration": 0,
    "start_time": "2023-08-19T20:29:50.830Z"
   },
   {
    "duration": 0,
    "start_time": "2023-08-19T20:29:50.832Z"
   },
   {
    "duration": 0,
    "start_time": "2023-08-19T20:29:50.832Z"
   },
   {
    "duration": 0,
    "start_time": "2023-08-19T20:29:50.833Z"
   },
   {
    "duration": 0,
    "start_time": "2023-08-19T20:29:50.834Z"
   },
   {
    "duration": 0,
    "start_time": "2023-08-19T20:29:50.835Z"
   },
   {
    "duration": 1,
    "start_time": "2023-08-19T20:29:50.836Z"
   },
   {
    "duration": 0,
    "start_time": "2023-08-19T20:29:50.838Z"
   },
   {
    "duration": 0,
    "start_time": "2023-08-19T20:29:50.839Z"
   },
   {
    "duration": 0,
    "start_time": "2023-08-19T20:29:50.840Z"
   },
   {
    "duration": 0,
    "start_time": "2023-08-19T20:29:50.841Z"
   },
   {
    "duration": 0,
    "start_time": "2023-08-19T20:29:50.842Z"
   },
   {
    "duration": 615,
    "start_time": "2023-08-20T20:58:09.243Z"
   },
   {
    "duration": 1268,
    "start_time": "2023-08-20T20:58:09.860Z"
   },
   {
    "duration": 21,
    "start_time": "2023-08-20T20:58:11.129Z"
   },
   {
    "duration": 111,
    "start_time": "2023-08-20T20:58:11.152Z"
   },
   {
    "duration": 3,
    "start_time": "2023-08-20T20:58:11.264Z"
   },
   {
    "duration": 184,
    "start_time": "2023-08-20T20:58:11.269Z"
   },
   {
    "duration": 97,
    "start_time": "2023-08-20T20:58:11.455Z"
   },
   {
    "duration": 138,
    "start_time": "2023-08-20T20:58:11.553Z"
   },
   {
    "duration": 16,
    "start_time": "2023-08-20T20:58:11.693Z"
   },
   {
    "duration": 18,
    "start_time": "2023-08-20T20:58:11.712Z"
   },
   {
    "duration": 122,
    "start_time": "2023-08-20T20:58:11.732Z"
   },
   {
    "duration": 9,
    "start_time": "2023-08-20T20:58:11.856Z"
   },
   {
    "duration": 12,
    "start_time": "2023-08-20T20:58:11.866Z"
   },
   {
    "duration": 4,
    "start_time": "2023-08-20T20:58:11.879Z"
   },
   {
    "duration": 16,
    "start_time": "2023-08-20T20:58:11.885Z"
   },
   {
    "duration": 9,
    "start_time": "2023-08-20T20:58:11.903Z"
   },
   {
    "duration": 40,
    "start_time": "2023-08-20T20:58:11.914Z"
   },
   {
    "duration": 7,
    "start_time": "2023-08-20T20:58:11.956Z"
   },
   {
    "duration": 22,
    "start_time": "2023-08-20T20:58:11.965Z"
   },
   {
    "duration": 4,
    "start_time": "2023-08-20T20:58:11.989Z"
   },
   {
    "duration": 115,
    "start_time": "2023-08-20T20:58:11.995Z"
   },
   {
    "duration": 0,
    "start_time": "2023-08-20T20:58:12.112Z"
   },
   {
    "duration": 0,
    "start_time": "2023-08-20T20:58:12.113Z"
   },
   {
    "duration": 0,
    "start_time": "2023-08-20T20:58:12.115Z"
   },
   {
    "duration": 0,
    "start_time": "2023-08-20T20:58:12.116Z"
   },
   {
    "duration": 0,
    "start_time": "2023-08-20T20:58:12.117Z"
   },
   {
    "duration": 0,
    "start_time": "2023-08-20T20:58:12.119Z"
   },
   {
    "duration": 0,
    "start_time": "2023-08-20T20:58:12.120Z"
   },
   {
    "duration": 0,
    "start_time": "2023-08-20T20:58:12.121Z"
   },
   {
    "duration": 0,
    "start_time": "2023-08-20T20:58:12.122Z"
   },
   {
    "duration": 0,
    "start_time": "2023-08-20T20:58:12.123Z"
   },
   {
    "duration": 1,
    "start_time": "2023-08-20T20:58:12.124Z"
   },
   {
    "duration": 0,
    "start_time": "2023-08-20T20:58:12.125Z"
   },
   {
    "duration": 0,
    "start_time": "2023-08-20T20:58:12.126Z"
   },
   {
    "duration": 0,
    "start_time": "2023-08-20T20:58:12.127Z"
   },
   {
    "duration": 0,
    "start_time": "2023-08-20T20:58:12.150Z"
   },
   {
    "duration": 0,
    "start_time": "2023-08-20T20:58:12.151Z"
   },
   {
    "duration": 0,
    "start_time": "2023-08-20T20:58:12.151Z"
   },
   {
    "duration": 0,
    "start_time": "2023-08-20T20:58:12.152Z"
   },
   {
    "duration": 0,
    "start_time": "2023-08-20T20:58:12.153Z"
   },
   {
    "duration": 0,
    "start_time": "2023-08-20T20:58:12.155Z"
   },
   {
    "duration": 0,
    "start_time": "2023-08-20T20:58:12.156Z"
   },
   {
    "duration": 0,
    "start_time": "2023-08-20T20:58:12.157Z"
   },
   {
    "duration": 0,
    "start_time": "2023-08-20T20:58:12.158Z"
   },
   {
    "duration": 0,
    "start_time": "2023-08-20T20:58:12.159Z"
   },
   {
    "duration": 0,
    "start_time": "2023-08-20T20:58:12.160Z"
   },
   {
    "duration": 0,
    "start_time": "2023-08-20T20:58:12.162Z"
   },
   {
    "duration": 0,
    "start_time": "2023-08-20T20:58:12.163Z"
   },
   {
    "duration": 0,
    "start_time": "2023-08-20T20:58:12.164Z"
   },
   {
    "duration": 0,
    "start_time": "2023-08-20T20:58:12.166Z"
   },
   {
    "duration": 0,
    "start_time": "2023-08-20T20:58:12.167Z"
   },
   {
    "duration": 0,
    "start_time": "2023-08-20T20:58:12.168Z"
   },
   {
    "duration": 0,
    "start_time": "2023-08-20T20:58:12.170Z"
   },
   {
    "duration": 0,
    "start_time": "2023-08-20T20:58:12.171Z"
   },
   {
    "duration": 0,
    "start_time": "2023-08-20T20:58:12.172Z"
   },
   {
    "duration": 0,
    "start_time": "2023-08-20T20:58:12.173Z"
   },
   {
    "duration": 0,
    "start_time": "2023-08-20T20:58:12.174Z"
   },
   {
    "duration": 0,
    "start_time": "2023-08-20T20:58:12.175Z"
   },
   {
    "duration": 0,
    "start_time": "2023-08-20T20:58:12.177Z"
   },
   {
    "duration": 0,
    "start_time": "2023-08-20T20:58:12.178Z"
   },
   {
    "duration": 0,
    "start_time": "2023-08-20T20:58:12.179Z"
   },
   {
    "duration": 0,
    "start_time": "2023-08-20T20:58:12.180Z"
   },
   {
    "duration": 0,
    "start_time": "2023-08-20T20:58:12.182Z"
   },
   {
    "duration": 0,
    "start_time": "2023-08-20T20:58:12.183Z"
   },
   {
    "duration": 0,
    "start_time": "2023-08-20T20:58:12.184Z"
   },
   {
    "duration": 690,
    "start_time": "2023-08-20T20:58:58.439Z"
   },
   {
    "duration": 634,
    "start_time": "2023-08-20T20:58:59.131Z"
   },
   {
    "duration": 11,
    "start_time": "2023-08-20T20:58:59.766Z"
   },
   {
    "duration": 59,
    "start_time": "2023-08-20T20:58:59.779Z"
   },
   {
    "duration": 3,
    "start_time": "2023-08-20T20:58:59.840Z"
   },
   {
    "duration": 88,
    "start_time": "2023-08-20T20:58:59.844Z"
   },
   {
    "duration": 44,
    "start_time": "2023-08-20T20:58:59.934Z"
   },
   {
    "duration": 20,
    "start_time": "2023-08-20T20:58:59.979Z"
   },
   {
    "duration": 17,
    "start_time": "2023-08-20T20:59:00.000Z"
   },
   {
    "duration": 51,
    "start_time": "2023-08-20T20:59:00.019Z"
   },
   {
    "duration": 156,
    "start_time": "2023-08-20T20:59:00.071Z"
   },
   {
    "duration": 7,
    "start_time": "2023-08-20T20:59:00.229Z"
   },
   {
    "duration": 38,
    "start_time": "2023-08-20T20:59:00.237Z"
   },
   {
    "duration": 22,
    "start_time": "2023-08-20T20:59:00.276Z"
   },
   {
    "duration": 22,
    "start_time": "2023-08-20T20:59:00.299Z"
   },
   {
    "duration": 24,
    "start_time": "2023-08-20T20:59:00.322Z"
   },
   {
    "duration": 27,
    "start_time": "2023-08-20T20:59:00.347Z"
   },
   {
    "duration": 20,
    "start_time": "2023-08-20T20:59:00.375Z"
   },
   {
    "duration": 28,
    "start_time": "2023-08-20T20:59:00.396Z"
   },
   {
    "duration": 10,
    "start_time": "2023-08-20T20:59:00.426Z"
   },
   {
    "duration": 40,
    "start_time": "2023-08-20T20:59:00.438Z"
   },
   {
    "duration": 34,
    "start_time": "2023-08-20T20:59:00.479Z"
   },
   {
    "duration": 22,
    "start_time": "2023-08-20T20:59:00.515Z"
   },
   {
    "duration": 35,
    "start_time": "2023-08-20T20:59:00.538Z"
   },
   {
    "duration": 45,
    "start_time": "2023-08-20T20:59:00.575Z"
   },
   {
    "duration": 41,
    "start_time": "2023-08-20T20:59:00.622Z"
   },
   {
    "duration": 38,
    "start_time": "2023-08-20T20:59:00.665Z"
   },
   {
    "duration": 42,
    "start_time": "2023-08-20T20:59:00.707Z"
   },
   {
    "duration": 72,
    "start_time": "2023-08-20T20:59:00.751Z"
   },
   {
    "duration": 53,
    "start_time": "2023-08-20T20:59:00.824Z"
   },
   {
    "duration": 48,
    "start_time": "2023-08-20T20:59:00.879Z"
   },
   {
    "duration": 37,
    "start_time": "2023-08-20T20:59:00.929Z"
   },
   {
    "duration": 67,
    "start_time": "2023-08-20T20:59:00.968Z"
   },
   {
    "duration": 51,
    "start_time": "2023-08-20T20:59:01.037Z"
   },
   {
    "duration": 489,
    "start_time": "2023-08-20T20:59:01.089Z"
   },
   {
    "duration": 10,
    "start_time": "2023-08-20T20:59:01.580Z"
   },
   {
    "duration": 37,
    "start_time": "2023-08-20T20:59:01.592Z"
   },
   {
    "duration": 57,
    "start_time": "2023-08-20T20:59:01.630Z"
   },
   {
    "duration": 74,
    "start_time": "2023-08-20T20:59:01.688Z"
   },
   {
    "duration": 28,
    "start_time": "2023-08-20T20:59:01.764Z"
   },
   {
    "duration": 48,
    "start_time": "2023-08-20T20:59:01.793Z"
   },
   {
    "duration": 74,
    "start_time": "2023-08-20T20:59:01.843Z"
   },
   {
    "duration": 40,
    "start_time": "2023-08-20T20:59:01.918Z"
   },
   {
    "duration": 41,
    "start_time": "2023-08-20T20:59:01.959Z"
   },
   {
    "duration": 30,
    "start_time": "2023-08-20T20:59:02.002Z"
   },
   {
    "duration": 22,
    "start_time": "2023-08-20T20:59:02.034Z"
   },
   {
    "duration": 58,
    "start_time": "2023-08-20T20:59:02.057Z"
   },
   {
    "duration": 25,
    "start_time": "2023-08-20T20:59:02.116Z"
   },
   {
    "duration": 27,
    "start_time": "2023-08-20T20:59:02.143Z"
   },
   {
    "duration": 499,
    "start_time": "2023-08-20T20:59:02.172Z"
   },
   {
    "duration": 19,
    "start_time": "2023-08-20T20:59:02.673Z"
   },
   {
    "duration": 2,
    "start_time": "2023-08-20T20:59:02.694Z"
   },
   {
    "duration": 36,
    "start_time": "2023-08-20T20:59:02.697Z"
   },
   {
    "duration": 1199,
    "start_time": "2023-08-20T20:59:02.749Z"
   },
   {
    "duration": 559,
    "start_time": "2023-08-20T20:59:03.950Z"
   },
   {
    "duration": 675,
    "start_time": "2023-08-20T20:59:04.511Z"
   },
   {
    "duration": 681,
    "start_time": "2023-08-20T20:59:05.187Z"
   },
   {
    "duration": 901,
    "start_time": "2023-08-20T20:59:05.870Z"
   },
   {
    "duration": 955,
    "start_time": "2023-08-20T20:59:06.773Z"
   },
   {
    "duration": 1484,
    "start_time": "2023-08-20T20:59:07.730Z"
   },
   {
    "duration": 1181,
    "start_time": "2023-08-20T20:59:09.216Z"
   },
   {
    "duration": 1101,
    "start_time": "2023-08-20T20:59:10.399Z"
   },
   {
    "duration": 1467,
    "start_time": "2023-08-20T20:59:11.502Z"
   },
   {
    "duration": 1454,
    "start_time": "2023-08-20T20:59:12.971Z"
   },
   {
    "duration": 2077,
    "start_time": "2023-08-20T20:59:14.426Z"
   }
  ],
  "colab": {
   "provenance": []
  },
  "kernelspec": {
   "display_name": "Python 3 (ipykernel)",
   "language": "python",
   "name": "python3"
  },
  "language_info": {
   "codemirror_mode": {
    "name": "ipython",
    "version": 3
   },
   "file_extension": ".py",
   "mimetype": "text/x-python",
   "name": "python",
   "nbconvert_exporter": "python",
   "pygments_lexer": "ipython3",
   "version": "3.9.13"
  },
  "toc": {
   "base_numbering": 1,
   "nav_menu": {},
   "number_sections": true,
   "sideBar": true,
   "skip_h1_title": true,
   "title_cell": "Table of Contents",
   "title_sidebar": "Contents",
   "toc_cell": false,
   "toc_position": {
    "height": "calc(100% - 180px)",
    "left": "10px",
    "top": "150px",
    "width": "349px"
   },
   "toc_section_display": true,
   "toc_window_display": false
  }
 },
 "nbformat": 4,
 "nbformat_minor": 1
}
