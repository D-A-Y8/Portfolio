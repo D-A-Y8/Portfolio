{
 "cells": [
  {
   "cell_type": "markdown",
   "metadata": {},
   "source": [
    "# Анализ поведения пользователей приложения для покупки продуктов питания."
   ]
  },
  {
   "cell_type": "markdown",
   "metadata": {},
   "source": [
    "## Описание проекта."
   ]
  },
  {
   "cell_type": "markdown",
   "metadata": {},
   "source": [
    "Необходимо изучить поведение пользователей в мобильном приложении-стартапе, которое продаёт продукты питания. \n",
    "Важно узнать путь пользователя к покупке и возможные проблемы.\n",
    "\n",
    "Кроме того, нужно проверить, как может повлиять на пользователей новый шрифт в приложении. Не будет ли шрифт мешать пользователям и усложнять их взаимодействие с приложением."
   ]
  },
  {
   "cell_type": "markdown",
   "metadata": {},
   "source": [
    "## Задачи проекта. "
   ]
  },
  {
   "cell_type": "markdown",
   "metadata": {},
   "source": [
    "- Изучить воронку продаж. \n",
    "- Исследовать результаты A/A/B-эксперимента.\n",
    "- Сделать выводы и дать рекомендации. "
   ]
  },
  {
   "cell_type": "markdown",
   "metadata": {},
   "source": [
    "## План исследования. "
   ]
  },
  {
   "cell_type": "markdown",
   "metadata": {},
   "source": [
    "1. Загрузить данные и подготовь их к анализу.\n",
    "2. Проанализировать записи о событиях.\n",
    "3. Создать и изучить воронку событий.\n",
    "4. Проверить собранные данные по результатам A/A/B-эксперимента на валидность.\n",
    "5. Проанализировать результаты A/A/B-эксперимента. \n",
    "6. Проверить результаты A/A/B-эксперимента с разными уровнями значимости.\n",
    "7. Сделать выводы и дать рекомендации."
   ]
  },
  {
   "cell_type": "code",
   "execution_count": 1,
   "metadata": {},
   "outputs": [],
   "source": [
    "# импортируем библиотеки\n",
    "import pandas as pd\n",
    "from scipy import stats as st\n",
    "import datetime as dt\n",
    "import numpy as np\n",
    "from matplotlib import pyplot as plt\n",
    "from matplotlib.ticker import FuncFormatter\n",
    "import seaborn as sns\n",
    "import plotly.express as px\n",
    "import math as mth"
   ]
  },
  {
   "cell_type": "markdown",
   "metadata": {
    "id": "_vsKinGUWVwk"
   },
   "source": [
    "## 1. Загрузка и подготовка данных. "
   ]
  },
  {
   "cell_type": "code",
   "execution_count": 2,
   "metadata": {},
   "outputs": [],
   "source": [
    "# загружаем файлы\n",
    "events = pd.read_csv('C:/Users/dnast/Downloads/Сборный проект-2/logs_exp.csv', sep='\\t')"
   ]
  },
  {
   "cell_type": "code",
   "execution_count": 3,
   "metadata": {},
   "outputs": [],
   "source": [
    "# создаём функцию для проверки данных в файлах\n",
    "\n",
    "def analyze_file(df):\n",
    "     # описание данных\n",
    "    description = df.describe()\n",
    "\n",
    "    # анализ наиболее часто встречающихся строк с помощью value_counts\n",
    "    most_frequent_rows = df.apply(tuple, axis=1).value_counts().reset_index()\n",
    "    most_frequent_rows.columns = ['Строка', 'Частота']\n",
    "\n",
    "    # первые несколько строк\n",
    "    first_few_rows = df.head()\n",
    "\n",
    "    # обзор данных\n",
    "    data_info = df.info()\n",
    "\n",
    "    print('*' * 50)  \n",
    "\n",
    "    return {\n",
    "        'first_few_rows': first_few_rows,\n",
    "        'description': description,\n",
    "        'most_frequent_rows': most_frequent_rows,\n",
    "        'data_info': data_info\n",
    "    }\n"
   ]
  },
  {
   "cell_type": "code",
   "execution_count": 4,
   "metadata": {
    "scrolled": false
   },
   "outputs": [
    {
     "name": "stdout",
     "output_type": "stream",
     "text": [
      "<class 'pandas.core.frame.DataFrame'>\n",
      "RangeIndex: 244126 entries, 0 to 244125\n",
      "Data columns (total 4 columns):\n",
      " #   Column          Non-Null Count   Dtype \n",
      "---  ------          --------------   ----- \n",
      " 0   EventName       244126 non-null  object\n",
      " 1   DeviceIDHash    244126 non-null  int64 \n",
      " 2   EventTimestamp  244126 non-null  int64 \n",
      " 3   ExpId           244126 non-null  int64 \n",
      "dtypes: int64(3), object(1)\n",
      "memory usage: 7.5+ MB\n",
      "**************************************************\n"
     ]
    },
    {
     "data": {
      "text/plain": [
       "{'first_few_rows':                  EventName         DeviceIDHash  EventTimestamp  ExpId\n",
       " 0         MainScreenAppear  4575588528974610257      1564029816    246\n",
       " 1         MainScreenAppear  7416695313311560658      1564053102    246\n",
       " 2  PaymentScreenSuccessful  3518123091307005509      1564054127    248\n",
       " 3         CartScreenAppear  3518123091307005509      1564054127    248\n",
       " 4  PaymentScreenSuccessful  6217807653094995999      1564055322    248,\n",
       " 'description':        DeviceIDHash  EventTimestamp          ExpId\n",
       " count  2.441260e+05    2.441260e+05  244126.000000\n",
       " mean   4.627568e+18    1.564914e+09     247.022296\n",
       " std    2.642425e+18    1.771343e+05       0.824434\n",
       " min    6.888747e+15    1.564030e+09     246.000000\n",
       " 25%    2.372212e+18    1.564757e+09     246.000000\n",
       " 50%    4.623192e+18    1.564919e+09     247.000000\n",
       " 75%    6.932517e+18    1.565075e+09     248.000000\n",
       " max    9.222603e+18    1.565213e+09     248.000000,\n",
       " 'most_frequent_rows':                                                    Строка  Частота\n",
       " 0        (Tutorial, 3473691793382022823, 1564697509, 248)        5\n",
       " 1       (PaymentScreenSuccessful, 636437379427729086, ...        5\n",
       " 2        (Tutorial, 3473691793382022823, 1564697513, 248)        5\n",
       " 3       (PaymentScreenSuccessful, 4980045449118619005,...        5\n",
       " 4       (PaymentScreenSuccessful, 6932517045703054087,...        4\n",
       " ...                                                   ...      ...\n",
       " 243708  (MainScreenAppear, 8719953221547535425, 156482...        1\n",
       " 243709  (MainScreenAppear, 3621836487144260095, 156482...        1\n",
       " 243710  (MainScreenAppear, 8719953221547535425, 156482...        1\n",
       " 243711  (MainScreenAppear, 8129934622087652337, 156482...        1\n",
       " 243712  (OffersScreenAppear, 5746969938801999050, 1565...        1\n",
       " \n",
       " [243713 rows x 2 columns],\n",
       " 'data_info': None}"
      ]
     },
     "execution_count": 4,
     "metadata": {},
     "output_type": "execute_result"
    }
   ],
   "source": [
    "# проверяем данные\n",
    "analyze_file(events)"
   ]
  },
  {
   "cell_type": "code",
   "execution_count": 5,
   "metadata": {},
   "outputs": [],
   "source": [
    "# приводим названия колонок к виду согласно pep8\n",
    "events.rename(columns={\n",
    "    'EventName': 'event_name',\n",
    "    'DeviceIDHash': 'device_id_hash',\n",
    "    'EventTimestamp': 'event_timestamp',\n",
    "    'ExpId': 'exp_id'\n",
    "}, inplace=True)"
   ]
  },
  {
   "cell_type": "code",
   "execution_count": 6,
   "metadata": {},
   "outputs": [
    {
     "data": {
      "text/plain": [
       "array(['MainScreenAppear', 'PaymentScreenSuccessful', 'CartScreenAppear',\n",
       "       'OffersScreenAppear', 'Tutorial'], dtype=object)"
      ]
     },
     "execution_count": 6,
     "metadata": {},
     "output_type": "execute_result"
    }
   ],
   "source": [
    "# выводим уникальные значения в колонке event_name, чтобы проверить неявные дубликаты и корректность написания\n",
    "events.event_name.unique()"
   ]
  },
  {
   "cell_type": "code",
   "execution_count": 7,
   "metadata": {},
   "outputs": [],
   "source": [
    "# создаём словать со старыми и новыми значениями event_name согласно pep8\n",
    "event_name_pep8 = {\n",
    "    'MainScreenAppear': 'main_screen_appear',\n",
    "    'PaymentScreenSuccessful': 'payment_screen_successful',\n",
    "    'CartScreenAppear': 'cart_screen_appear',\n",
    "    'OffersScreenAppear': 'offers_screen_appear',\n",
    "    'Tutorial': 'tutorial'\n",
    "}\n",
    "\n",
    "# меняем названия мероприятий в колонке event_name согласно pep8\n",
    "events['event_name'] = events['event_name'].replace(event_name_pep8)"
   ]
  },
  {
   "cell_type": "code",
   "execution_count": 8,
   "metadata": {},
   "outputs": [],
   "source": [
    "# меняем формат колонки со временем в формате Unix на datetime \n",
    "events['event_timestamp'] = pd.to_datetime(events['event_timestamp'], unit='s')"
   ]
  },
  {
   "cell_type": "code",
   "execution_count": 9,
   "metadata": {},
   "outputs": [
    {
     "data": {
      "text/plain": [
       "'Процент явных дубликатов: 0.17'"
      ]
     },
     "execution_count": 9,
     "metadata": {},
     "output_type": "execute_result"
    }
   ],
   "source": [
    "# видим, что есть явные дубликаты. Проверяем их процент от общего количества строк\n",
    "f'Процент явных дубликатов: {round((events.duplicated().sum()/len(events))*100, 2)}'"
   ]
  },
  {
   "cell_type": "code",
   "execution_count": 10,
   "metadata": {},
   "outputs": [],
   "source": [
    "# удаляем явные дубликаты\n",
    "events.drop_duplicates(inplace=True)"
   ]
  },
  {
   "cell_type": "code",
   "execution_count": 11,
   "metadata": {},
   "outputs": [
    {
     "name": "stdout",
     "output_type": "stream",
     "text": [
      "<class 'pandas.core.frame.DataFrame'>\n",
      "Int64Index: 243713 entries, 0 to 244125\n",
      "Data columns (total 4 columns):\n",
      " #   Column           Non-Null Count   Dtype         \n",
      "---  ------           --------------   -----         \n",
      " 0   event_name       243713 non-null  object        \n",
      " 1   device_id_hash   243713 non-null  int64         \n",
      " 2   event_timestamp  243713 non-null  datetime64[ns]\n",
      " 3   exp_id           243713 non-null  int64         \n",
      "dtypes: datetime64[ns](1), int64(2), object(1)\n",
      "memory usage: 9.3+ MB\n",
      "**************************************************\n"
     ]
    },
    {
     "data": {
      "text/plain": [
       "{'first_few_rows':                   event_name       device_id_hash     event_timestamp  exp_id\n",
       " 0         main_screen_appear  4575588528974610257 2019-07-25 04:43:36     246\n",
       " 1         main_screen_appear  7416695313311560658 2019-07-25 11:11:42     246\n",
       " 2  payment_screen_successful  3518123091307005509 2019-07-25 11:28:47     248\n",
       " 3         cart_screen_appear  3518123091307005509 2019-07-25 11:28:47     248\n",
       " 4  payment_screen_successful  6217807653094995999 2019-07-25 11:48:42     248,\n",
       " 'description':        device_id_hash         exp_id\n",
       " count    2.437130e+05  243713.000000\n",
       " mean     4.627963e+18     247.022161\n",
       " std      2.642723e+18       0.824420\n",
       " min      6.888747e+15     246.000000\n",
       " 25%      2.372212e+18     246.000000\n",
       " 50%      4.623192e+18     247.000000\n",
       " 75%      6.932517e+18     248.000000\n",
       " max      9.222603e+18     248.000000,\n",
       " 'most_frequent_rows':                                                    Строка  Частота\n",
       " 0       (main_screen_appear, 4575588528974610257, 2019...        1\n",
       " 1       (cart_screen_appear, 5193637793277151229, 2019...        1\n",
       " 2       (main_screen_appear, 7740435227326473159, 2019...        1\n",
       " 3       (payment_screen_successful, 471374869991025308...        1\n",
       " 4       (cart_screen_appear, 4713748699910253089, 2019...        1\n",
       " ...                                                   ...      ...\n",
       " 243708  (main_screen_appear, 7090704132058737401, 2019...        1\n",
       " 243709  (main_screen_appear, 2467684065904615242, 2019...        1\n",
       " 243710  (main_screen_appear, 7072716169866704248, 2019...        1\n",
       " 243711  (payment_screen_successful, 533356125006419558...        1\n",
       " 243712  (offers_screen_appear, 5746969938801999050, 20...        1\n",
       " \n",
       " [243713 rows x 2 columns],\n",
       " 'data_info': None}"
      ]
     },
     "execution_count": 11,
     "metadata": {},
     "output_type": "execute_result"
    }
   ],
   "source": [
    "# проверяем данные\n",
    "analyze_file(events)"
   ]
  },
  {
   "cell_type": "markdown",
   "metadata": {},
   "source": [
    "**В датасете**: \n",
    "- данные были записаны через \"/\" - для удобного разделения в код прочтения добавлено разделение пропуском;\n",
    "- пропусков нет;\n",
    "- 0,17% явных дубликатов удалено;\n",
    "- названия приведены к pep8;\n",
    "- форматы данных в столбцах корректные, кроме времени. Кроме того, время записано в формате Unix. Формат заменён на datetime. "
   ]
  },
  {
   "cell_type": "code",
   "execution_count": 12,
   "metadata": {
    "scrolled": true
   },
   "outputs": [],
   "source": [
    "# столбец даты и времени уже есть, добавляем отдельный столбец дат\n",
    "events['date'] = events['event_timestamp'].dt.date"
   ]
  },
  {
   "cell_type": "code",
   "execution_count": 13,
   "metadata": {
    "scrolled": false
   },
   "outputs": [
    {
     "data": {
      "text/plain": [
       "0    2019-07-25\n",
       "1    2019-07-25\n",
       "2    2019-07-25\n",
       "3    2019-07-25\n",
       "4    2019-07-25\n",
       "Name: date, dtype: object"
      ]
     },
     "execution_count": 13,
     "metadata": {},
     "output_type": "execute_result"
    }
   ],
   "source": [
    "# проверка\n",
    "events['date'].head()"
   ]
  },
  {
   "cell_type": "markdown",
   "metadata": {},
   "source": [
    "**Вывод:** столбец с датой добавлен."
   ]
  },
  {
   "cell_type": "markdown",
   "metadata": {},
   "source": [
    "## 2. Изучение данных."
   ]
  },
  {
   "cell_type": "markdown",
   "metadata": {},
   "source": [
    "### 2.1. Количество событий в логе."
   ]
  },
  {
   "cell_type": "code",
   "execution_count": 14,
   "metadata": {},
   "outputs": [
    {
     "data": {
      "text/plain": [
       "'Всего в логе событий: 243713'"
      ]
     },
     "execution_count": 14,
     "metadata": {},
     "output_type": "execute_result"
    }
   ],
   "source": [
    "# подсчёт количества событий в логе\n",
    "events_total=len(events)\n",
    "f'Всего в логе событий: {events_total}'"
   ]
  },
  {
   "cell_type": "markdown",
   "metadata": {},
   "source": [
    "### 2.2. Количество пользователей в логе."
   ]
  },
  {
   "cell_type": "code",
   "execution_count": 15,
   "metadata": {},
   "outputs": [
    {
     "data": {
      "text/plain": [
       "'Всего в логе уникальных пользователей: 7551'"
      ]
     },
     "execution_count": 15,
     "metadata": {},
     "output_type": "execute_result"
    }
   ],
   "source": [
    "# подсчёт количества уникальных пользователей\n",
    "events_users_total=events.device_id_hash.nunique()\n",
    "f'Всего в логе уникальных пользователей: {events_users_total}'"
   ]
  },
  {
   "cell_type": "markdown",
   "metadata": {},
   "source": [
    "### 2.3. Среднее количество событий на пользователя."
   ]
  },
  {
   "cell_type": "code",
   "execution_count": 16,
   "metadata": {},
   "outputs": [
    {
     "data": {
      "text/html": [
       "<div>\n",
       "<style scoped>\n",
       "    .dataframe tbody tr th:only-of-type {\n",
       "        vertical-align: middle;\n",
       "    }\n",
       "\n",
       "    .dataframe tbody tr th {\n",
       "        vertical-align: top;\n",
       "    }\n",
       "\n",
       "    .dataframe thead th {\n",
       "        text-align: right;\n",
       "    }\n",
       "</style>\n",
       "<table border=\"1\" class=\"dataframe\">\n",
       "  <thead>\n",
       "    <tr style=\"text-align: right;\">\n",
       "      <th></th>\n",
       "      <th>device_id_hash</th>\n",
       "      <th>events_number</th>\n",
       "    </tr>\n",
       "  </thead>\n",
       "  <tbody>\n",
       "    <tr>\n",
       "      <th>0</th>\n",
       "      <td>6888746892508752</td>\n",
       "      <td>1</td>\n",
       "    </tr>\n",
       "    <tr>\n",
       "      <th>1</th>\n",
       "      <td>6909561520679493</td>\n",
       "      <td>5</td>\n",
       "    </tr>\n",
       "    <tr>\n",
       "      <th>2</th>\n",
       "      <td>6922444491712477</td>\n",
       "      <td>47</td>\n",
       "    </tr>\n",
       "    <tr>\n",
       "      <th>3</th>\n",
       "      <td>7435777799948366</td>\n",
       "      <td>6</td>\n",
       "    </tr>\n",
       "    <tr>\n",
       "      <th>4</th>\n",
       "      <td>7702139951469979</td>\n",
       "      <td>137</td>\n",
       "    </tr>\n",
       "  </tbody>\n",
       "</table>\n",
       "</div>"
      ],
      "text/plain": [
       "     device_id_hash  events_number\n",
       "0  6888746892508752              1\n",
       "1  6909561520679493              5\n",
       "2  6922444491712477             47\n",
       "3  7435777799948366              6\n",
       "4  7702139951469979            137"
      ]
     },
     "execution_count": 16,
     "metadata": {},
     "output_type": "execute_result"
    }
   ],
   "source": [
    "# группируем данные по пользователю и считаем количество событий \n",
    "event_counts = events.groupby('device_id_hash')['event_name'].count().reset_index()\n",
    "\n",
    "# задаём колонки\n",
    "event_counts.columns = ['device_id_hash', 'events_number']\n",
    "\n",
    "# вывод\n",
    "event_counts.head()"
   ]
  },
  {
   "cell_type": "code",
   "execution_count": 17,
   "metadata": {
    "scrolled": true
   },
   "outputs": [
    {
     "data": {
      "image/png": "[encoded data removed]",
      "text/plain": [
       "<Figure size 1200x600 with 1 Axes>"
      ]
     },
     "metadata": {},
     "output_type": "display_data"
    }
   ],
   "source": [
    "# задаём размеры графика\n",
    "plt.figure(figsize=(12, 6))  \n",
    "\n",
    "# задаём данные для построения графика\n",
    "sns.boxplot(x='events_number', data=event_counts)\n",
    "plt.xlabel('Количество событий')\n",
    "plt.ylabel('Пользователи')\n",
    "plt.title('Диаграмма размаха количества мероприятий на пользователя')\n",
    "\n",
    "# разворачиваем график для читабельности\n",
    "plt.xticks(rotation=90) \n",
    "\n",
    "plt.show()"
   ]
  },
  {
   "cell_type": "markdown",
   "metadata": {},
   "source": [
    "**На диаграмме размаха видно, что за пределами максимума (за \"усами\" ящика) много выбросов. Медиана находится в пределах меньше 50 мероприятий на человека. При этом аномальные значения достигают более 2000. В этом случае смотрим медиану.**"
   ]
  },
  {
   "cell_type": "code",
   "execution_count": 18,
   "metadata": {},
   "outputs": [
    {
     "data": {
      "text/plain": [
       "20.0"
      ]
     },
     "execution_count": 18,
     "metadata": {},
     "output_type": "execute_result"
    }
   ],
   "source": [
    "# считаем медиану количества событий на пользователя\n",
    "event_counts['events_number'].median()"
   ]
  },
  {
   "cell_type": "markdown",
   "metadata": {},
   "source": [
    "**Медианное количество событий на пользователя - 20.**"
   ]
  },
  {
   "cell_type": "markdown",
   "metadata": {},
   "source": [
    "### 2.3. Анализ периода предоставленных данных."
   ]
  },
  {
   "cell_type": "code",
   "execution_count": 19,
   "metadata": {},
   "outputs": [
    {
     "data": {
      "text/plain": [
       "'Данные в логе за период с 2019-07-25 по 2019-08-07'"
      ]
     },
     "execution_count": 19,
     "metadata": {},
     "output_type": "execute_result"
    }
   ],
   "source": [
    "f'Данные в логе за период с {events.date.min()} по {events.date.max()}'"
   ]
  },
  {
   "cell_type": "code",
   "execution_count": 20,
   "metadata": {
    "scrolled": true
   },
   "outputs": [
    {
     "data": {
      "text/html": [
       "<div>\n",
       "<style scoped>\n",
       "    .dataframe tbody tr th:only-of-type {\n",
       "        vertical-align: middle;\n",
       "    }\n",
       "\n",
       "    .dataframe tbody tr th {\n",
       "        vertical-align: top;\n",
       "    }\n",
       "\n",
       "    .dataframe thead th {\n",
       "        text-align: right;\n",
       "    }\n",
       "</style>\n",
       "<table border=\"1\" class=\"dataframe\">\n",
       "  <thead>\n",
       "    <tr style=\"text-align: right;\">\n",
       "      <th></th>\n",
       "      <th>date</th>\n",
       "      <th>exp_id</th>\n",
       "      <th>events_number</th>\n",
       "    </tr>\n",
       "  </thead>\n",
       "  <tbody>\n",
       "    <tr>\n",
       "      <th>0</th>\n",
       "      <td>2019-07-25</td>\n",
       "      <td>246</td>\n",
       "      <td>4</td>\n",
       "    </tr>\n",
       "    <tr>\n",
       "      <th>1</th>\n",
       "      <td>2019-07-25</td>\n",
       "      <td>247</td>\n",
       "      <td>1</td>\n",
       "    </tr>\n",
       "    <tr>\n",
       "      <th>2</th>\n",
       "      <td>2019-07-25</td>\n",
       "      <td>248</td>\n",
       "      <td>4</td>\n",
       "    </tr>\n",
       "    <tr>\n",
       "      <th>3</th>\n",
       "      <td>2019-07-26</td>\n",
       "      <td>246</td>\n",
       "      <td>14</td>\n",
       "    </tr>\n",
       "    <tr>\n",
       "      <th>4</th>\n",
       "      <td>2019-07-26</td>\n",
       "      <td>247</td>\n",
       "      <td>8</td>\n",
       "    </tr>\n",
       "    <tr>\n",
       "      <th>5</th>\n",
       "      <td>2019-07-26</td>\n",
       "      <td>248</td>\n",
       "      <td>9</td>\n",
       "    </tr>\n",
       "    <tr>\n",
       "      <th>6</th>\n",
       "      <td>2019-07-27</td>\n",
       "      <td>246</td>\n",
       "      <td>24</td>\n",
       "    </tr>\n",
       "    <tr>\n",
       "      <th>7</th>\n",
       "      <td>2019-07-27</td>\n",
       "      <td>247</td>\n",
       "      <td>23</td>\n",
       "    </tr>\n",
       "    <tr>\n",
       "      <th>8</th>\n",
       "      <td>2019-07-27</td>\n",
       "      <td>248</td>\n",
       "      <td>8</td>\n",
       "    </tr>\n",
       "    <tr>\n",
       "      <th>9</th>\n",
       "      <td>2019-07-28</td>\n",
       "      <td>246</td>\n",
       "      <td>33</td>\n",
       "    </tr>\n",
       "    <tr>\n",
       "      <th>10</th>\n",
       "      <td>2019-07-28</td>\n",
       "      <td>247</td>\n",
       "      <td>36</td>\n",
       "    </tr>\n",
       "    <tr>\n",
       "      <th>11</th>\n",
       "      <td>2019-07-28</td>\n",
       "      <td>248</td>\n",
       "      <td>36</td>\n",
       "    </tr>\n",
       "    <tr>\n",
       "      <th>12</th>\n",
       "      <td>2019-07-29</td>\n",
       "      <td>246</td>\n",
       "      <td>55</td>\n",
       "    </tr>\n",
       "    <tr>\n",
       "      <th>13</th>\n",
       "      <td>2019-07-29</td>\n",
       "      <td>247</td>\n",
       "      <td>58</td>\n",
       "    </tr>\n",
       "    <tr>\n",
       "      <th>14</th>\n",
       "      <td>2019-07-29</td>\n",
       "      <td>248</td>\n",
       "      <td>71</td>\n",
       "    </tr>\n",
       "    <tr>\n",
       "      <th>15</th>\n",
       "      <td>2019-07-30</td>\n",
       "      <td>246</td>\n",
       "      <td>129</td>\n",
       "    </tr>\n",
       "    <tr>\n",
       "      <th>16</th>\n",
       "      <td>2019-07-30</td>\n",
       "      <td>247</td>\n",
       "      <td>138</td>\n",
       "    </tr>\n",
       "    <tr>\n",
       "      <th>17</th>\n",
       "      <td>2019-07-30</td>\n",
       "      <td>248</td>\n",
       "      <td>145</td>\n",
       "    </tr>\n",
       "    <tr>\n",
       "      <th>18</th>\n",
       "      <td>2019-07-31</td>\n",
       "      <td>246</td>\n",
       "      <td>620</td>\n",
       "    </tr>\n",
       "    <tr>\n",
       "      <th>19</th>\n",
       "      <td>2019-07-31</td>\n",
       "      <td>247</td>\n",
       "      <td>664</td>\n",
       "    </tr>\n",
       "    <tr>\n",
       "      <th>20</th>\n",
       "      <td>2019-07-31</td>\n",
       "      <td>248</td>\n",
       "      <td>746</td>\n",
       "    </tr>\n",
       "    <tr>\n",
       "      <th>21</th>\n",
       "      <td>2019-08-01</td>\n",
       "      <td>246</td>\n",
       "      <td>11561</td>\n",
       "    </tr>\n",
       "    <tr>\n",
       "      <th>22</th>\n",
       "      <td>2019-08-01</td>\n",
       "      <td>247</td>\n",
       "      <td>12306</td>\n",
       "    </tr>\n",
       "    <tr>\n",
       "      <th>23</th>\n",
       "      <td>2019-08-01</td>\n",
       "      <td>248</td>\n",
       "      <td>12274</td>\n",
       "    </tr>\n",
       "    <tr>\n",
       "      <th>24</th>\n",
       "      <td>2019-08-02</td>\n",
       "      <td>246</td>\n",
       "      <td>10946</td>\n",
       "    </tr>\n",
       "    <tr>\n",
       "      <th>25</th>\n",
       "      <td>2019-08-02</td>\n",
       "      <td>247</td>\n",
       "      <td>10990</td>\n",
       "    </tr>\n",
       "    <tr>\n",
       "      <th>26</th>\n",
       "      <td>2019-08-02</td>\n",
       "      <td>248</td>\n",
       "      <td>13618</td>\n",
       "    </tr>\n",
       "    <tr>\n",
       "      <th>27</th>\n",
       "      <td>2019-08-03</td>\n",
       "      <td>246</td>\n",
       "      <td>10575</td>\n",
       "    </tr>\n",
       "    <tr>\n",
       "      <th>28</th>\n",
       "      <td>2019-08-03</td>\n",
       "      <td>247</td>\n",
       "      <td>11024</td>\n",
       "    </tr>\n",
       "    <tr>\n",
       "      <th>29</th>\n",
       "      <td>2019-08-03</td>\n",
       "      <td>248</td>\n",
       "      <td>11683</td>\n",
       "    </tr>\n",
       "    <tr>\n",
       "      <th>30</th>\n",
       "      <td>2019-08-04</td>\n",
       "      <td>246</td>\n",
       "      <td>11514</td>\n",
       "    </tr>\n",
       "    <tr>\n",
       "      <th>31</th>\n",
       "      <td>2019-08-04</td>\n",
       "      <td>247</td>\n",
       "      <td>9942</td>\n",
       "    </tr>\n",
       "    <tr>\n",
       "      <th>32</th>\n",
       "      <td>2019-08-04</td>\n",
       "      <td>248</td>\n",
       "      <td>11512</td>\n",
       "    </tr>\n",
       "    <tr>\n",
       "      <th>33</th>\n",
       "      <td>2019-08-05</td>\n",
       "      <td>246</td>\n",
       "      <td>12368</td>\n",
       "    </tr>\n",
       "    <tr>\n",
       "      <th>34</th>\n",
       "      <td>2019-08-05</td>\n",
       "      <td>247</td>\n",
       "      <td>10949</td>\n",
       "    </tr>\n",
       "    <tr>\n",
       "      <th>35</th>\n",
       "      <td>2019-08-05</td>\n",
       "      <td>248</td>\n",
       "      <td>12741</td>\n",
       "    </tr>\n",
       "    <tr>\n",
       "      <th>36</th>\n",
       "      <td>2019-08-06</td>\n",
       "      <td>246</td>\n",
       "      <td>11726</td>\n",
       "    </tr>\n",
       "    <tr>\n",
       "      <th>37</th>\n",
       "      <td>2019-08-06</td>\n",
       "      <td>247</td>\n",
       "      <td>11720</td>\n",
       "    </tr>\n",
       "    <tr>\n",
       "      <th>38</th>\n",
       "      <td>2019-08-06</td>\n",
       "      <td>248</td>\n",
       "      <td>12342</td>\n",
       "    </tr>\n",
       "    <tr>\n",
       "      <th>39</th>\n",
       "      <td>2019-08-07</td>\n",
       "      <td>246</td>\n",
       "      <td>10612</td>\n",
       "    </tr>\n",
       "    <tr>\n",
       "      <th>40</th>\n",
       "      <td>2019-08-07</td>\n",
       "      <td>247</td>\n",
       "      <td>10091</td>\n",
       "    </tr>\n",
       "    <tr>\n",
       "      <th>41</th>\n",
       "      <td>2019-08-07</td>\n",
       "      <td>248</td>\n",
       "      <td>10393</td>\n",
       "    </tr>\n",
       "  </tbody>\n",
       "</table>\n",
       "</div>"
      ],
      "text/plain": [
       "          date  exp_id  events_number\n",
       "0   2019-07-25     246              4\n",
       "1   2019-07-25     247              1\n",
       "2   2019-07-25     248              4\n",
       "3   2019-07-26     246             14\n",
       "4   2019-07-26     247              8\n",
       "5   2019-07-26     248              9\n",
       "6   2019-07-27     246             24\n",
       "7   2019-07-27     247             23\n",
       "8   2019-07-27     248              8\n",
       "9   2019-07-28     246             33\n",
       "10  2019-07-28     247             36\n",
       "11  2019-07-28     248             36\n",
       "12  2019-07-29     246             55\n",
       "13  2019-07-29     247             58\n",
       "14  2019-07-29     248             71\n",
       "15  2019-07-30     246            129\n",
       "16  2019-07-30     247            138\n",
       "17  2019-07-30     248            145\n",
       "18  2019-07-31     246            620\n",
       "19  2019-07-31     247            664\n",
       "20  2019-07-31     248            746\n",
       "21  2019-08-01     246          11561\n",
       "22  2019-08-01     247          12306\n",
       "23  2019-08-01     248          12274\n",
       "24  2019-08-02     246          10946\n",
       "25  2019-08-02     247          10990\n",
       "26  2019-08-02     248          13618\n",
       "27  2019-08-03     246          10575\n",
       "28  2019-08-03     247          11024\n",
       "29  2019-08-03     248          11683\n",
       "30  2019-08-04     246          11514\n",
       "31  2019-08-04     247           9942\n",
       "32  2019-08-04     248          11512\n",
       "33  2019-08-05     246          12368\n",
       "34  2019-08-05     247          10949\n",
       "35  2019-08-05     248          12741\n",
       "36  2019-08-06     246          11726\n",
       "37  2019-08-06     247          11720\n",
       "38  2019-08-06     248          12342\n",
       "39  2019-08-07     246          10612\n",
       "40  2019-08-07     247          10091\n",
       "41  2019-08-07     248          10393"
      ]
     },
     "execution_count": 20,
     "metadata": {},
     "output_type": "execute_result"
    }
   ],
   "source": [
    "# строим сводную таблицу, группируем по дате и эксперименту, считаем события\n",
    "pivot_table = events.pivot_table(index=['date', 'exp_id'], values='event_name', aggfunc='count')\n",
    "\n",
    "# сбрасываем индексы, чтобы сделать 'date' и 'exp_id' обычными названиями колонок\n",
    "pivot_table = pivot_table.reset_index()\n",
    "\n",
    "# даём названия колонкам\n",
    "pivot_table.columns = ['date', 'exp_id', 'events_number']\n",
    "\n",
    "# вывод таблицы \n",
    "pivot_table"
   ]
  },
  {
   "cell_type": "code",
   "execution_count": 21,
   "metadata": {},
   "outputs": [
    {
     "data": {
      "text/html": [
       "<div>\n",
       "<style scoped>\n",
       "    .dataframe tbody tr th:only-of-type {\n",
       "        vertical-align: middle;\n",
       "    }\n",
       "\n",
       "    .dataframe tbody tr th {\n",
       "        vertical-align: top;\n",
       "    }\n",
       "\n",
       "    .dataframe thead th {\n",
       "        text-align: right;\n",
       "    }\n",
       "</style>\n",
       "<table border=\"1\" class=\"dataframe\">\n",
       "  <thead>\n",
       "    <tr style=\"text-align: right;\">\n",
       "      <th></th>\n",
       "      <th>date</th>\n",
       "      <th>exp_246</th>\n",
       "      <th>exp_247</th>\n",
       "      <th>exp_248</th>\n",
       "    </tr>\n",
       "  </thead>\n",
       "  <tbody>\n",
       "    <tr>\n",
       "      <th>0</th>\n",
       "      <td>2019-07-25</td>\n",
       "      <td>4</td>\n",
       "      <td>1</td>\n",
       "      <td>4</td>\n",
       "    </tr>\n",
       "    <tr>\n",
       "      <th>1</th>\n",
       "      <td>2019-07-26</td>\n",
       "      <td>14</td>\n",
       "      <td>8</td>\n",
       "      <td>9</td>\n",
       "    </tr>\n",
       "    <tr>\n",
       "      <th>2</th>\n",
       "      <td>2019-07-27</td>\n",
       "      <td>24</td>\n",
       "      <td>23</td>\n",
       "      <td>8</td>\n",
       "    </tr>\n",
       "    <tr>\n",
       "      <th>3</th>\n",
       "      <td>2019-07-28</td>\n",
       "      <td>33</td>\n",
       "      <td>36</td>\n",
       "      <td>36</td>\n",
       "    </tr>\n",
       "    <tr>\n",
       "      <th>4</th>\n",
       "      <td>2019-07-29</td>\n",
       "      <td>55</td>\n",
       "      <td>58</td>\n",
       "      <td>71</td>\n",
       "    </tr>\n",
       "    <tr>\n",
       "      <th>5</th>\n",
       "      <td>2019-07-30</td>\n",
       "      <td>129</td>\n",
       "      <td>138</td>\n",
       "      <td>145</td>\n",
       "    </tr>\n",
       "    <tr>\n",
       "      <th>6</th>\n",
       "      <td>2019-07-31</td>\n",
       "      <td>620</td>\n",
       "      <td>664</td>\n",
       "      <td>746</td>\n",
       "    </tr>\n",
       "    <tr>\n",
       "      <th>7</th>\n",
       "      <td>2019-08-01</td>\n",
       "      <td>11561</td>\n",
       "      <td>12306</td>\n",
       "      <td>12274</td>\n",
       "    </tr>\n",
       "    <tr>\n",
       "      <th>8</th>\n",
       "      <td>2019-08-02</td>\n",
       "      <td>10946</td>\n",
       "      <td>10990</td>\n",
       "      <td>13618</td>\n",
       "    </tr>\n",
       "    <tr>\n",
       "      <th>9</th>\n",
       "      <td>2019-08-03</td>\n",
       "      <td>10575</td>\n",
       "      <td>11024</td>\n",
       "      <td>11683</td>\n",
       "    </tr>\n",
       "    <tr>\n",
       "      <th>10</th>\n",
       "      <td>2019-08-04</td>\n",
       "      <td>11514</td>\n",
       "      <td>9942</td>\n",
       "      <td>11512</td>\n",
       "    </tr>\n",
       "    <tr>\n",
       "      <th>11</th>\n",
       "      <td>2019-08-05</td>\n",
       "      <td>12368</td>\n",
       "      <td>10949</td>\n",
       "      <td>12741</td>\n",
       "    </tr>\n",
       "    <tr>\n",
       "      <th>12</th>\n",
       "      <td>2019-08-06</td>\n",
       "      <td>11726</td>\n",
       "      <td>11720</td>\n",
       "      <td>12342</td>\n",
       "    </tr>\n",
       "    <tr>\n",
       "      <th>13</th>\n",
       "      <td>2019-08-07</td>\n",
       "      <td>10612</td>\n",
       "      <td>10091</td>\n",
       "      <td>10393</td>\n",
       "    </tr>\n",
       "  </tbody>\n",
       "</table>\n",
       "</div>"
      ],
      "text/plain": [
       "          date  exp_246  exp_247  exp_248\n",
       "0   2019-07-25        4        1        4\n",
       "1   2019-07-26       14        8        9\n",
       "2   2019-07-27       24       23        8\n",
       "3   2019-07-28       33       36       36\n",
       "4   2019-07-29       55       58       71\n",
       "5   2019-07-30      129      138      145\n",
       "6   2019-07-31      620      664      746\n",
       "7   2019-08-01    11561    12306    12274\n",
       "8   2019-08-02    10946    10990    13618\n",
       "9   2019-08-03    10575    11024    11683\n",
       "10  2019-08-04    11514     9942    11512\n",
       "11  2019-08-05    12368    10949    12741\n",
       "12  2019-08-06    11726    11720    12342\n",
       "13  2019-08-07    10612    10091    10393"
      ]
     },
     "execution_count": 21,
     "metadata": {},
     "output_type": "execute_result"
    }
   ],
   "source": [
    "# делаем новую сводную таблицу, чтобы сделать значения 'exp_id' названиями колонок\n",
    "final_pivot = pivot_table.pivot(index='date', columns='exp_id', values='events_number')\n",
    "\n",
    "# сбрасываем названия колонок\n",
    "final_pivot.columns.name = None\n",
    "\n",
    "# задаём названия колонок\n",
    "final_pivot = final_pivot.rename_axis(None, axis=1)\n",
    "final_pivot = final_pivot.reset_index()\n",
    "final_pivot.columns = ['date', 'exp_246', 'exp_247', 'exp_248']\n",
    "\n",
    "# выводим таблицу на экран\n",
    "final_pivot"
   ]
  },
  {
   "cell_type": "code",
   "execution_count": 22,
   "metadata": {
    "scrolled": true
   },
   "outputs": [
    {
     "data": {
      "image/png": "[encoded data removed]",
      "text/plain": [
       "<Figure size 1000x600 with 1 Axes>"
      ]
     },
     "metadata": {},
     "output_type": "display_data"
    }
   ],
   "source": [
    "# преобразовываем таблицу для графика\n",
    "final_pivot_long = pd.melt(final_pivot, id_vars=['date'], value_vars=['exp_246', 'exp_247', 'exp_248'], var_name='эксперимент')\n",
    "\n",
    "# создаём столбчатую диаграмму\n",
    "plt.figure(figsize=(10, 6))  \n",
    "sns.barplot(x='date', y='value', hue='эксперимент', data=final_pivot_long)\n",
    "plt.title('Количество событий по группам эксперимента и датам')\n",
    "plt.xlabel('Дата')\n",
    "plt.ylabel('Количество событий')\n",
    "plt.grid(axis='y', linestyle='--', alpha=0.7)\n",
    "\n",
    "# разворачиваем даты для читабельности\n",
    "plt.xticks(rotation=45)  \n",
    "\n",
    "plt.tight_layout()\n",
    "plt.show()"
   ]
  },
  {
   "cell_type": "markdown",
   "metadata": {},
   "source": [
    "**Данные представлены с 25 июля по 7 августа, но по факту до 1 августа данных почти нет (событий от нескольких единиц до максимум нескольких сотен по группам). С 1го же августа количество событий по группам от примерно 9 тыс. до примерно 14 тыс.), поэтому мы можем оценивать результаты теста по данным в период с 1 августа 2019 по 07 августа 2019.**"
   ]
  },
  {
   "cell_type": "code",
   "execution_count": 23,
   "metadata": {},
   "outputs": [],
   "source": [
    "# конвертируем дату\n",
    "date_threshold = pd.to_datetime('2019-08-01').date()  \n",
    "\n",
    "# фильтруем датафрейм\n",
    "events_full = events.loc[events['date'] >= date_threshold]"
   ]
  },
  {
   "cell_type": "code",
   "execution_count": 24,
   "metadata": {},
   "outputs": [
    {
     "data": {
      "text/plain": [
       "'Данные в логе за период с 2019-08-01 по 2019-08-07'"
      ]
     },
     "execution_count": 24,
     "metadata": {},
     "output_type": "execute_result"
    }
   ],
   "source": [
    "f'Данные в логе за период с {events_full.date.min()} по {events_full.date.max()}'"
   ]
  },
  {
   "cell_type": "code",
   "execution_count": 25,
   "metadata": {},
   "outputs": [
    {
     "data": {
      "text/plain": [
       "'Всего в логе событий: 240887'"
      ]
     },
     "execution_count": 25,
     "metadata": {},
     "output_type": "execute_result"
    }
   ],
   "source": [
    "# подсчёт количества событий за обрезанный период\n",
    "events_full_total=len(events_full)\n",
    "f'Всего в логе событий: {events_full_total}'"
   ]
  },
  {
   "cell_type": "code",
   "execution_count": 26,
   "metadata": {},
   "outputs": [
    {
     "data": {
      "text/plain": [
       "'Всего \"отрезано\" событий: 1.16%'"
      ]
     },
     "execution_count": 26,
     "metadata": {},
     "output_type": "execute_result"
    }
   ],
   "source": [
    "# подсчёт процентра \"отрезанных\" событий\n",
    "f'Всего \"отрезано\" событий: {round((1-(events_full_total/events_total))*100, 2)}%'"
   ]
  },
  {
   "cell_type": "code",
   "execution_count": 27,
   "metadata": {},
   "outputs": [
    {
     "data": {
      "text/plain": [
       "'Всего в логе уникальных пользователей (после сокращения периода): 7534'"
      ]
     },
     "execution_count": 27,
     "metadata": {},
     "output_type": "execute_result"
    }
   ],
   "source": [
    "# подсчёт количества уникальных пользователей за обрезанный период\n",
    "events_full_users_total=events_full.device_id_hash.nunique()\n",
    "f'Всего в логе уникальных пользователей (после сокращения периода): {events_full_users_total}'"
   ]
  },
  {
   "cell_type": "code",
   "execution_count": 28,
   "metadata": {},
   "outputs": [
    {
     "data": {
      "text/plain": [
       "'Всего \"отрезано\" пользователей: 0.23%'"
      ]
     },
     "execution_count": 28,
     "metadata": {},
     "output_type": "execute_result"
    }
   ],
   "source": [
    "# подсчёт процентра \"отрезанных\" пользователей\n",
    "f'Всего \"отрезано\" пользователей: {round((1-(events_full_users_total/events_users_total))*100, 2)}%'"
   ]
  },
  {
   "cell_type": "markdown",
   "metadata": {},
   "source": [
    "**Был создан новый датасет с периодом проведения экспериментов 1-7 августа 2019 года. В датасете более 240 тыс. событий и более 7,5 тыс. пользователей. При удалении данных за период 25-31 июля 2019 года было утеряно 1,16% событий и 0,23% пользователей, что незначительно для корретной интерпретации экспериментов.**"
   ]
  },
  {
   "cell_type": "markdown",
   "metadata": {},
   "source": [
    "### 2.4. Проверка наличия выборок для всех трёх групп эксперимента."
   ]
  },
  {
   "cell_type": "code",
   "execution_count": 29,
   "metadata": {},
   "outputs": [
    {
     "data": {
      "text/html": [
       "<div>\n",
       "<style scoped>\n",
       "    .dataframe tbody tr th:only-of-type {\n",
       "        vertical-align: middle;\n",
       "    }\n",
       "\n",
       "    .dataframe tbody tr th {\n",
       "        vertical-align: top;\n",
       "    }\n",
       "\n",
       "    .dataframe thead th {\n",
       "        text-align: right;\n",
       "    }\n",
       "</style>\n",
       "<table border=\"1\" class=\"dataframe\">\n",
       "  <thead>\n",
       "    <tr style=\"text-align: right;\">\n",
       "      <th></th>\n",
       "      <th>exp_id</th>\n",
       "      <th>users_number</th>\n",
       "    </tr>\n",
       "  </thead>\n",
       "  <tbody>\n",
       "    <tr>\n",
       "      <th>0</th>\n",
       "      <td>246</td>\n",
       "      <td>2484</td>\n",
       "    </tr>\n",
       "    <tr>\n",
       "      <th>1</th>\n",
       "      <td>247</td>\n",
       "      <td>2513</td>\n",
       "    </tr>\n",
       "    <tr>\n",
       "      <th>2</th>\n",
       "      <td>248</td>\n",
       "      <td>2537</td>\n",
       "    </tr>\n",
       "  </tbody>\n",
       "</table>\n",
       "</div>"
      ],
      "text/plain": [
       "   exp_id  users_number\n",
       "0     246          2484\n",
       "1     247          2513\n",
       "2     248          2537"
      ]
     },
     "execution_count": 29,
     "metadata": {},
     "output_type": "execute_result"
    }
   ],
   "source": [
    "# создаём сводную таблицу с пользователями по группам\n",
    "users_by_exp = events_full.pivot_table(index='exp_id', values='device_id_hash', aggfunc='nunique')\n",
    "\n",
    "# сбрасываем индексы\n",
    "users_by_exp = users_by_exp.reset_index()\n",
    "\n",
    "# даём названия колонкам\n",
    "users_by_exp.columns = ['exp_id', 'users_number']\n",
    "\n",
    "users_by_exp"
   ]
  },
  {
   "cell_type": "markdown",
   "metadata": {},
   "source": [
    "**В каждой группе эксперимента достаточное количество пользователей практически на одинаковом уровне (около 2500 пользователей).**"
   ]
  },
  {
   "cell_type": "markdown",
   "metadata": {},
   "source": [
    "## 3. Анализ воронки событий."
   ]
  },
  {
   "cell_type": "markdown",
   "metadata": {},
   "source": [
    "### 3.1. Изучение событий в логах, как часто они встречаются. Сортировка событий по частоте."
   ]
  },
  {
   "cell_type": "code",
   "execution_count": 30,
   "metadata": {
    "scrolled": true
   },
   "outputs": [
    {
     "data": {
      "text/html": [
       "<div>\n",
       "<style scoped>\n",
       "    .dataframe tbody tr th:only-of-type {\n",
       "        vertical-align: middle;\n",
       "    }\n",
       "\n",
       "    .dataframe tbody tr th {\n",
       "        vertical-align: top;\n",
       "    }\n",
       "\n",
       "    .dataframe thead th {\n",
       "        text-align: right;\n",
       "    }\n",
       "</style>\n",
       "<table border=\"1\" class=\"dataframe\">\n",
       "  <thead>\n",
       "    <tr style=\"text-align: right;\">\n",
       "      <th></th>\n",
       "      <th>event_name</th>\n",
       "      <th>events_number</th>\n",
       "    </tr>\n",
       "  </thead>\n",
       "  <tbody>\n",
       "    <tr>\n",
       "      <th>0</th>\n",
       "      <td>main_screen_appear</td>\n",
       "      <td>117328</td>\n",
       "    </tr>\n",
       "    <tr>\n",
       "      <th>1</th>\n",
       "      <td>offers_screen_appear</td>\n",
       "      <td>46333</td>\n",
       "    </tr>\n",
       "    <tr>\n",
       "      <th>2</th>\n",
       "      <td>cart_screen_appear</td>\n",
       "      <td>42303</td>\n",
       "    </tr>\n",
       "    <tr>\n",
       "      <th>3</th>\n",
       "      <td>payment_screen_successful</td>\n",
       "      <td>33918</td>\n",
       "    </tr>\n",
       "    <tr>\n",
       "      <th>4</th>\n",
       "      <td>tutorial</td>\n",
       "      <td>1005</td>\n",
       "    </tr>\n",
       "  </tbody>\n",
       "</table>\n",
       "</div>"
      ],
      "text/plain": [
       "                  event_name  events_number\n",
       "0         main_screen_appear         117328\n",
       "1       offers_screen_appear          46333\n",
       "2         cart_screen_appear          42303\n",
       "3  payment_screen_successful          33918\n",
       "4                   tutorial           1005"
      ]
     },
     "execution_count": 30,
     "metadata": {},
     "output_type": "execute_result"
    }
   ],
   "source": [
    "# создаём сводную таблицу по названиям мероприятий и их частоте\n",
    "events_frequency = events_full.pivot_table(index='event_name', values='device_id_hash', aggfunc='count').sort_values(\n",
    "    by='device_id_hash', ascending = False)\n",
    "\n",
    "# сбрасываем индексы\n",
    "events_frequency = events_frequency.reset_index()\n",
    "\n",
    "# даём названия колонкам\n",
    "events_frequency.columns = ['event_name', 'events_number']\n",
    "\n",
    "events_frequency"
   ]
  },
  {
   "cell_type": "code",
   "execution_count": 31,
   "metadata": {},
   "outputs": [
    {
     "name": "stdout",
     "output_type": "stream",
     "text": [
      "Частота событий посчитана верно.\n"
     ]
    }
   ],
   "source": [
    "# проверка\n",
    "if sum(events_frequency['events_number']) == events_full_total:\n",
    "    print('Частота событий посчитана верно.')\n",
    "else:\n",
    "     print('В расчёте частоты событий ошибка.')   "
   ]
  },
  {
   "cell_type": "code",
   "execution_count": 32,
   "metadata": {},
   "outputs": [
    {
     "data": {
      "image/png": "[encoded data removed]",
      "text/plain": [
       "<Figure size 640x480 with 1 Axes>"
      ]
     },
     "metadata": {},
     "output_type": "display_data"
    }
   ],
   "source": [
    "# строим график частотности событий\n",
    "sns.barplot(x='event_name', y='events_number', data=events_frequency)\n",
    "\n",
    "plt.title('Частотность событий')\n",
    "plt.xlabel('Название события')\n",
    "plt.ylabel('Количество событий')\n",
    "plt.grid(axis='y', linestyle='--', alpha=0.7)\n",
    "\n",
    "# разворачиваем события для читабельности\n",
    "plt.xticks(rotation=45);  "
   ]
  },
  {
   "cell_type": "markdown",
   "metadata": {},
   "source": [
    "**Частотность событий по данным экспериментов следующая:** \n",
    "\n",
    "1. Показ основного экрана - более 117 тыс.\n",
    "2. Показ предложений - более 46 тыс. \n",
    "3. Показ страницы с корзиной - более 42 тыс. \n",
    "4. Показ страницы с успешной оплатой - почти 34 тыс.\n",
    "5. Инструкции - чуть больше 1 тыс.\n",
    "\n",
    "Позже рассмотрим их в качестве воронки событий."
   ]
  },
  {
   "cell_type": "markdown",
   "metadata": {},
   "source": [
    "### 3.2. Расчёт количества пользователей, которые совершали каждое из этих событий. Сортировка события по числу пользователей. Расчёт доли пользователей, которые хоть раз совершали событие."
   ]
  },
  {
   "cell_type": "code",
   "execution_count": 33,
   "metadata": {},
   "outputs": [
    {
     "data": {
      "text/html": [
       "<div>\n",
       "<style scoped>\n",
       "    .dataframe tbody tr th:only-of-type {\n",
       "        vertical-align: middle;\n",
       "    }\n",
       "\n",
       "    .dataframe tbody tr th {\n",
       "        vertical-align: top;\n",
       "    }\n",
       "\n",
       "    .dataframe thead th {\n",
       "        text-align: right;\n",
       "    }\n",
       "</style>\n",
       "<table border=\"1\" class=\"dataframe\">\n",
       "  <thead>\n",
       "    <tr style=\"text-align: right;\">\n",
       "      <th></th>\n",
       "      <th>event_name</th>\n",
       "      <th>users_number</th>\n",
       "    </tr>\n",
       "  </thead>\n",
       "  <tbody>\n",
       "    <tr>\n",
       "      <th>0</th>\n",
       "      <td>main_screen_appear</td>\n",
       "      <td>7419</td>\n",
       "    </tr>\n",
       "    <tr>\n",
       "      <th>1</th>\n",
       "      <td>offers_screen_appear</td>\n",
       "      <td>4593</td>\n",
       "    </tr>\n",
       "    <tr>\n",
       "      <th>2</th>\n",
       "      <td>cart_screen_appear</td>\n",
       "      <td>3734</td>\n",
       "    </tr>\n",
       "    <tr>\n",
       "      <th>3</th>\n",
       "      <td>payment_screen_successful</td>\n",
       "      <td>3539</td>\n",
       "    </tr>\n",
       "    <tr>\n",
       "      <th>4</th>\n",
       "      <td>tutorial</td>\n",
       "      <td>840</td>\n",
       "    </tr>\n",
       "  </tbody>\n",
       "</table>\n",
       "</div>"
      ],
      "text/plain": [
       "                  event_name  users_number\n",
       "0         main_screen_appear          7419\n",
       "1       offers_screen_appear          4593\n",
       "2         cart_screen_appear          3734\n",
       "3  payment_screen_successful          3539\n",
       "4                   tutorial           840"
      ]
     },
     "execution_count": 33,
     "metadata": {},
     "output_type": "execute_result"
    }
   ],
   "source": [
    "# создаём сводную таблицу по названиям мероприятий и количеству пользователей, которые совершали каждое событие\n",
    "events_users_frequency = events_full.pivot_table(index='event_name', values='device_id_hash', aggfunc='nunique').sort_values(\n",
    "    by='device_id_hash', ascending = False)\n",
    "\n",
    "# сбрасываем индексы\n",
    "events_users_frequency = events_users_frequency.reset_index()\n",
    "\n",
    "# даём названия колонкам\n",
    "events_users_frequency.columns = ['event_name', 'users_number']\n",
    "\n",
    "events_users_frequency"
   ]
  },
  {
   "cell_type": "code",
   "execution_count": 34,
   "metadata": {},
   "outputs": [
    {
     "data": {
      "image/png": "[encoded data removed]",
      "text/plain": [
       "<Figure size 640x480 with 1 Axes>"
      ]
     },
     "metadata": {},
     "output_type": "display_data"
    }
   ],
   "source": [
    "# строим график количества пользователей по событиям\n",
    "sns.barplot(x='event_name', y='users_number', data=events_users_frequency)\n",
    "\n",
    "plt.title('Количество пользователей, которые совершали события')\n",
    "plt.xlabel('Название события')\n",
    "plt.ylabel('Количество пользователей')\n",
    "plt.grid(axis='y', linestyle='--', alpha=0.7)\n",
    "\n",
    "# разворачиваем события для читабельности\n",
    "plt.xticks(rotation=45);  "
   ]
  },
  {
   "cell_type": "markdown",
   "metadata": {},
   "source": [
    "**Рейтинг событий по количеству пользователей следующий:** \n",
    "\n",
    "1. Показ основного экрана - более 7 тыс.\n",
    "2. Показ предложений - более 4,5 тыс. \n",
    "3. Показ страницы с корзиной - более 3,7 тыс. \n",
    "4. Показ страницы с успешной оплатой - почти 3,5 тыс.\n",
    "5. Инструкции - 840\n",
    "\n",
    "Рейтинг полностью совпадает по местам с рейтингом частотности событий. Противоречий в анализе пока нет."
   ]
  },
  {
   "cell_type": "code",
   "execution_count": 35,
   "metadata": {},
   "outputs": [],
   "source": [
    "# считаем пропорции для кажого события воронки\n",
    "events_users_frequency['proportion'] = round(events_users_frequency['users_number']/events_full_users_total*100, 4)"
   ]
  },
  {
   "cell_type": "code",
   "execution_count": 36,
   "metadata": {
    "scrolled": true
   },
   "outputs": [
    {
     "data": {
      "text/html": [
       "<div>\n",
       "<style scoped>\n",
       "    .dataframe tbody tr th:only-of-type {\n",
       "        vertical-align: middle;\n",
       "    }\n",
       "\n",
       "    .dataframe tbody tr th {\n",
       "        vertical-align: top;\n",
       "    }\n",
       "\n",
       "    .dataframe thead th {\n",
       "        text-align: right;\n",
       "    }\n",
       "</style>\n",
       "<table border=\"1\" class=\"dataframe\">\n",
       "  <thead>\n",
       "    <tr style=\"text-align: right;\">\n",
       "      <th></th>\n",
       "      <th>event_name</th>\n",
       "      <th>users_number</th>\n",
       "      <th>proportion</th>\n",
       "    </tr>\n",
       "  </thead>\n",
       "  <tbody>\n",
       "    <tr>\n",
       "      <th>0</th>\n",
       "      <td>main_screen_appear</td>\n",
       "      <td>7419</td>\n",
       "      <td>98.4736</td>\n",
       "    </tr>\n",
       "    <tr>\n",
       "      <th>1</th>\n",
       "      <td>offers_screen_appear</td>\n",
       "      <td>4593</td>\n",
       "      <td>60.9636</td>\n",
       "    </tr>\n",
       "    <tr>\n",
       "      <th>2</th>\n",
       "      <td>cart_screen_appear</td>\n",
       "      <td>3734</td>\n",
       "      <td>49.5620</td>\n",
       "    </tr>\n",
       "    <tr>\n",
       "      <th>3</th>\n",
       "      <td>payment_screen_successful</td>\n",
       "      <td>3539</td>\n",
       "      <td>46.9737</td>\n",
       "    </tr>\n",
       "    <tr>\n",
       "      <th>4</th>\n",
       "      <td>tutorial</td>\n",
       "      <td>840</td>\n",
       "      <td>11.1495</td>\n",
       "    </tr>\n",
       "  </tbody>\n",
       "</table>\n",
       "</div>"
      ],
      "text/plain": [
       "                  event_name  users_number  proportion\n",
       "0         main_screen_appear          7419     98.4736\n",
       "1       offers_screen_appear          4593     60.9636\n",
       "2         cart_screen_appear          3734     49.5620\n",
       "3  payment_screen_successful          3539     46.9737\n",
       "4                   tutorial           840     11.1495"
      ]
     },
     "execution_count": 36,
     "metadata": {},
     "output_type": "execute_result"
    }
   ],
   "source": [
    "events_users_frequency"
   ]
  },
  {
   "cell_type": "code",
   "execution_count": 37,
   "metadata": {},
   "outputs": [
    {
     "data": {
      "image/png": "[encoded data removed]",
      "text/plain": [
       "<Figure size 640x480 with 1 Axes>"
      ]
     },
     "metadata": {},
     "output_type": "display_data"
    }
   ],
   "source": [
    "# строим график доли пользователей от общего количества пользователей по событиям\n",
    "sns.barplot(x='event_name', y='proportion', data=events_users_frequency)\n",
    "\n",
    "plt.title('Пропорция пользователей, которые совершали события')\n",
    "plt.xlabel('Название события')\n",
    "plt.ylabel('Пропорция пользователей (%)')\n",
    "plt.grid(axis='y', linestyle='--', alpha=0.7)\n",
    "\n",
    "# разворачиваем события для читабельности\n",
    "plt.xticks(rotation=45);  "
   ]
  },
  {
   "cell_type": "markdown",
   "metadata": {},
   "source": [
    "**Согласно рейтингу событий по пропорциям, места событий не изменились:**\n",
    "        \n",
    "        - Почти 100% пользователей смотрят главный экран. \n",
    "        - 60% от всех пользователей смотрят экран с предложениями.\n",
    "        - 50% - попадают в корзину. \n",
    "        - 47% - видят экран успешной оплаты.\n",
    "        - 11% - смотрят инструкцию."
   ]
  },
  {
   "cell_type": "markdown",
   "metadata": {},
   "source": [
    "### 3.3. Построение порядка событий. Выявление событий, которые не входят в последовательность и не должны быть в расчётах воронки."
   ]
  },
  {
   "cell_type": "markdown",
   "metadata": {},
   "source": [
    "Порядок событий пользователя следующий (и это же показывают графики, так как пользователи и события уменьшаются с каждым шагом): \n",
    "\n",
    "1. Показ основного экрана - более 7 тыс.\n",
    "2. Показ предложений - более 4,5 тыс.\n",
    "3. Показ страницы с корзиной - более 3,7 тыс.\n",
    "4. Показ страницы с успешной оплатой - почти 3,5 тыс.\n",
    "\n",
    "Убираем только событие \"Инструкция\", потому что оно не связано с остальными событиями (может быть после любого шага), поэтому его не нужно включать в воронку для анализа."
   ]
  },
  {
   "cell_type": "code",
   "execution_count": 38,
   "metadata": {},
   "outputs": [
    {
     "data": {
      "text/html": [
       "<div>\n",
       "<style scoped>\n",
       "    .dataframe tbody tr th:only-of-type {\n",
       "        vertical-align: middle;\n",
       "    }\n",
       "\n",
       "    .dataframe tbody tr th {\n",
       "        vertical-align: top;\n",
       "    }\n",
       "\n",
       "    .dataframe thead th {\n",
       "        text-align: right;\n",
       "    }\n",
       "</style>\n",
       "<table border=\"1\" class=\"dataframe\">\n",
       "  <thead>\n",
       "    <tr style=\"text-align: right;\">\n",
       "      <th></th>\n",
       "      <th>event_name</th>\n",
       "      <th>users_number</th>\n",
       "      <th>proportion</th>\n",
       "    </tr>\n",
       "  </thead>\n",
       "  <tbody>\n",
       "    <tr>\n",
       "      <th>0</th>\n",
       "      <td>main_screen_appear</td>\n",
       "      <td>7419</td>\n",
       "      <td>98.4736</td>\n",
       "    </tr>\n",
       "    <tr>\n",
       "      <th>1</th>\n",
       "      <td>offers_screen_appear</td>\n",
       "      <td>4593</td>\n",
       "      <td>60.9636</td>\n",
       "    </tr>\n",
       "    <tr>\n",
       "      <th>2</th>\n",
       "      <td>cart_screen_appear</td>\n",
       "      <td>3734</td>\n",
       "      <td>49.5620</td>\n",
       "    </tr>\n",
       "    <tr>\n",
       "      <th>3</th>\n",
       "      <td>payment_screen_successful</td>\n",
       "      <td>3539</td>\n",
       "      <td>46.9737</td>\n",
       "    </tr>\n",
       "  </tbody>\n",
       "</table>\n",
       "</div>"
      ],
      "text/plain": [
       "                  event_name  users_number  proportion\n",
       "0         main_screen_appear          7419     98.4736\n",
       "1       offers_screen_appear          4593     60.9636\n",
       "2         cart_screen_appear          3734     49.5620\n",
       "3  payment_screen_successful          3539     46.9737"
      ]
     },
     "execution_count": 38,
     "metadata": {},
     "output_type": "execute_result"
    }
   ],
   "source": [
    "# создаём таблицу с воронкой событий\n",
    "events_funnel = events_users_frequency[events_users_frequency['event_name'] != 'tutorial']\n",
    "events_funnel"
   ]
  },
  {
   "cell_type": "code",
   "execution_count": 39,
   "metadata": {
    "scrolled": true
   },
   "outputs": [
    {
     "data": {
      "image/png": "[encoded data removed]",
      "text/plain": [
       "<Figure size 640x480 with 1 Axes>"
      ]
     },
     "metadata": {},
     "output_type": "display_data"
    }
   ],
   "source": [
    "# строим линейный график количества пользователей по событиям\n",
    "sns.lineplot(x='event_name', y='users_number', data=events_funnel, marker='o')\n",
    "\n",
    "plt.title('Воронка событий')\n",
    "plt.xlabel('Событие')\n",
    "plt.ylabel('Количество пользователей')\n",
    "plt.grid(axis='y', linestyle='--', alpha=0.7)\n",
    "\n",
    "# разворачиваем события для читабельности\n",
    "plt.xticks(rotation=45)\n",
    "\n",
    "plt.show()"
   ]
  },
  {
   "cell_type": "markdown",
   "metadata": {},
   "source": [
    "**На графике видно существенное снижение количества пользователей с шага \"Показ основного экрана\" до \"Показ предложений\". Далее между шагами также идёт снижение по пользователям, но уже не такое большое.**"
   ]
  },
  {
   "cell_type": "markdown",
   "metadata": {},
   "source": [
    "### 3.4. Расчёт доли пользователей на каждом шаге воронки (от числа пользователей на предыдущем). Выявление шага, на котором теряется больше всего пользователей. "
   ]
  },
  {
   "cell_type": "code",
   "execution_count": 40,
   "metadata": {
    "scrolled": false
   },
   "outputs": [
    {
     "data": {
      "text/html": [
       "<div>\n",
       "<style scoped>\n",
       "    .dataframe tbody tr th:only-of-type {\n",
       "        vertical-align: middle;\n",
       "    }\n",
       "\n",
       "    .dataframe tbody tr th {\n",
       "        vertical-align: top;\n",
       "    }\n",
       "\n",
       "    .dataframe thead th {\n",
       "        text-align: right;\n",
       "    }\n",
       "</style>\n",
       "<table border=\"1\" class=\"dataframe\">\n",
       "  <thead>\n",
       "    <tr style=\"text-align: right;\">\n",
       "      <th></th>\n",
       "      <th>event_name</th>\n",
       "      <th>users_number</th>\n",
       "      <th>proportion</th>\n",
       "    </tr>\n",
       "  </thead>\n",
       "  <tbody>\n",
       "    <tr>\n",
       "      <th>0</th>\n",
       "      <td>main_screen_appear</td>\n",
       "      <td>7419</td>\n",
       "      <td>100.0</td>\n",
       "    </tr>\n",
       "    <tr>\n",
       "      <th>1</th>\n",
       "      <td>offers_screen_appear</td>\n",
       "      <td>4593</td>\n",
       "      <td>60.0</td>\n",
       "    </tr>\n",
       "    <tr>\n",
       "      <th>2</th>\n",
       "      <td>cart_screen_appear</td>\n",
       "      <td>3734</td>\n",
       "      <td>80.0</td>\n",
       "    </tr>\n",
       "    <tr>\n",
       "      <th>3</th>\n",
       "      <td>payment_screen_successful</td>\n",
       "      <td>3539</td>\n",
       "      <td>90.0</td>\n",
       "    </tr>\n",
       "  </tbody>\n",
       "</table>\n",
       "</div>"
      ],
      "text/plain": [
       "                  event_name  users_number  proportion\n",
       "0         main_screen_appear          7419       100.0\n",
       "1       offers_screen_appear          4593        60.0\n",
       "2         cart_screen_appear          3734        80.0\n",
       "3  payment_screen_successful          3539        90.0"
      ]
     },
     "execution_count": 40,
     "metadata": {},
     "output_type": "execute_result"
    }
   ],
   "source": [
    "# избавляемся от ложноположительного оповещения SettingWithCopyWarning (возникло на моём ПК)\n",
    "pd.options.mode.chained_assignment = None\n",
    "\n",
    "# считаем долю пользователей от предыдущего шага\n",
    "events_funnel['proportion'] = events_funnel['users_number'] / events_funnel['users_number'].shift(1)\n",
    "\n",
    "# заменяем NaN на первом шаге на 1, так как до этого не было шага для сравнения\n",
    "events_funnel['proportion'].fillna(1, inplace=True)\n",
    "\n",
    "# округляем значения\n",
    "events_funnel['proportion'] = events_funnel['proportion'].round(1)\n",
    "\n",
    "# переводим значения в проценты\n",
    "events_funnel['proportion'] = events_funnel['proportion'] * 100\n",
    "\n",
    "# вывод таблицы\n",
    "events_funnel"
   ]
  },
  {
   "cell_type": "code",
   "execution_count": 41,
   "metadata": {
    "scrolled": true
   },
   "outputs": [
    {
     "data": {
      "image/png": "[encoded data removed]",
      "text/plain": [
       "<Figure size 640x480 with 1 Axes>"
      ]
     },
     "metadata": {},
     "output_type": "display_data"
    }
   ],
   "source": [
    "# создаём линейный график\n",
    "sns.lineplot(x='event_name', y='proportion', data=events_funnel, marker='o')\n",
    "\n",
    "plt.title('Пропорция пользователей на каждом шаге воронки событий')\n",
    "plt.xlabel('Событие (шаг)')\n",
    "plt.ylabel('Пропорция пользователей (%)')\n",
    "plt.grid(axis='y', linestyle='--', alpha=0.7)\n",
    "\n",
    "# разворачиваем названия мероприятий для читабельности\n",
    "plt.xticks(rotation=45)\n",
    "\n",
    "plt.show()\n"
   ]
  },
  {
   "cell_type": "markdown",
   "metadata": {},
   "source": [
    "**На графике пропорций пользователей по сравнению с предыдущим шагом также видно серьёзное падение с шага \"Показ основного экрана\" до \"Показ предложений\" (на втором шаге пользователей на 40% меньше, чем было на первом).** \n",
    "\n",
    "**Но далее мы видим рост пропорций по шагам:**\n",
    "\n",
    "- на шаге \"Показ страницы с корзиной\" осталось 80% пользователей, которые были на предыдущем шаге \"Показ предложений\",\n",
    "- на шаге \"Показ страницы с успешной оплатой\" осталось 90% пользователей, которые были на предыдущем шаге \"Показ страницы с корзиной\".\n",
    "\n",
    "**Таким образом, больше всего теряется на шаге \"Показ предложений\".**"
   ]
  },
  {
   "cell_type": "markdown",
   "metadata": {},
   "source": [
    "### 3.5. Расчёт доли пользователей, которые доходит от первого события до оплаты."
   ]
  },
  {
   "cell_type": "code",
   "execution_count": 42,
   "metadata": {
    "scrolled": true
   },
   "outputs": [
    {
     "data": {
      "text/html": [
       "<div>\n",
       "<style scoped>\n",
       "    .dataframe tbody tr th:only-of-type {\n",
       "        vertical-align: middle;\n",
       "    }\n",
       "\n",
       "    .dataframe tbody tr th {\n",
       "        vertical-align: top;\n",
       "    }\n",
       "\n",
       "    .dataframe thead th {\n",
       "        text-align: right;\n",
       "    }\n",
       "</style>\n",
       "<table border=\"1\" class=\"dataframe\">\n",
       "  <thead>\n",
       "    <tr style=\"text-align: right;\">\n",
       "      <th></th>\n",
       "      <th>event_name</th>\n",
       "      <th>device_id_hash</th>\n",
       "      <th>event_timestamp</th>\n",
       "      <th>exp_id</th>\n",
       "      <th>date</th>\n",
       "    </tr>\n",
       "  </thead>\n",
       "  <tbody>\n",
       "    <tr>\n",
       "      <th>2829</th>\n",
       "      <td>main_screen_appear</td>\n",
       "      <td>3737462046622621720</td>\n",
       "      <td>2019-08-01 00:08:00</td>\n",
       "      <td>246</td>\n",
       "      <td>2019-08-01</td>\n",
       "    </tr>\n",
       "    <tr>\n",
       "      <th>2830</th>\n",
       "      <td>main_screen_appear</td>\n",
       "      <td>3737462046622621720</td>\n",
       "      <td>2019-08-01 00:08:55</td>\n",
       "      <td>246</td>\n",
       "      <td>2019-08-01</td>\n",
       "    </tr>\n",
       "    <tr>\n",
       "      <th>2831</th>\n",
       "      <td>offers_screen_appear</td>\n",
       "      <td>3737462046622621720</td>\n",
       "      <td>2019-08-01 00:08:58</td>\n",
       "      <td>246</td>\n",
       "      <td>2019-08-01</td>\n",
       "    </tr>\n",
       "  </tbody>\n",
       "</table>\n",
       "</div>"
      ],
      "text/plain": [
       "                event_name       device_id_hash     event_timestamp  exp_id  \\\n",
       "2829    main_screen_appear  3737462046622621720 2019-08-01 00:08:00     246   \n",
       "2830    main_screen_appear  3737462046622621720 2019-08-01 00:08:55     246   \n",
       "2831  offers_screen_appear  3737462046622621720 2019-08-01 00:08:58     246   \n",
       "\n",
       "            date  \n",
       "2829  2019-08-01  \n",
       "2830  2019-08-01  \n",
       "2831  2019-08-01  "
      ]
     },
     "execution_count": 42,
     "metadata": {},
     "output_type": "execute_result"
    }
   ],
   "source": [
    "# убираем из исходного датафрейма пользоватедей, смотревших инструкцию\n",
    "users_from_funnel = events_full[events_full['event_name'] != 'tutorial']\n",
    "users_from_funnel.head(3)"
   ]
  },
  {
   "cell_type": "code",
   "execution_count": 43,
   "metadata": {
    "scrolled": true
   },
   "outputs": [
    {
     "data": {
      "text/plain": [
       "device_id_hash\n",
       "6888746892508752    False\n",
       "6909561520679493     True\n",
       "6922444491712477     True\n",
       "7435777799948366    False\n",
       "7702139951469979     True\n",
       "Name: event_name, dtype: bool"
      ]
     },
     "execution_count": 43,
     "metadata": {},
     "output_type": "execute_result"
    }
   ],
   "source": [
    "# создаём таблицу с id пользователей и булевым значением: если у пользователя 4 значения события - True, если нет - False\n",
    "top_users_status = users_from_funnel.groupby('device_id_hash')['event_name'].nunique() == 4\n",
    "top_users_status.head()"
   ]
  },
  {
   "cell_type": "code",
   "execution_count": 44,
   "metadata": {},
   "outputs": [
    {
     "name": "stdout",
     "output_type": "stream",
     "text": [
      "Количество пользователей, прошедших от первого события до оплаты: 3429\n"
     ]
    }
   ],
   "source": [
    "# создаём список id пользователей, у которых 4 события\n",
    "top_users_id = top_users_status[top_users_status == True].index\n",
    "\n",
    "# считаем таких пользователей\n",
    "count_top_users = len(top_users_id)\n",
    "\n",
    "# вывод числа пользователей, которые совершали все 4 события\n",
    "print('Количество пользователей, прошедших от первого события до оплаты:', count_top_users)"
   ]
  },
  {
   "cell_type": "code",
   "execution_count": 45,
   "metadata": {},
   "outputs": [
    {
     "data": {
      "text/html": [
       "<div>\n",
       "<style scoped>\n",
       "    .dataframe tbody tr th:only-of-type {\n",
       "        vertical-align: middle;\n",
       "    }\n",
       "\n",
       "    .dataframe tbody tr th {\n",
       "        vertical-align: top;\n",
       "    }\n",
       "\n",
       "    .dataframe thead th {\n",
       "        text-align: right;\n",
       "    }\n",
       "</style>\n",
       "<table border=\"1\" class=\"dataframe\">\n",
       "  <thead>\n",
       "    <tr style=\"text-align: right;\">\n",
       "      <th></th>\n",
       "      <th>event_name</th>\n",
       "      <th>users_number</th>\n",
       "      <th>proportion</th>\n",
       "    </tr>\n",
       "  </thead>\n",
       "  <tbody>\n",
       "    <tr>\n",
       "      <th>3</th>\n",
       "      <td>payment_screen_successful</td>\n",
       "      <td>3539</td>\n",
       "      <td>90.0</td>\n",
       "    </tr>\n",
       "  </tbody>\n",
       "</table>\n",
       "</div>"
      ],
      "text/plain": [
       "                  event_name  users_number  proportion\n",
       "3  payment_screen_successful          3539        90.0"
      ]
     },
     "execution_count": 45,
     "metadata": {},
     "output_type": "execute_result"
    }
   ],
   "source": [
    "# вывод количества пользователей, которые совершили покупку\n",
    "paid_users = events_funnel.query('event_name == \"payment_screen_successful\"')\n",
    "paid_users"
   ]
  },
  {
   "cell_type": "code",
   "execution_count": 46,
   "metadata": {},
   "outputs": [
    {
     "name": "stdout",
     "output_type": "stream",
     "text": [
      "Разница между платившими пользователями и пользователями, прошедшими от первого события до оплаты: 110\n"
     ]
    }
   ],
   "source": [
    "# считаем разницу\n",
    "result = paid_users['users_number'] - count_top_users\n",
    "\n",
    "# задаём значение результата \n",
    "numeric_value = result.values[0]\n",
    "print('Разница между платившими пользователями и пользователями, прошедшими от первого события до оплаты:', numeric_value)"
   ]
  },
  {
   "cell_type": "code",
   "execution_count": 47,
   "metadata": {},
   "outputs": [
    {
     "data": {
      "text/plain": [
       "'Доля пользователей, которые доходят от первого события до оплаты: 46%'"
      ]
     },
     "execution_count": 47,
     "metadata": {},
     "output_type": "execute_result"
    }
   ],
   "source": [
    "f'Доля пользователей, которые доходят от первого события до оплаты: {round(count_top_users/events_full_users_total*100)}%'"
   ]
  },
  {
   "cell_type": "markdown",
   "metadata": {},
   "source": [
    "**Всего в датасете 3429 пользователей, прошедших от первого события до оплаты. При этом пользователей, которые не проходили все 4 этапа на 110 меньше. То есть небольшое количество пользователей пропускает какой-то из шагов. \n",
    "Доля пользователей, которые доходят от первого события до оплаты, от всех пользователей, которые двигались по воронке событий (просмотр инструкции не учитываем), составляет 46%.** "
   ]
  },
  {
   "cell_type": "markdown",
   "metadata": {},
   "source": [
    "## 4. Анализ A/A/B-теста."
   ]
  },
  {
   "cell_type": "markdown",
   "metadata": {},
   "source": [
    "### 4.1. Количество пользователей в каждой группе. \n",
    "### Проверка различий между выборками.\n",
    "### Проверка \"пересекающихся\" пользователей в разных группах."
   ]
  },
  {
   "cell_type": "markdown",
   "metadata": {},
   "source": [
    "#### 4.1.1. Количество пользователей в группах."
   ]
  },
  {
   "cell_type": "code",
   "execution_count": 48,
   "metadata": {
    "scrolled": true
   },
   "outputs": [
    {
     "data": {
      "text/html": [
       "<div>\n",
       "<style scoped>\n",
       "    .dataframe tbody tr th:only-of-type {\n",
       "        vertical-align: middle;\n",
       "    }\n",
       "\n",
       "    .dataframe tbody tr th {\n",
       "        vertical-align: top;\n",
       "    }\n",
       "\n",
       "    .dataframe thead th {\n",
       "        text-align: right;\n",
       "    }\n",
       "</style>\n",
       "<table border=\"1\" class=\"dataframe\">\n",
       "  <thead>\n",
       "    <tr style=\"text-align: right;\">\n",
       "      <th></th>\n",
       "      <th>exp_id</th>\n",
       "      <th>users_number</th>\n",
       "    </tr>\n",
       "  </thead>\n",
       "  <tbody>\n",
       "    <tr>\n",
       "      <th>0</th>\n",
       "      <td>246</td>\n",
       "      <td>2484</td>\n",
       "    </tr>\n",
       "    <tr>\n",
       "      <th>1</th>\n",
       "      <td>247</td>\n",
       "      <td>2513</td>\n",
       "    </tr>\n",
       "    <tr>\n",
       "      <th>2</th>\n",
       "      <td>248</td>\n",
       "      <td>2537</td>\n",
       "    </tr>\n",
       "  </tbody>\n",
       "</table>\n",
       "</div>"
      ],
      "text/plain": [
       "   exp_id  users_number\n",
       "0     246          2484\n",
       "1     247          2513\n",
       "2     248          2537"
      ]
     },
     "execution_count": 48,
     "metadata": {},
     "output_type": "execute_result"
    }
   ],
   "source": [
    "# выводим количество пользователей в группах\n",
    "users_by_exp"
   ]
  },
  {
   "cell_type": "markdown",
   "metadata": {},
   "source": [
    "Как ранее было замечено, в группах почти одинаковое количество пользователей - около 2,5 тыс.  \n",
    "Создадим отдельные датасеты для групп, которым был показан старый шрифт, чтобы проверить равенство выборок по количеству пользователей и по количеству событий."
   ]
  },
  {
   "cell_type": "code",
   "execution_count": 49,
   "metadata": {
    "scrolled": true
   },
   "outputs": [
    {
     "data": {
      "text/html": [
       "<div>\n",
       "<style scoped>\n",
       "    .dataframe tbody tr th:only-of-type {\n",
       "        vertical-align: middle;\n",
       "    }\n",
       "\n",
       "    .dataframe tbody tr th {\n",
       "        vertical-align: top;\n",
       "    }\n",
       "\n",
       "    .dataframe thead th {\n",
       "        text-align: right;\n",
       "    }\n",
       "</style>\n",
       "<table border=\"1\" class=\"dataframe\">\n",
       "  <thead>\n",
       "    <tr style=\"text-align: right;\">\n",
       "      <th></th>\n",
       "      <th>date</th>\n",
       "      <th>users_number_246</th>\n",
       "      <th>events_number_246</th>\n",
       "    </tr>\n",
       "  </thead>\n",
       "  <tbody>\n",
       "    <tr>\n",
       "      <th>0</th>\n",
       "      <td>2019-08-01</td>\n",
       "      <td>1191</td>\n",
       "      <td>11561</td>\n",
       "    </tr>\n",
       "    <tr>\n",
       "      <th>1</th>\n",
       "      <td>2019-08-02</td>\n",
       "      <td>1197</td>\n",
       "      <td>10946</td>\n",
       "    </tr>\n",
       "    <tr>\n",
       "      <th>2</th>\n",
       "      <td>2019-08-03</td>\n",
       "      <td>1140</td>\n",
       "      <td>10575</td>\n",
       "    </tr>\n",
       "    <tr>\n",
       "      <th>3</th>\n",
       "      <td>2019-08-04</td>\n",
       "      <td>1170</td>\n",
       "      <td>11514</td>\n",
       "    </tr>\n",
       "    <tr>\n",
       "      <th>4</th>\n",
       "      <td>2019-08-05</td>\n",
       "      <td>1269</td>\n",
       "      <td>12368</td>\n",
       "    </tr>\n",
       "    <tr>\n",
       "      <th>5</th>\n",
       "      <td>2019-08-06</td>\n",
       "      <td>1270</td>\n",
       "      <td>11726</td>\n",
       "    </tr>\n",
       "    <tr>\n",
       "      <th>6</th>\n",
       "      <td>2019-08-07</td>\n",
       "      <td>1198</td>\n",
       "      <td>10612</td>\n",
       "    </tr>\n",
       "  </tbody>\n",
       "</table>\n",
       "</div>"
      ],
      "text/plain": [
       "         date  users_number_246  events_number_246\n",
       "0  2019-08-01              1191              11561\n",
       "1  2019-08-02              1197              10946\n",
       "2  2019-08-03              1140              10575\n",
       "3  2019-08-04              1170              11514\n",
       "4  2019-08-05              1269              12368\n",
       "5  2019-08-06              1270              11726\n",
       "6  2019-08-07              1198              10612"
      ]
     },
     "execution_count": 49,
     "metadata": {},
     "output_type": "execute_result"
    }
   ],
   "source": [
    "# оставляем только группу 246\n",
    "users_246 = events_full.query('exp_id == 246')\n",
    "\n",
    "# делаем группировку по дате, считаем уникальных пользователей и количество событий\n",
    "users_246 = (\n",
    "    users_246.pivot_table(index='date', values=['device_id_hash', 'event_name'], \n",
    "        aggfunc = {'device_id_hash': 'nunique', 'event_name': 'count'}).reset_index()\n",
    ")\n",
    "\n",
    "# даём названия колонкам\n",
    "users_246.columns = ['date', 'users_number_246', 'events_number_246']\n",
    "\n",
    "# вывод\n",
    "users_246"
   ]
  },
  {
   "cell_type": "code",
   "execution_count": 50,
   "metadata": {
    "scrolled": true
   },
   "outputs": [
    {
     "data": {
      "text/html": [
       "<div>\n",
       "<style scoped>\n",
       "    .dataframe tbody tr th:only-of-type {\n",
       "        vertical-align: middle;\n",
       "    }\n",
       "\n",
       "    .dataframe tbody tr th {\n",
       "        vertical-align: top;\n",
       "    }\n",
       "\n",
       "    .dataframe thead th {\n",
       "        text-align: right;\n",
       "    }\n",
       "</style>\n",
       "<table border=\"1\" class=\"dataframe\">\n",
       "  <thead>\n",
       "    <tr style=\"text-align: right;\">\n",
       "      <th></th>\n",
       "      <th>date</th>\n",
       "      <th>users_number_247</th>\n",
       "      <th>events_number_247</th>\n",
       "    </tr>\n",
       "  </thead>\n",
       "  <tbody>\n",
       "    <tr>\n",
       "      <th>0</th>\n",
       "      <td>2019-08-01</td>\n",
       "      <td>1282</td>\n",
       "      <td>12306</td>\n",
       "    </tr>\n",
       "    <tr>\n",
       "      <th>1</th>\n",
       "      <td>2019-08-02</td>\n",
       "      <td>1221</td>\n",
       "      <td>10990</td>\n",
       "    </tr>\n",
       "    <tr>\n",
       "      <th>2</th>\n",
       "      <td>2019-08-03</td>\n",
       "      <td>1176</td>\n",
       "      <td>11024</td>\n",
       "    </tr>\n",
       "    <tr>\n",
       "      <th>3</th>\n",
       "      <td>2019-08-04</td>\n",
       "      <td>1169</td>\n",
       "      <td>9942</td>\n",
       "    </tr>\n",
       "    <tr>\n",
       "      <th>4</th>\n",
       "      <td>2019-08-05</td>\n",
       "      <td>1263</td>\n",
       "      <td>10949</td>\n",
       "    </tr>\n",
       "    <tr>\n",
       "      <th>5</th>\n",
       "      <td>2019-08-06</td>\n",
       "      <td>1320</td>\n",
       "      <td>11720</td>\n",
       "    </tr>\n",
       "    <tr>\n",
       "      <th>6</th>\n",
       "      <td>2019-08-07</td>\n",
       "      <td>1212</td>\n",
       "      <td>10091</td>\n",
       "    </tr>\n",
       "  </tbody>\n",
       "</table>\n",
       "</div>"
      ],
      "text/plain": [
       "         date  users_number_247  events_number_247\n",
       "0  2019-08-01              1282              12306\n",
       "1  2019-08-02              1221              10990\n",
       "2  2019-08-03              1176              11024\n",
       "3  2019-08-04              1169               9942\n",
       "4  2019-08-05              1263              10949\n",
       "5  2019-08-06              1320              11720\n",
       "6  2019-08-07              1212              10091"
      ]
     },
     "execution_count": 50,
     "metadata": {},
     "output_type": "execute_result"
    }
   ],
   "source": [
    "# оставляем только группу 247\n",
    "users_247 = events_full.query('exp_id == 247')\n",
    "\n",
    "# делаем группировку по дате, считаем уникальных пользователей и количество событий\n",
    "users_247 = (\n",
    "    users_247.pivot_table(index='date', values=['device_id_hash', 'event_name'], \n",
    "        aggfunc = {'device_id_hash': 'nunique', 'event_name': 'count'}).reset_index()\n",
    ")\n",
    "\n",
    "# даём названия колонкам\n",
    "users_247.columns = ['date', 'users_number_247', 'events_number_247']\n",
    "\n",
    "# вывод\n",
    "users_247"
   ]
  },
  {
   "cell_type": "code",
   "execution_count": 51,
   "metadata": {},
   "outputs": [
    {
     "data": {
      "text/html": [
       "<div>\n",
       "<style scoped>\n",
       "    .dataframe tbody tr th:only-of-type {\n",
       "        vertical-align: middle;\n",
       "    }\n",
       "\n",
       "    .dataframe tbody tr th {\n",
       "        vertical-align: top;\n",
       "    }\n",
       "\n",
       "    .dataframe thead th {\n",
       "        text-align: right;\n",
       "    }\n",
       "</style>\n",
       "<table border=\"1\" class=\"dataframe\">\n",
       "  <thead>\n",
       "    <tr style=\"text-align: right;\">\n",
       "      <th></th>\n",
       "      <th>date</th>\n",
       "      <th>users_number_248</th>\n",
       "      <th>events_number_248</th>\n",
       "    </tr>\n",
       "  </thead>\n",
       "  <tbody>\n",
       "    <tr>\n",
       "      <th>0</th>\n",
       "      <td>2019-08-01</td>\n",
       "      <td>1230</td>\n",
       "      <td>12274</td>\n",
       "    </tr>\n",
       "    <tr>\n",
       "      <th>1</th>\n",
       "      <td>2019-08-02</td>\n",
       "      <td>1229</td>\n",
       "      <td>13618</td>\n",
       "    </tr>\n",
       "    <tr>\n",
       "      <th>2</th>\n",
       "      <td>2019-08-03</td>\n",
       "      <td>1166</td>\n",
       "      <td>11683</td>\n",
       "    </tr>\n",
       "    <tr>\n",
       "      <th>3</th>\n",
       "      <td>2019-08-04</td>\n",
       "      <td>1188</td>\n",
       "      <td>11512</td>\n",
       "    </tr>\n",
       "    <tr>\n",
       "      <th>4</th>\n",
       "      <td>2019-08-05</td>\n",
       "      <td>1270</td>\n",
       "      <td>12741</td>\n",
       "    </tr>\n",
       "    <tr>\n",
       "      <th>5</th>\n",
       "      <td>2019-08-06</td>\n",
       "      <td>1332</td>\n",
       "      <td>12342</td>\n",
       "    </tr>\n",
       "    <tr>\n",
       "      <th>6</th>\n",
       "      <td>2019-08-07</td>\n",
       "      <td>1241</td>\n",
       "      <td>10393</td>\n",
       "    </tr>\n",
       "  </tbody>\n",
       "</table>\n",
       "</div>"
      ],
      "text/plain": [
       "         date  users_number_248  events_number_248\n",
       "0  2019-08-01              1230              12274\n",
       "1  2019-08-02              1229              13618\n",
       "2  2019-08-03              1166              11683\n",
       "3  2019-08-04              1188              11512\n",
       "4  2019-08-05              1270              12741\n",
       "5  2019-08-06              1332              12342\n",
       "6  2019-08-07              1241              10393"
      ]
     },
     "execution_count": 51,
     "metadata": {},
     "output_type": "execute_result"
    }
   ],
   "source": [
    "# оставляем только группу 248\n",
    "users_248 = events_full.query('exp_id == 248')\n",
    "\n",
    "# делаем группировку по дате, считаем уникальных пользователей и количество событий\n",
    "users_248 = (\n",
    "    users_248.pivot_table(index='date', values=['device_id_hash', 'event_name'], \n",
    "        aggfunc = {'device_id_hash': 'nunique', 'event_name': 'count'}).reset_index()\n",
    ")\n",
    "\n",
    "# даём названия колонкам\n",
    "users_248.columns = ['date', 'users_number_248', 'events_number_248']\n",
    "\n",
    "# вывод\n",
    "users_248"
   ]
  },
  {
   "cell_type": "markdown",
   "metadata": {},
   "source": [
    "#### 4.1.2. Проверка различий между выборками."
   ]
  },
  {
   "cell_type": "markdown",
   "metadata": {},
   "source": [
    "Проверим нулевую гипотезу **\"Среднее количество пользователей в группах 246 и 247 равно\" с помощью  t-теста.** \n",
    "Альтернативная гипотеза: **\"Среднее количество пользователей в группах 246 и 247 различается (не равно)\".**"
   ]
  },
  {
   "cell_type": "code",
   "execution_count": 52,
   "metadata": {},
   "outputs": [
    {
     "name": "stdout",
     "output_type": "stream",
     "text": [
      "p-значение для сравнения среднего количества пользователей групп 246 и 247:  0.309\n",
      "Не получилось отвергнуть нулевую гипотезу для сравнения среднего количества пользователей групп 246 и 247\n"
     ]
    }
   ],
   "source": [
    "# критический уровень статистической значимости\n",
    "alpha = 0.05  \n",
    "\n",
    "# сравниваем группы 246 и 247\n",
    "results_AA = st.ttest_ind(users_246['users_number_246'], users_247['users_number_247'])\n",
    "\n",
    "print('p-значение для сравнения среднего количества пользователей групп 246 и 247: ', round(results_AA.pvalue,4))\n",
    "\n",
    "if results_AA.pvalue < alpha:\n",
    "    print('Отвергаем нулевую гипотезу для сравнения среднего количества пользователей групп 246 и 247')\n",
    "else:\n",
    "    print(\n",
    "        'Не получилось отвергнуть нулевую гипотезу для сравнения среднего количества пользователей групп 246 и 247'\n",
    "    )"
   ]
  },
  {
   "cell_type": "markdown",
   "metadata": {},
   "source": [
    "**p-value равно 0,3 и больше статистической значимости 0,05. Поэтому не отвергаем нулевую гипотезу о том, что среднее количество пользователей в группах 246 и 247 равно.**"
   ]
  },
  {
   "cell_type": "markdown",
   "metadata": {},
   "source": [
    "Проверим нулевую гипотезу **\"Среднее количество событий в группах 246 и 247 равно\"** с помощью  t-теста. \n",
    "Альтернативная гипотеза: **\"Среднее количество событий в группах 246 и 247 различается (не равно)\".**"
   ]
  },
  {
   "cell_type": "code",
   "execution_count": 53,
   "metadata": {},
   "outputs": [
    {
     "name": "stdout",
     "output_type": "stream",
     "text": [
      "p-значение для сравнения среднего количества событий групп 246 и 247:  0.4316\n",
      "Не получилось отвергнуть нулевую гипотезу для сравнения среднего количества событий групп 246 и 247\n"
     ]
    }
   ],
   "source": [
    "# критический уровень статистической значимости\n",
    "alpha = 0.05  \n",
    "\n",
    "# сравниваем группы 246 и 247\n",
    "results_AA_events = st.ttest_ind(users_246['events_number_246'], users_247['events_number_247'])\n",
    "\n",
    "print('p-значение для сравнения среднего количества событий групп 246 и 247: ', round(results_AA_events.pvalue,4))\n",
    "\n",
    "if results_AA_events.pvalue < alpha:\n",
    "    print('Отвергаем нулевую гипотезу для сравнения среднего количества событий групп 246 и 247')\n",
    "else:\n",
    "    print(\n",
    "        'Не получилось отвергнуть нулевую гипотезу для сравнения среднего количества событий групп 246 и 247'\n",
    "    )"
   ]
  },
  {
   "cell_type": "markdown",
   "metadata": {},
   "source": [
    "**p-value равно 0,4 и больше статистической значимости 0,05. Поэтому не отвергаем нулевую гипотезу о том, что среднее количество событий в группах 246 и 247 равно.**"
   ]
  },
  {
   "cell_type": "markdown",
   "metadata": {},
   "source": [
    "Так как гипотезы о равенстве контрольных групп по пользователям и событиям не отвергнуты, мы можем сравнить по тем же параметрам только одну контрольную группу с экспериментальной группой, чтобы проверить равенство контрольных групп (по-отдельности) с экспериментальной."
   ]
  },
  {
   "cell_type": "markdown",
   "metadata": {},
   "source": [
    "Проверим нулевую гипотезу \"Среднее количество пользователей в группах 246 и 248 равно\" с помощью  t-теста. \n",
    "Альтернативная гипотеза: \"Среднее количество пользователей в группах 246 и 248 различается (не равно)\"."
   ]
  },
  {
   "cell_type": "code",
   "execution_count": 54,
   "metadata": {},
   "outputs": [
    {
     "name": "stdout",
     "output_type": "stream",
     "text": [
      "p-значение для сравнения среднего количества пользователей групп 246 и 248:  0.2733\n",
      "Не получилось отвергнуть нулевую гипотезу для сравнения среднего количества пользователей групп 246 и 248\n"
     ]
    }
   ],
   "source": [
    "# критический уровень статистической значимости\n",
    "alpha = 0.05  \n",
    "\n",
    "# сравниваем группы 246 и 248\n",
    "results_AA = st.ttest_ind(users_246['users_number_246'], users_248['users_number_248'])\n",
    "\n",
    "print('p-значение для сравнения среднего количества пользователей групп 246 и 248: ', round(results_AA.pvalue,4))\n",
    "\n",
    "if results_AA.pvalue < alpha:\n",
    "    print('Отвергаем нулевую гипотезу для сравнения среднего количества пользователей групп 246 и 248')\n",
    "else:\n",
    "    print(\n",
    "        'Не получилось отвергнуть нулевую гипотезу для сравнения среднего количества пользователей групп 246 и 248'\n",
    "    )"
   ]
  },
  {
   "cell_type": "markdown",
   "metadata": {},
   "source": [
    "Проверим нулевую гипотезу \"Среднее количество событий в группах 246 и 248 равно\" с помощью  t-теста. \n",
    "Альтернативная гипотеза: \"Среднее количество событий в группах 246 и 248 различается (не равно)\"."
   ]
  },
  {
   "cell_type": "code",
   "execution_count": 55,
   "metadata": {},
   "outputs": [
    {
     "name": "stdout",
     "output_type": "stream",
     "text": [
      "p-значение для сравнения среднего количества событий групп 246 и 248:  0.1263\n",
      "Не получилось отвергнуть нулевую гипотезу для сравнения среднего количества событий групп 246 и 248\n"
     ]
    }
   ],
   "source": [
    "# критический уровень статистической значимости\n",
    "alpha = 0.05  \n",
    "\n",
    "# сравниваем группы 246 и 248\n",
    "results_AA_events = st.ttest_ind(users_246['events_number_246'], users_248['events_number_248'])\n",
    "\n",
    "print('p-значение для сравнения среднего количества событий групп 246 и 248: ', round(results_AA_events.pvalue,4))\n",
    "\n",
    "if results_AA_events.pvalue < alpha:\n",
    "    print('Отвергаем нулевую гипотезу для сравнения среднего количества событий групп 246 и 248')\n",
    "else:\n",
    "    print(\n",
    "        'Не получилось отвергнуть нулевую гипотезу для сравнения среднего количества событий групп 246 и 248'\n",
    "    )"
   ]
  },
  {
   "cell_type": "markdown",
   "metadata": {},
   "source": [
    "**p-value в обоих тестах больше статистической значимости 0,05. Поэтому не отвергаем нулевую гипотезу о том, что среднее количество событий и среднее количество пользователей в группах 246 и 248 равно (значит, и в 247 и 248 равно).**\n",
    "\n",
    "**Это означает, что данные эксперимента достоверны и по ним можно сделать точные выводы о реакции пользователей на новый шрифт.**"
   ]
  },
  {
   "cell_type": "markdown",
   "metadata": {},
   "source": [
    "#### 4.1.3.  Проверка \"пересекающихся\" пользователей в разных группах."
   ]
  },
  {
   "cell_type": "markdown",
   "metadata": {},
   "source": [
    "Проверим, есть ли в выборках пользователи, которые вошли одновременно в несколько групп экспериментов."
   ]
  },
  {
   "cell_type": "code",
   "execution_count": 56,
   "metadata": {},
   "outputs": [
    {
     "name": "stdout",
     "output_type": "stream",
     "text": [
      "Количество пользователей, которые попали в обе группы Users_Exp246_Exp247: 0\n",
      "Количество пользователей, которые попали в обе группы Users_Exp246_Exp248: 0\n",
      "Количество пользователей, которые попали в обе группы Users_Exp247_Exp248: 0\n"
     ]
    }
   ],
   "source": [
    "# создаём словарь для хранения количества \"пересекающихся\" пользователей между группами \n",
    "migrating_users_counts = {}\n",
    "\n",
    "# создаём список групп\n",
    "experiment_ids = ['246', '247', '248']\n",
    "\n",
    "# создаём цикл для перебора значений групп \n",
    "for i in range(len(experiment_ids)):\n",
    "    for j in range(i + 1, len(experiment_ids)):\n",
    "        exp_id1 = experiment_ids[i]\n",
    "        exp_id2 = experiment_ids[j]\n",
    "\n",
    "        # создаём список ID пользователей для первого эксперимента\n",
    "        users_id1 = set(events_full[events_full['exp_id'] == exp_id1]['device_id_hash'])\n",
    "\n",
    "        # создаём список ID пользователей для второго эксперимента\n",
    "        users_id2 = set(events_full[events_full['exp_id'] == exp_id2]['device_id_hash'])\n",
    "\n",
    "        # находим пересечение между ID в экспериментах\n",
    "        migrating_users = users_id1.intersection(users_id2)\n",
    "\n",
    "        # считаем количество \"пересекающихся\" пользователей\n",
    "        migrating_users_count = len(migrating_users)\n",
    "\n",
    "        # создаём переменную для хранения пар экмпериментов \n",
    "        key = f'Users_Exp{exp_id1}_Exp{exp_id2}'\n",
    "        migrating_users_counts[key] = migrating_users_count\n",
    "\n",
    "# вывод результата\n",
    "for key, count in migrating_users_counts.items():\n",
    "    print(f'Количество пользователей, которые попали в обе группы {key}: {count}')\n"
   ]
  },
  {
   "cell_type": "markdown",
   "metadata": {},
   "source": [
    "**В выборках нет пользователей, которые вошли в несколько групп одновременно. Это означает, что на их выбор событий влиял только один шрифт.**"
   ]
  },
  {
   "cell_type": "markdown",
   "metadata": {},
   "source": [
    "### 4.2. Определение самого популярного события и числа пользователей его совершившего в каждой группе.\n",
    "### Доля пользователей, совершивших это событие. \n",
    "### Проверка отличия между группами для всех событий."
   ]
  },
  {
   "cell_type": "code",
   "execution_count": 57,
   "metadata": {},
   "outputs": [
    {
     "data": {
      "text/html": [
       "<div>\n",
       "<style scoped>\n",
       "    .dataframe tbody tr th:only-of-type {\n",
       "        vertical-align: middle;\n",
       "    }\n",
       "\n",
       "    .dataframe tbody tr th {\n",
       "        vertical-align: top;\n",
       "    }\n",
       "\n",
       "    .dataframe thead th {\n",
       "        text-align: right;\n",
       "    }\n",
       "</style>\n",
       "<table border=\"1\" class=\"dataframe\">\n",
       "  <thead>\n",
       "    <tr style=\"text-align: right;\">\n",
       "      <th></th>\n",
       "      <th>event_name</th>\n",
       "      <th>events_number</th>\n",
       "    </tr>\n",
       "  </thead>\n",
       "  <tbody>\n",
       "    <tr>\n",
       "      <th>0</th>\n",
       "      <td>main_screen_appear</td>\n",
       "      <td>117328</td>\n",
       "    </tr>\n",
       "    <tr>\n",
       "      <th>1</th>\n",
       "      <td>offers_screen_appear</td>\n",
       "      <td>46333</td>\n",
       "    </tr>\n",
       "    <tr>\n",
       "      <th>2</th>\n",
       "      <td>cart_screen_appear</td>\n",
       "      <td>42303</td>\n",
       "    </tr>\n",
       "    <tr>\n",
       "      <th>3</th>\n",
       "      <td>payment_screen_successful</td>\n",
       "      <td>33918</td>\n",
       "    </tr>\n",
       "    <tr>\n",
       "      <th>4</th>\n",
       "      <td>tutorial</td>\n",
       "      <td>1005</td>\n",
       "    </tr>\n",
       "  </tbody>\n",
       "</table>\n",
       "</div>"
      ],
      "text/plain": [
       "                  event_name  events_number\n",
       "0         main_screen_appear         117328\n",
       "1       offers_screen_appear          46333\n",
       "2         cart_screen_appear          42303\n",
       "3  payment_screen_successful          33918\n",
       "4                   tutorial           1005"
      ]
     },
     "execution_count": 57,
     "metadata": {},
     "output_type": "execute_result"
    }
   ],
   "source": [
    "# вывод таблицы с частотностью событий\n",
    "events_frequency"
   ]
  },
  {
   "cell_type": "code",
   "execution_count": 58,
   "metadata": {},
   "outputs": [
    {
     "data": {
      "image/png": "[encoded data removed]",
      "text/plain": [
       "<Figure size 800x800 with 1 Axes>"
      ]
     },
     "metadata": {},
     "output_type": "display_data"
    }
   ],
   "source": [
    "# готовим данные для круговой диаграммы\n",
    "event_names = events_frequency['event_name']\n",
    "events_number = events_frequency['events_number']\n",
    "\n",
    "# создаём круговую диаграмму\n",
    "plt.figure(figsize=(8, 8))\n",
    "plt.pie(events_number, labels=event_names, autopct='%1.1f%%', startangle=90)\n",
    "\n",
    "# задаём названия\n",
    "plt.title('Частотность событий')\n",
    "plt.axis('equal')  \n",
    "\n",
    "# вывод\n",
    "plt.show()"
   ]
  },
  {
   "cell_type": "markdown",
   "metadata": {},
   "source": [
    "**Как было замечено в начале исследования, самое популярное событие - \"Показ основного экрана\" (более 117 тыс.событий, 48,7 % от всего количества событий).** \n",
    "\n",
    "Далее рейтинг следующий: \n",
    "\n",
    "2. Показ предложений - более 46 тыс. (19,2%)\n",
    "3. Показ страницы с корзиной - более 42 тыс. (17,6%)\n",
    "4. Показ страницы с успешной оплатой - почти 34 тыс. (14,1%)\n",
    "5. Инструкции - 1 тыс. (0,4%)"
   ]
  },
  {
   "cell_type": "markdown",
   "metadata": {},
   "source": [
    "Создадим функцию для подсчёта пользователей, совершивших определённое событие, в группах и их пропорции от общего количества пользователей **в этой группе**."
   ]
  },
  {
   "cell_type": "code",
   "execution_count": 59,
   "metadata": {},
   "outputs": [],
   "source": [
    "def calculate_proportion(events_data, event_name, exp_ids):\n",
    "    # фильтруем данные по событию и группе\n",
    "    filtered_data = events_data.query(f'event_name == \"{event_name}\" and exp_id.isin({exp_ids})')\n",
    "\n",
    "    # создаём сводную таблицу\n",
    "    pivot_table = filtered_data.pivot_table(index='exp_id', values='device_id_hash', aggfunc='nunique').reset_index()\n",
    "\n",
    "    # задаём названия колонкам\n",
    "    pivot_table.columns = ['exp_id', 'users_number']\n",
    "\n",
    "    # считаем пропорции\n",
    "    pivot_table['proportion'] = (\n",
    "        round(pivot_table['users_number'] / (users_by_exp.query('exp_id in @exp_ids')['users_number']) * 100, 2)\n",
    "    )\n",
    "\n",
    "\n",
    "    return pivot_table"
   ]
  },
  {
   "cell_type": "markdown",
   "metadata": {},
   "source": [
    "Проверим количество пользователей в контрольных группах для самого популярного события - просмотр главного экрана."
   ]
  },
  {
   "cell_type": "code",
   "execution_count": 60,
   "metadata": {},
   "outputs": [
    {
     "data": {
      "text/html": [
       "<div>\n",
       "<style scoped>\n",
       "    .dataframe tbody tr th:only-of-type {\n",
       "        vertical-align: middle;\n",
       "    }\n",
       "\n",
       "    .dataframe tbody tr th {\n",
       "        vertical-align: top;\n",
       "    }\n",
       "\n",
       "    .dataframe thead th {\n",
       "        text-align: right;\n",
       "    }\n",
       "</style>\n",
       "<table border=\"1\" class=\"dataframe\">\n",
       "  <thead>\n",
       "    <tr style=\"text-align: right;\">\n",
       "      <th></th>\n",
       "      <th>exp_id</th>\n",
       "      <th>users_number</th>\n",
       "    </tr>\n",
       "  </thead>\n",
       "  <tbody>\n",
       "    <tr>\n",
       "      <th>0</th>\n",
       "      <td>246</td>\n",
       "      <td>2484</td>\n",
       "    </tr>\n",
       "    <tr>\n",
       "      <th>1</th>\n",
       "      <td>247</td>\n",
       "      <td>2513</td>\n",
       "    </tr>\n",
       "    <tr>\n",
       "      <th>2</th>\n",
       "      <td>248</td>\n",
       "      <td>2537</td>\n",
       "    </tr>\n",
       "  </tbody>\n",
       "</table>\n",
       "</div>"
      ],
      "text/plain": [
       "   exp_id  users_number\n",
       "0     246          2484\n",
       "1     247          2513\n",
       "2     248          2537"
      ]
     },
     "execution_count": 60,
     "metadata": {},
     "output_type": "execute_result"
    }
   ],
   "source": [
    "users_by_exp"
   ]
  },
  {
   "cell_type": "code",
   "execution_count": 61,
   "metadata": {
    "scrolled": true
   },
   "outputs": [
    {
     "data": {
      "text/html": [
       "<div>\n",
       "<style scoped>\n",
       "    .dataframe tbody tr th:only-of-type {\n",
       "        vertical-align: middle;\n",
       "    }\n",
       "\n",
       "    .dataframe tbody tr th {\n",
       "        vertical-align: top;\n",
       "    }\n",
       "\n",
       "    .dataframe thead th {\n",
       "        text-align: right;\n",
       "    }\n",
       "</style>\n",
       "<table border=\"1\" class=\"dataframe\">\n",
       "  <thead>\n",
       "    <tr style=\"text-align: right;\">\n",
       "      <th></th>\n",
       "      <th>exp_id</th>\n",
       "      <th>users_number</th>\n",
       "      <th>proportion</th>\n",
       "    </tr>\n",
       "  </thead>\n",
       "  <tbody>\n",
       "    <tr>\n",
       "      <th>0</th>\n",
       "      <td>246</td>\n",
       "      <td>2450</td>\n",
       "      <td>98.63</td>\n",
       "    </tr>\n",
       "    <tr>\n",
       "      <th>1</th>\n",
       "      <td>247</td>\n",
       "      <td>2476</td>\n",
       "      <td>98.53</td>\n",
       "    </tr>\n",
       "  </tbody>\n",
       "</table>\n",
       "</div>"
      ],
      "text/plain": [
       "   exp_id  users_number  proportion\n",
       "0     246          2450       98.63\n",
       "1     247          2476       98.53"
      ]
     },
     "execution_count": 61,
     "metadata": {},
     "output_type": "execute_result"
    }
   ],
   "source": [
    "# задаём значения для функции\n",
    "exp_ids = [246, 247]\n",
    "event_name = \"main_screen_appear\"\n",
    "\n",
    "# запуск функции\n",
    "calculate_proportion(events_full, event_name, exp_ids)"
   ]
  },
  {
   "cell_type": "markdown",
   "metadata": {},
   "source": [
    "**В контрольных группах 246 и 247 просмотрели главный экран 2450 и 2476 пользователей соответственно. Доля пользователей от общего количества пользователей каждой группы составила 98,63% (группа 246) и 98,53% (группа 247).** "
   ]
  },
  {
   "cell_type": "markdown",
   "metadata": {},
   "source": [
    "Сравним доли пользователей, совершивших событие. Из 2484 пользователей контрольной группы 246 просмотрели главный экран 2450 (98.63%); а из 2513 пользователей контрольной группы 247 — 2476 человек (98.53%).\n",
    "Проверим, есть ли разница в пропорциях пользователей, просмотревших главную страницу, с помощью z-критерия."
   ]
  },
  {
   "cell_type": "code",
   "execution_count": 62,
   "metadata": {},
   "outputs": [],
   "source": [
    "# критический уровень статистической значимости\n",
    "alpha = .05 \n",
    "\n",
    "# совершившие событие\n",
    "successes = np.array([2450, 2476])\n",
    "\n",
    "# пользователей в каждой группе\n",
    "trials = np.array([2484, 2513])\n",
    "\n",
    "# пропорция успехов в первой группе\n",
    "p1 = successes[0]/trials[0]\n",
    "\n",
    "# пропорция успехов во второй группе\n",
    "p2 = successes[1]/trials[1]\n",
    "\n",
    "# пропорция успехов в комбинированном датасете:\n",
    "p_combined = (successes[0] + successes[1]) / (trials[0] + trials[1])\n",
    "\n",
    "# разница пропорций в датасетах\n",
    "difference = p1 - p2"
   ]
  },
  {
   "cell_type": "code",
   "execution_count": 63,
   "metadata": {},
   "outputs": [],
   "source": [
    "# считаем статистику в ст.отклонениях стандартного нормального распределения\n",
    "z_value = difference / mth.sqrt(p_combined * (1 - p_combined) * (1/trials[0] + 1/trials[1]))\n",
    "\n",
    "# задаем стандартное нормальное распределение (среднее 0, ст.отклонение 1)\n",
    "distr = st.norm(0, 1) "
   ]
  },
  {
   "cell_type": "code",
   "execution_count": 64,
   "metadata": {},
   "outputs": [
    {
     "name": "stdout",
     "output_type": "stream",
     "text": [
      "p-значение:  0.7570597232046099\n",
      "Не получилось отвергнуть нулевую гипотезу, нет оснований считать доли разными\n"
     ]
    }
   ],
   "source": [
    "# считаем p-value\n",
    "p_value = (1 - distr.cdf(abs(z_value))) * 2\n",
    "\n",
    "print('p-значение: ', p_value)\n",
    "\n",
    "if p_value < alpha:\n",
    "    print('Отвергаем нулевую гипотезу: между долями есть значимая разница')\n",
    "else:\n",
    "    print(\n",
    "        'Не получилось отвергнуть нулевую гипотезу, нет оснований считать доли разными'\n",
    "    )"
   ]
  },
  {
   "cell_type": "markdown",
   "metadata": {},
   "source": [
    "**p-value 0.757 (больше альфа). Мы не отвергаем нулевую гипотезу о равенстве долей пользователей, смотревших главный экран, в контрольных группах 246 и 247.**"
   ]
  },
  {
   "cell_type": "markdown",
   "metadata": {},
   "source": [
    "Создаём функцию для проверки долей пользователей в контрольных группах 246 и 247, совершивших каждое событие.\n",
    "\n",
    "Функция проверит гипотезы по каждому событию отдельно. Нулевые гипотезы для каждого события: **\"Доля пользователей, совершивших событие, в группе 246 равна доле пользователей в группе 247.\"** \n",
    "\n",
    "Альтернативная гипотеза: **\"Доля пользователей, совершивших событие, в группе 246 не равна доле пользователей в группе 247 (доли различны)\".**"
   ]
  },
  {
   "cell_type": "code",
   "execution_count": 65,
   "metadata": {},
   "outputs": [],
   "source": [
    "# создаём функцию\n",
    "def perform_z_test(events_full, event_names_to_analyze, group1_id, group2_id, alpha=0.05):\n",
    "    \n",
    "    # создаём словарь для хранения\n",
    "    results_dict = {}\n",
    "    \n",
    "    # считаем количество тестов\n",
    "    n_tests = len(event_names_to_analyze)\n",
    "\n",
    "    # считаем альфу с поправкой Шидака\n",
    "    alpha_corrected = 1 - (1 - alpha) ** (1 / n_tests)\n",
    "    \n",
    "    # фильтруем данные по группе и событию\n",
    "    for event_name in event_names_to_analyze:\n",
    "        events_filtered = events_full.query(f'exp_id in [{group1_id}, {group2_id}] and event_name == @event_name')\n",
    "\n",
    "        # считаем количество пользователей, совершивших событие, для каждой группы\n",
    "        success_users_number_group_1 = events_filtered[events_filtered['exp_id'] == group1_id]['device_id_hash'].nunique()\n",
    "        success_users_number_group_2 = events_filtered[events_filtered['exp_id'] == group2_id]['device_id_hash'].nunique()\n",
    "\n",
    "        # считаем количество пользователей для каждой группы\n",
    "        total_users_number_group_1 = events_full[events_full['exp_id'] == group1_id]['device_id_hash'].nunique()\n",
    "        total_users_number_group_2 = events_full[events_full['exp_id'] == group2_id]['device_id_hash'].nunique()\n",
    "\n",
    "        # считаем пропорции и разность\n",
    "        p1 = success_users_number_group_1 / total_users_number_group_1\n",
    "        p2 = success_users_number_group_2 / total_users_number_group_2\n",
    "        p_combined = (success_users_number_group_1 + success_users_number_group_2) / (total_users_number_group_1 + total_users_number_group_2)\n",
    "        difference = p1 - p2\n",
    "\n",
    "        # считаем стандартное отклонение\n",
    "        se = np.sqrt(p_combined * (1 - p_combined) * (1 / total_users_number_group_1 + 1 / total_users_number_group_2))\n",
    "\n",
    "        # считаем величину z\n",
    "        z_value = difference / se\n",
    "\n",
    "        # считаем p-value\n",
    "        p_value = 2 * (1 - st.norm.cdf(abs(z_value)))\n",
    "\n",
    "        # сохраняем результат в словарь\n",
    "        results_dict[event_name] = p_value\n",
    "\n",
    "        # выводим результаты\n",
    "        print(f'Событие: {event_name}')\n",
    "        print('p-value:', p_value)\n",
    "        print('alpha с учётом поправки Шидака: ', alpha_corrected)\n",
    "        if p_value < alpha_corrected:\n",
    "            print('Отклонить нулевую гипотезу: Между пропорциями есть статистически значимое различие')\n",
    "        else:\n",
    "            print('Невозможно отклонить нулевую гипотезу: Между пропорциями нет статистически значимых различий')\n",
    "        print()\n"
   ]
  },
  {
   "cell_type": "code",
   "execution_count": 66,
   "metadata": {},
   "outputs": [],
   "source": [
    "# определяем названия событий\n",
    "event_names_to_analyze = (\n",
    "    [\"main_screen_appear\", \"offers_screen_appear\", \"cart_screen_appear\", \"payment_screen_successful\", \"tutorial\"]\n",
    ") "
   ]
  },
  {
   "cell_type": "code",
   "execution_count": 67,
   "metadata": {},
   "outputs": [
    {
     "name": "stdout",
     "output_type": "stream",
     "text": [
      "Событие: main_screen_appear\n",
      "p-value: 0.7570597232046099\n",
      "alpha с учётом поправки Шидака:  0.010206218313011495\n",
      "Невозможно отклонить нулевую гипотезу: Между пропорциями нет статистически значимых различий\n",
      "\n",
      "Событие: offers_screen_appear\n",
      "p-value: 0.2480954578522181\n",
      "alpha с учётом поправки Шидака:  0.010206218313011495\n",
      "Невозможно отклонить нулевую гипотезу: Между пропорциями нет статистически значимых различий\n",
      "\n",
      "Событие: cart_screen_appear\n",
      "p-value: 0.22883372237997213\n",
      "alpha с учётом поправки Шидака:  0.010206218313011495\n",
      "Невозможно отклонить нулевую гипотезу: Между пропорциями нет статистически значимых различий\n",
      "\n",
      "Событие: payment_screen_successful\n",
      "p-value: 0.11456679313141849\n",
      "alpha с учётом поправки Шидака:  0.010206218313011495\n",
      "Невозможно отклонить нулевую гипотезу: Между пропорциями нет статистически значимых различий\n",
      "\n",
      "Событие: tutorial\n",
      "p-value: 0.9376996189257114\n",
      "alpha с учётом поправки Шидака:  0.010206218313011495\n",
      "Невозможно отклонить нулевую гипотезу: Между пропорциями нет статистически значимых различий\n",
      "\n"
     ]
    }
   ],
   "source": [
    "# проводим тест для всех событий и групп 246,247\n",
    "perform_z_test(events_full, event_names_to_analyze, 246, 247)"
   ]
  },
  {
   "cell_type": "markdown",
   "metadata": {},
   "source": [
    "**С помощью z-критерия было определено, что p-value для всех событий выше 0.01 (альфа рассчитана с поправкой Шидака для 5 тестов), и мы не можем отклонить нулевую гипотезу о равенстве долей пользователей групп 246 и 247, совершивших каждое из следующих событий:** \n",
    "\n",
    "1. Показ основного экрана.\n",
    "2. Показ предложений. \n",
    "3. Показ страницы с корзиной. \n",
    "4. Показ страницы с успешной оплатой.\n",
    "5. Инструкции.\n",
    "\n",
    "**Таким образом, контрольные группы равны и проведенный эксперимент даёт достоверные результаты.**"
   ]
  },
  {
   "cell_type": "markdown",
   "metadata": {},
   "source": [
    "### 4.3. Проверка различий между контрольными группами и экспериментальной: с каждой по-отдельности."
   ]
  },
  {
   "cell_type": "markdown",
   "metadata": {},
   "source": [
    "Для начала посмотрим пропорции по количеству пользователей на каждое событие по группам. \n",
    "Для этого доработаем функцию для вывода пропорций сразу нескольких событий и групп."
   ]
  },
  {
   "cell_type": "code",
   "execution_count": 68,
   "metadata": {},
   "outputs": [
    {
     "name": "stdout",
     "output_type": "stream",
     "text": [
      "Event Name: main_screen_appear\n",
      "   exp_id  users_number  proportion\n",
      "0     246          2450       32.52\n",
      "1     247          2476       32.86\n",
      "2     248          2493       33.09\n",
      "\n",
      "Event Name: offers_screen_appear\n",
      "   exp_id  users_number  proportion\n",
      "0     246          1542       20.47\n",
      "1     247          1520       20.18\n",
      "2     248          1531       20.32\n",
      "\n",
      "Event Name: cart_screen_appear\n",
      "   exp_id  users_number  proportion\n",
      "0     246          1266       16.80\n",
      "1     247          1238       16.43\n",
      "2     248          1230       16.33\n",
      "\n",
      "Event Name: payment_screen_successful\n",
      "   exp_id  users_number  proportion\n",
      "0     246          1200       15.93\n",
      "1     247          1158       15.37\n",
      "2     248          1181       15.68\n",
      "\n"
     ]
    }
   ],
   "source": [
    "def calculate_proportion(events_data, event_names, exp_ids):\n",
    "    # создаём словарь для хранения результатов\n",
    "    result = {}  \n",
    "    \n",
    "    for event_name in event_names:\n",
    "       # фильтруем данные по событию и группе\n",
    "        filtered_data = events_data.query(f'event_name == \"{event_name}\" and exp_id.isin({exp_ids})')\n",
    "\n",
    "      # создаём сводную таблицу\n",
    "        pivot_table = filtered_data.pivot_table(index='exp_id', values='device_id_hash', aggfunc='nunique').reset_index()\n",
    "\n",
    "        # задаём названия колонок\n",
    "        pivot_table.columns = ['exp_id', 'users_number']\n",
    "\n",
    "        # считаем пропорции\n",
    "        pivot_table['proportion'] = round(pivot_table['users_number'] / events_full_users_total * 100, 2)\n",
    "\n",
    "        # добавляем результат\n",
    "        result[event_name] = pivot_table\n",
    "    \n",
    "    return result\n",
    "\n",
    "# задаём значения для всех событий и групп\n",
    "exp_ids = [246, 247, 248]\n",
    "event_names = [\"main_screen_appear\", \"offers_screen_appear\", \"cart_screen_appear\", \"payment_screen_successful\"]\n",
    "results = calculate_proportion(events_full, event_names, exp_ids)\n",
    "\n",
    "# задаём вывод отдельных таблиц для каждого события\n",
    "for event_name, result_df in results.items():\n",
    "    print(f\"Event Name: {event_name}\\n{result_df}\\n\")"
   ]
  },
  {
   "cell_type": "markdown",
   "metadata": {},
   "source": [
    "**Различия между пропорциями количества пользователей в группах для каждого события меньше 1%.** "
   ]
  },
  {
   "cell_type": "markdown",
   "metadata": {},
   "source": [
    "Дорабатываем функцию для проверки долей пользователей в трёх группах. Теперь при расчёте альфа согласно поправке Шидака учитывается 5 тестов и 3 группы.\n",
    "\n",
    "Функция проверит гипотезы по каждому событию отдельно. \n",
    "              \n",
    "Нулевые гипотезы для каждого события: **\"Доля пользователей, совершивших событие, одинакова во всех трех группах (246, 247 и 248).\"**\n",
    "\n",
    "Альтернативная гипотеза: **\"Доля пользователей, совершивших событие, различается по крайней мере в одной из групп (246, 247 и 248).\"**        "
   ]
  },
  {
   "cell_type": "code",
   "execution_count": 69,
   "metadata": {},
   "outputs": [],
   "source": [
    "# создаём функцию\n",
    "def perform_z_test_multiplegroups(events_full, event_names_to_analyze, group1_id, group2_id, alpha=0.05, num_groups=3):\n",
    "    \n",
    "    # создаём словарь для хранения\n",
    "    results_dict = {}\n",
    "    \n",
    "    # считаем количество тестов\n",
    "    n_tests = len(event_names_to_analyze)\n",
    "\n",
    "    # считаем альфу с поправкой Шидака\n",
    "    alpha_corrected = 1 - (1 - alpha) ** (1 / (n_tests * num_groups))\n",
    "    \n",
    "    # фильтруем данные по группе и событию\n",
    "    for event_name in event_names_to_analyze:\n",
    "        events_filtered = events_full.query(f'exp_id in [{group1_id}, {group2_id}] and event_name == @event_name')\n",
    "\n",
    "        # считаем количество пользователей, совершивших событие, для каждой группы\n",
    "        success_users_number_group_1 = events_filtered[events_filtered['exp_id'] == group1_id]['device_id_hash'].nunique()\n",
    "        success_users_number_group_2 = events_filtered[events_filtered['exp_id'] == group2_id]['device_id_hash'].nunique()\n",
    "\n",
    "        # считаем количество пользователей для каждой группы\n",
    "        total_users_number_group_1 = events_full[events_full['exp_id'] == group1_id]['device_id_hash'].nunique()\n",
    "        total_users_number_group_2 = events_full[events_full['exp_id'] == group2_id]['device_id_hash'].nunique()\n",
    "\n",
    "        # считаем пропорции и разность\n",
    "        p1 = success_users_number_group_1 / total_users_number_group_1\n",
    "        p2 = success_users_number_group_2 / total_users_number_group_2\n",
    "        p_combined = (success_users_number_group_1 + success_users_number_group_2) / (total_users_number_group_1 + total_users_number_group_2)\n",
    "        difference = p1 - p2\n",
    "\n",
    "        # считаем стандартное отклонение\n",
    "        se = np.sqrt(p_combined * (1 - p_combined) * (1 / total_users_number_group_1 + 1 / total_users_number_group_2))\n",
    "\n",
    "        # считаем величину z\n",
    "        z_value = difference / se\n",
    "\n",
    "        # считаем p-value\n",
    "        p_value = 2 * (1 - st.norm.cdf(abs(z_value)))\n",
    "\n",
    "        # сохраняем результат в словарь\n",
    "        results_dict[event_name] = p_value\n",
    "\n",
    "        # выводим результаты\n",
    "        print(f'Событие: {event_name}')\n",
    "        print('p-value:', p_value)\n",
    "        print('alpha с учётом поправки Шидака: ', alpha_corrected)\n",
    "        if p_value < alpha_corrected:\n",
    "            print('Отклонить нулевую гипотезу: Между пропорциями есть статистически значимое различие')\n",
    "        else:\n",
    "            print('Невозможно отклонить нулевую гипотезу: Между пропорциями нет статистически значимых различий')\n",
    "        print()"
   ]
  },
  {
   "cell_type": "code",
   "execution_count": 70,
   "metadata": {},
   "outputs": [
    {
     "name": "stdout",
     "output_type": "stream",
     "text": [
      "Событие: main_screen_appear\n",
      "p-value: 0.7570597232046099\n",
      "alpha с учётом поправки Шидака:  (-0.4122693186005888-0.30018711051380614j)\n",
      "Невозможно отклонить нулевую гипотезу: Между пропорциями нет статистически значимых различий\n",
      "\n",
      "Событие: offers_screen_appear\n",
      "p-value: 0.2480954578522181\n",
      "alpha с учётом поправки Шидака:  (-0.4122693186005888-0.30018711051380614j)\n",
      "Невозможно отклонить нулевую гипотезу: Между пропорциями нет статистически значимых различий\n",
      "\n",
      "Событие: cart_screen_appear\n",
      "p-value: 0.22883372237997213\n",
      "alpha с учётом поправки Шидака:  (-0.4122693186005888-0.30018711051380614j)\n",
      "Невозможно отклонить нулевую гипотезу: Между пропорциями нет статистически значимых различий\n",
      "\n",
      "Событие: payment_screen_successful\n",
      "p-value: 0.11456679313141849\n",
      "alpha с учётом поправки Шидака:  (-0.4122693186005888-0.30018711051380614j)\n",
      "Невозможно отклонить нулевую гипотезу: Между пропорциями нет статистически значимых различий\n",
      "\n",
      "Событие: tutorial\n",
      "p-value: 0.9376996189257114\n",
      "alpha с учётом поправки Шидака:  (-0.4122693186005888-0.30018711051380614j)\n",
      "Невозможно отклонить нулевую гипотезу: Между пропорциями нет статистически значимых различий\n",
      "\n"
     ]
    }
   ],
   "source": [
    "# проводим тест для всех событий и групп 246,247,248\n",
    "perform_z_test_multiplegroups(events_full, event_names_to_analyze, 246, 247, 248)"
   ]
  },
  {
   "cell_type": "markdown",
   "metadata": {},
   "source": [
    "**С помощью z-критерия было определено, что p-value для всех событий и трёх сравниваемых групп выше альфа (альфа рассчитана с поправкой Шидака для 5 тестов и 3 групп), и мы не можем отклонить нулевую гипотезу.  Доля пользователей, совершивших каждое событие, одинакова во всех трех группах (246, 247 и 248).**\n",
    "\n",
    "**Получается, что поведение пользователей не изменилось, когда они использовали интерфейс приложения с новым шрифтом.**"
   ]
  },
  {
   "cell_type": "markdown",
   "metadata": {},
   "source": [
    "### 4.4. Проверка различий между контрольными группами и экспериментальной: с двумя контрольными группами вместе."
   ]
  },
  {
   "cell_type": "markdown",
   "metadata": {},
   "source": [
    "Сравним пропорции пользователей, совершивших событие, в экспериментальной группе 248 с пользователями объединённых контрольных групп: объединим совершенные пользователями события из групп 246 и 247, назовём эту объединённую группу 250.\n",
    "\n",
    "Для начала посчитаем пропорции для кажого события и группы, затем проверим гипотезы.\n",
    "\n",
    "Нулевая гипотеза для каждого события: **\"Пропорция пользователей, совершивших событие, в объединённой контрольной группе 250 равна пропорции в экспериментальной группе 248.\"** \n",
    "\n",
    "Альтернативная гипотеза: **\"Пропорция пользователей, совершивших событие, в объединённой контрольной группе 250 не равна пропорции пользователей в экспериментальной группе 248 (пропорции пользователей различны)\".**"
   ]
  },
  {
   "cell_type": "code",
   "execution_count": 71,
   "metadata": {
    "scrolled": true
   },
   "outputs": [],
   "source": [
    "# задаём один номер для обеих контрольных групп\n",
    "events_full_246_plus_247 = events_full\n",
    "events_full_246_plus_247['exp_id'] = events_full_246_plus_247['exp_id'].replace([246,247], 250)\n",
    "\n",
    "# задаём значения для всех событий и групп\n",
    "exp_ids = [250, 248]"
   ]
  },
  {
   "cell_type": "code",
   "execution_count": 72,
   "metadata": {},
   "outputs": [
    {
     "name": "stdout",
     "output_type": "stream",
     "text": [
      "Событие: main_screen_appear\n",
      "p-value: 0.29424526837179577\n",
      "alpha с учётом поправки Шидака:  0.010206218313011495\n",
      "Невозможно отклонить нулевую гипотезу: Между пропорциями нет статистически значимых различий\n",
      "\n",
      "Событие: offers_screen_appear\n",
      "p-value: 0.43425549655188256\n",
      "alpha с учётом поправки Шидака:  0.010206218313011495\n",
      "Невозможно отклонить нулевую гипотезу: Между пропорциями нет статистически значимых различий\n",
      "\n",
      "Событие: cart_screen_appear\n",
      "p-value: 0.18175875284404386\n",
      "alpha с учётом поправки Шидака:  0.010206218313011495\n",
      "Невозможно отклонить нулевую гипотезу: Между пропорциями нет статистически значимых различий\n",
      "\n",
      "Событие: payment_screen_successful\n",
      "p-value: 0.6004294282308704\n",
      "alpha с учётом поправки Шидака:  0.010206218313011495\n",
      "Невозможно отклонить нулевую гипотезу: Между пропорциями нет статистически значимых различий\n",
      "\n",
      "Событие: tutorial\n",
      "p-value: 0.764862472531507\n",
      "alpha с учётом поправки Шидака:  0.010206218313011495\n",
      "Невозможно отклонить нулевую гипотезу: Между пропорциями нет статистически значимых различий\n",
      "\n"
     ]
    }
   ],
   "source": [
    "perform_z_test(events_full_246_plus_247, event_names_to_analyze, 250, 248)"
   ]
  },
  {
   "cell_type": "markdown",
   "metadata": {},
   "source": [
    "**С помощью z-критерия было определено, что p-value для всех событий выше 0.01 (альфа рассчитана с поправкой Шидака для 5 тестов), и мы не можем отклонить нулевую гипотезу о равенстве долей пользователей объединенных контрольных групп 246 и 247 с долями экспериментальной группы 248 по всем событиям.**\n",
    "\n",
    "**Это ещё раз доказывает, что поведение пользователей при замене шрифта не изменилось.**"
   ]
  },
  {
   "cell_type": "markdown",
   "metadata": {
    "id": "hbNu9EXeWVwo"
   },
   "source": [
    "<div style=\"border:solid Chocolate 2px; padding: 40px\">\n",
    "\n",
    "## Общий вывод.\n",
    "\n",
    "#### Предобработка данных. \n",
    "\n",
    "На этапе предобработки не выявлено пропусков, удалены дубликаты, скорректированы заголовки столбцов согласно pep8, столбец с датой и временем приведён к формату datetime, добавлен столбец с датой отдельно.\n",
    "\n",
    "#### Изучение данных. \n",
    "Всего в логе 243 713 событий и 7 551 пользователь.  Медианное количество событий на пользователя - 20.\n",
    "\n",
    "Выявлено, что по факту до 1 августа 2019 года данных почти нет. Поэтому было принято решение оценивать результаты теста по данным с 1 августа. Был создан новый датасет с периодом проведения экспериментов 1-7 августа 2019 года. В датасете более 240 тыс. событий и более 7,5 тыс. пользователей. При удалении данных за период 25-31 июля 2019 года было утеряно 1,16% событий и 0,23% пользователей, что незначительно для корретной интерпретации экспериментов.\n",
    "\n",
    "В группах эксперимента достаточное количество пользователей (около 2500 пользователей в каждой).\n",
    "\n",
    "#### Анализ воронки событий.\n",
    "Рейтинг событий по их количеству и по количеству пользователей, совершивших событие, совпал: \n",
    "\n",
    "1. Показ основного экрана \n",
    "2. Показ предложений \n",
    "3. Показ страницы с корзиной \n",
    "4. Показ страницы с успешной оплатой \n",
    "5. Инструкции \n",
    "\n",
    "\n",
    "Выстроена следующая воронка событий для пользователя (с указанием количества пользователей на каждом шаге): \n",
    "\n",
    "1. Показ основного экрана - более 7 тыс.\n",
    "2. Показ предложений - более 4,5 тыс.\n",
    "3. Показ страницы с корзиной - более 3,7 тыс.\n",
    "4. Показ страницы с успешной оплатой - почти 3,5 тыс.\n",
    "\n",
    "Больше всего пользователей потеряли на шаге \"Показ предложений\" (около 40%). \n",
    "\n",
    "На шаге \"Показ страницы с корзиной\" осталось 80% пользователей с предыдущего шага \"Показ предложений\", а на шаге \"Показ страницы с успешной оплатой\" осталось 90% пользователей, которые были на предыдущем шаге \"Показ страницы с корзиной\".\n",
    "\n",
    "Доля пользователей, которые доходят от первого события до оплаты, от всех пользователей, которые двигались по воронке событий, составляет 46%. \n",
    "\n",
    "\n",
    "####  Анализ А/А/В-теста.\n",
    "\n",
    "- количество пользователей в группах 246, 247, 248 около 2 500 человек (в каждой);\n",
    "- проведены t-тесты для сравнения средних по количеству пользователей и количеству мероприятий между контрольными группами (246 и 247) и между контрольной и экспериментальной группой (246 и 248). По результатам всех тестов, нулевые гипотезы о равенстве средних не отвергнуты. Это означает, что данные собраны корректно и на их основании можно сделать точный вывод о результатах эксперимента;\n",
    "- проведена проверка на \"пересекающихся\" пользователей: в выборках нет пользователей, которые вошли в несколько групп одновременно. Это означает, что на их выбор событий влиял только один показанный шрифт;\n",
    "- самое популярное событие - \"Показ основного экрана\", что понятно, так как все заходят сначала на главную страницу.\n",
    "В контрольных группах 246 и 247 просмотрели главный экран 98,63% (группа 246) и 98,53% (группа 247);\n",
    "- с помощью z-критерия было определено, что p-value для всех событий выше альфа (альфа рассчитана с поправкой Шидака с учётом количества тестов и групп, где необходимо), и мы не можем отклонить следующие нулевые гипотезы: \n",
    "  - доли пользователей, совершивших событие, в группах 246 и 247 равны;\n",
    "  - доля пользователей, совершивших каждое событие, одинакова во всех трех группах (246, 247 и 248);\n",
    "  - доли пользователей объединенных контрольных групп 246 и 247 равны с долями пользователей экспериментальной группы 248 по всем событиям.\n",
    "\n",
    "**Таким образом:**\n",
    "    \n",
    "**- контрольные группы равны и проведенный эксперимент даёт достоверные результаты;**\n",
    "    \n",
    "**- поведение пользователей не изменилось, когда они использовали интерфейс приложения с новым шрифтом.**\n",
    "\n",
    "### Основные выводы и рекомендации:\n",
    "\n",
    " - Было выявлено, что 40% пользователей уходит из приложения после шага \"Просмотр основного экрана\" и уже не попадает на шаг \"Просмотр предложений\". Необходимо провести дополнительное исследование, чтобы понять, что отталкивает пользователей на этом шаге и что может увеличить процент перехода пользователей на второй шаг. \n",
    " \n",
    " - Согласно проведённым статистическим тестам пользователи, которые видели старый шрифт, и пользователи, которые видели новый шрифт в мобильном приложении, двигаются по воронке событий одинаково. Рекомендуется остановить тест с заключением: \"Новый шрифт не повлиял на поведение пользователей приложения негативно, и его можно использовать.\""
   ]
  },
  {
   "cell_type": "code",
   "execution_count": null,
   "metadata": {},
   "outputs": [],
   "source": []
  }
 ],
 "metadata": {
  "ExecuteTimeLog": [
   {
    "duration": 669,
    "start_time": "2023-08-19T20:29:45.624Z"
   },
   {
    "duration": 2443,
    "start_time": "2023-08-19T20:29:46.295Z"
   },
   {
    "duration": 17,
    "start_time": "2023-08-19T20:29:48.760Z"
   },
   {
    "duration": 111,
    "start_time": "2023-08-19T20:29:48.779Z"
   },
   {
    "duration": 4,
    "start_time": "2023-08-19T20:29:48.891Z"
   },
   {
    "duration": 275,
    "start_time": "2023-08-19T20:29:48.897Z"
   },
   {
    "duration": 96,
    "start_time": "2023-08-19T20:29:49.175Z"
   },
   {
    "duration": 22,
    "start_time": "2023-08-19T20:29:49.273Z"
   },
   {
    "duration": 77,
    "start_time": "2023-08-19T20:29:49.297Z"
   },
   {
    "duration": 21,
    "start_time": "2023-08-19T20:29:49.376Z"
   },
   {
    "duration": 302,
    "start_time": "2023-08-19T20:29:49.398Z"
   },
   {
    "duration": 70,
    "start_time": "2023-08-19T20:29:49.701Z"
   },
   {
    "duration": 11,
    "start_time": "2023-08-19T20:29:49.773Z"
   },
   {
    "duration": 3,
    "start_time": "2023-08-19T20:29:49.785Z"
   },
   {
    "duration": 11,
    "start_time": "2023-08-19T20:29:49.790Z"
   },
   {
    "duration": 11,
    "start_time": "2023-08-19T20:29:49.802Z"
   },
   {
    "duration": 8,
    "start_time": "2023-08-19T20:29:49.815Z"
   },
   {
    "duration": 7,
    "start_time": "2023-08-19T20:29:49.825Z"
   },
   {
    "duration": 14,
    "start_time": "2023-08-19T20:29:49.857Z"
   },
   {
    "duration": 4,
    "start_time": "2023-08-19T20:29:49.873Z"
   },
   {
    "duration": 6,
    "start_time": "2023-08-19T20:29:49.879Z"
   },
   {
    "duration": 10,
    "start_time": "2023-08-19T20:29:49.887Z"
   },
   {
    "duration": 8,
    "start_time": "2023-08-19T20:29:49.899Z"
   },
   {
    "duration": 9,
    "start_time": "2023-08-19T20:29:49.908Z"
   },
   {
    "duration": 24,
    "start_time": "2023-08-19T20:29:49.919Z"
   },
   {
    "duration": 24,
    "start_time": "2023-08-19T20:29:49.945Z"
   },
   {
    "duration": 16,
    "start_time": "2023-08-19T20:29:49.971Z"
   },
   {
    "duration": 12,
    "start_time": "2023-08-19T20:29:49.991Z"
   },
   {
    "duration": 14,
    "start_time": "2023-08-19T20:29:50.005Z"
   },
   {
    "duration": 11,
    "start_time": "2023-08-19T20:29:50.021Z"
   },
   {
    "duration": 13,
    "start_time": "2023-08-19T20:29:50.034Z"
   },
   {
    "duration": 24,
    "start_time": "2023-08-19T20:29:50.048Z"
   },
   {
    "duration": 473,
    "start_time": "2023-08-19T20:29:50.074Z"
   },
   {
    "duration": 23,
    "start_time": "2023-08-19T20:29:50.548Z"
   },
   {
    "duration": 15,
    "start_time": "2023-08-19T20:29:50.573Z"
   },
   {
    "duration": 20,
    "start_time": "2023-08-19T20:29:50.589Z"
   },
   {
    "duration": 20,
    "start_time": "2023-08-19T20:29:50.611Z"
   },
   {
    "duration": 43,
    "start_time": "2023-08-19T20:29:50.633Z"
   },
   {
    "duration": 4,
    "start_time": "2023-08-19T20:29:50.678Z"
   },
   {
    "duration": 16,
    "start_time": "2023-08-19T20:29:50.684Z"
   },
   {
    "duration": 7,
    "start_time": "2023-08-19T20:29:50.702Z"
   },
   {
    "duration": 112,
    "start_time": "2023-08-19T20:29:50.711Z"
   },
   {
    "duration": 0,
    "start_time": "2023-08-19T20:29:50.825Z"
   },
   {
    "duration": 0,
    "start_time": "2023-08-19T20:29:50.826Z"
   },
   {
    "duration": 0,
    "start_time": "2023-08-19T20:29:50.827Z"
   },
   {
    "duration": 1,
    "start_time": "2023-08-19T20:29:50.828Z"
   },
   {
    "duration": 0,
    "start_time": "2023-08-19T20:29:50.829Z"
   },
   {
    "duration": 0,
    "start_time": "2023-08-19T20:29:50.830Z"
   },
   {
    "duration": 0,
    "start_time": "2023-08-19T20:29:50.832Z"
   },
   {
    "duration": 0,
    "start_time": "2023-08-19T20:29:50.832Z"
   },
   {
    "duration": 0,
    "start_time": "2023-08-19T20:29:50.833Z"
   },
   {
    "duration": 0,
    "start_time": "2023-08-19T20:29:50.834Z"
   },
   {
    "duration": 0,
    "start_time": "2023-08-19T20:29:50.835Z"
   },
   {
    "duration": 1,
    "start_time": "2023-08-19T20:29:50.836Z"
   },
   {
    "duration": 0,
    "start_time": "2023-08-19T20:29:50.838Z"
   },
   {
    "duration": 0,
    "start_time": "2023-08-19T20:29:50.839Z"
   },
   {
    "duration": 0,
    "start_time": "2023-08-19T20:29:50.840Z"
   },
   {
    "duration": 0,
    "start_time": "2023-08-19T20:29:50.841Z"
   },
   {
    "duration": 0,
    "start_time": "2023-08-19T20:29:50.842Z"
   },
   {
    "duration": 615,
    "start_time": "2023-08-20T20:58:09.243Z"
   },
   {
    "duration": 1268,
    "start_time": "2023-08-20T20:58:09.860Z"
   },
   {
    "duration": 21,
    "start_time": "2023-08-20T20:58:11.129Z"
   },
   {
    "duration": 111,
    "start_time": "2023-08-20T20:58:11.152Z"
   },
   {
    "duration": 3,
    "start_time": "2023-08-20T20:58:11.264Z"
   },
   {
    "duration": 184,
    "start_time": "2023-08-20T20:58:11.269Z"
   },
   {
    "duration": 97,
    "start_time": "2023-08-20T20:58:11.455Z"
   },
   {
    "duration": 138,
    "start_time": "2023-08-20T20:58:11.553Z"
   },
   {
    "duration": 16,
    "start_time": "2023-08-20T20:58:11.693Z"
   },
   {
    "duration": 18,
    "start_time": "2023-08-20T20:58:11.712Z"
   },
   {
    "duration": 122,
    "start_time": "2023-08-20T20:58:11.732Z"
   },
   {
    "duration": 9,
    "start_time": "2023-08-20T20:58:11.856Z"
   },
   {
    "duration": 12,
    "start_time": "2023-08-20T20:58:11.866Z"
   },
   {
    "duration": 4,
    "start_time": "2023-08-20T20:58:11.879Z"
   },
   {
    "duration": 16,
    "start_time": "2023-08-20T20:58:11.885Z"
   },
   {
    "duration": 9,
    "start_time": "2023-08-20T20:58:11.903Z"
   },
   {
    "duration": 40,
    "start_time": "2023-08-20T20:58:11.914Z"
   },
   {
    "duration": 7,
    "start_time": "2023-08-20T20:58:11.956Z"
   },
   {
    "duration": 22,
    "start_time": "2023-08-20T20:58:11.965Z"
   },
   {
    "duration": 4,
    "start_time": "2023-08-20T20:58:11.989Z"
   },
   {
    "duration": 115,
    "start_time": "2023-08-20T20:58:11.995Z"
   },
   {
    "duration": 0,
    "start_time": "2023-08-20T20:58:12.112Z"
   },
   {
    "duration": 0,
    "start_time": "2023-08-20T20:58:12.113Z"
   },
   {
    "duration": 0,
    "start_time": "2023-08-20T20:58:12.115Z"
   },
   {
    "duration": 0,
    "start_time": "2023-08-20T20:58:12.116Z"
   },
   {
    "duration": 0,
    "start_time": "2023-08-20T20:58:12.117Z"
   },
   {
    "duration": 0,
    "start_time": "2023-08-20T20:58:12.119Z"
   },
   {
    "duration": 0,
    "start_time": "2023-08-20T20:58:12.120Z"
   },
   {
    "duration": 0,
    "start_time": "2023-08-20T20:58:12.121Z"
   },
   {
    "duration": 0,
    "start_time": "2023-08-20T20:58:12.122Z"
   },
   {
    "duration": 0,
    "start_time": "2023-08-20T20:58:12.123Z"
   },
   {
    "duration": 1,
    "start_time": "2023-08-20T20:58:12.124Z"
   },
   {
    "duration": 0,
    "start_time": "2023-08-20T20:58:12.125Z"
   },
   {
    "duration": 0,
    "start_time": "2023-08-20T20:58:12.126Z"
   },
   {
    "duration": 0,
    "start_time": "2023-08-20T20:58:12.127Z"
   },
   {
    "duration": 0,
    "start_time": "2023-08-20T20:58:12.150Z"
   },
   {
    "duration": 0,
    "start_time": "2023-08-20T20:58:12.151Z"
   },
   {
    "duration": 0,
    "start_time": "2023-08-20T20:58:12.151Z"
   },
   {
    "duration": 0,
    "start_time": "2023-08-20T20:58:12.152Z"
   },
   {
    "duration": 0,
    "start_time": "2023-08-20T20:58:12.153Z"
   },
   {
    "duration": 0,
    "start_time": "2023-08-20T20:58:12.155Z"
   },
   {
    "duration": 0,
    "start_time": "2023-08-20T20:58:12.156Z"
   },
   {
    "duration": 0,
    "start_time": "2023-08-20T20:58:12.157Z"
   },
   {
    "duration": 0,
    "start_time": "2023-08-20T20:58:12.158Z"
   },
   {
    "duration": 0,
    "start_time": "2023-08-20T20:58:12.159Z"
   },
   {
    "duration": 0,
    "start_time": "2023-08-20T20:58:12.160Z"
   },
   {
    "duration": 0,
    "start_time": "2023-08-20T20:58:12.162Z"
   },
   {
    "duration": 0,
    "start_time": "2023-08-20T20:58:12.163Z"
   },
   {
    "duration": 0,
    "start_time": "2023-08-20T20:58:12.164Z"
   },
   {
    "duration": 0,
    "start_time": "2023-08-20T20:58:12.166Z"
   },
   {
    "duration": 0,
    "start_time": "2023-08-20T20:58:12.167Z"
   },
   {
    "duration": 0,
    "start_time": "2023-08-20T20:58:12.168Z"
   },
   {
    "duration": 0,
    "start_time": "2023-08-20T20:58:12.170Z"
   },
   {
    "duration": 0,
    "start_time": "2023-08-20T20:58:12.171Z"
   },
   {
    "duration": 0,
    "start_time": "2023-08-20T20:58:12.172Z"
   },
   {
    "duration": 0,
    "start_time": "2023-08-20T20:58:12.173Z"
   },
   {
    "duration": 0,
    "start_time": "2023-08-20T20:58:12.174Z"
   },
   {
    "duration": 0,
    "start_time": "2023-08-20T20:58:12.175Z"
   },
   {
    "duration": 0,
    "start_time": "2023-08-20T20:58:12.177Z"
   },
   {
    "duration": 0,
    "start_time": "2023-08-20T20:58:12.178Z"
   },
   {
    "duration": 0,
    "start_time": "2023-08-20T20:58:12.179Z"
   },
   {
    "duration": 0,
    "start_time": "2023-08-20T20:58:12.180Z"
   },
   {
    "duration": 0,
    "start_time": "2023-08-20T20:58:12.182Z"
   },
   {
    "duration": 0,
    "start_time": "2023-08-20T20:58:12.183Z"
   },
   {
    "duration": 0,
    "start_time": "2023-08-20T20:58:12.184Z"
   },
   {
    "duration": 690,
    "start_time": "2023-08-20T20:58:58.439Z"
   },
   {
    "duration": 634,
    "start_time": "2023-08-20T20:58:59.131Z"
   },
   {
    "duration": 11,
    "start_time": "2023-08-20T20:58:59.766Z"
   },
   {
    "duration": 59,
    "start_time": "2023-08-20T20:58:59.779Z"
   },
   {
    "duration": 3,
    "start_time": "2023-08-20T20:58:59.840Z"
   },
   {
    "duration": 88,
    "start_time": "2023-08-20T20:58:59.844Z"
   },
   {
    "duration": 44,
    "start_time": "2023-08-20T20:58:59.934Z"
   },
   {
    "duration": 20,
    "start_time": "2023-08-20T20:58:59.979Z"
   },
   {
    "duration": 17,
    "start_time": "2023-08-20T20:59:00.000Z"
   },
   {
    "duration": 51,
    "start_time": "2023-08-20T20:59:00.019Z"
   },
   {
    "duration": 156,
    "start_time": "2023-08-20T20:59:00.071Z"
   },
   {
    "duration": 7,
    "start_time": "2023-08-20T20:59:00.229Z"
   },
   {
    "duration": 38,
    "start_time": "2023-08-20T20:59:00.237Z"
   },
   {
    "duration": 22,
    "start_time": "2023-08-20T20:59:00.276Z"
   },
   {
    "duration": 22,
    "start_time": "2023-08-20T20:59:00.299Z"
   },
   {
    "duration": 24,
    "start_time": "2023-08-20T20:59:00.322Z"
   },
   {
    "duration": 27,
    "start_time": "2023-08-20T20:59:00.347Z"
   },
   {
    "duration": 20,
    "start_time": "2023-08-20T20:59:00.375Z"
   },
   {
    "duration": 28,
    "start_time": "2023-08-20T20:59:00.396Z"
   },
   {
    "duration": 10,
    "start_time": "2023-08-20T20:59:00.426Z"
   },
   {
    "duration": 40,
    "start_time": "2023-08-20T20:59:00.438Z"
   },
   {
    "duration": 34,
    "start_time": "2023-08-20T20:59:00.479Z"
   },
   {
    "duration": 22,
    "start_time": "2023-08-20T20:59:00.515Z"
   },
   {
    "duration": 35,
    "start_time": "2023-08-20T20:59:00.538Z"
   },
   {
    "duration": 45,
    "start_time": "2023-08-20T20:59:00.575Z"
   },
   {
    "duration": 41,
    "start_time": "2023-08-20T20:59:00.622Z"
   },
   {
    "duration": 38,
    "start_time": "2023-08-20T20:59:00.665Z"
   },
   {
    "duration": 42,
    "start_time": "2023-08-20T20:59:00.707Z"
   },
   {
    "duration": 72,
    "start_time": "2023-08-20T20:59:00.751Z"
   },
   {
    "duration": 53,
    "start_time": "2023-08-20T20:59:00.824Z"
   },
   {
    "duration": 48,
    "start_time": "2023-08-20T20:59:00.879Z"
   },
   {
    "duration": 37,
    "start_time": "2023-08-20T20:59:00.929Z"
   },
   {
    "duration": 67,
    "start_time": "2023-08-20T20:59:00.968Z"
   },
   {
    "duration": 51,
    "start_time": "2023-08-20T20:59:01.037Z"
   },
   {
    "duration": 489,
    "start_time": "2023-08-20T20:59:01.089Z"
   },
   {
    "duration": 10,
    "start_time": "2023-08-20T20:59:01.580Z"
   },
   {
    "duration": 37,
    "start_time": "2023-08-20T20:59:01.592Z"
   },
   {
    "duration": 57,
    "start_time": "2023-08-20T20:59:01.630Z"
   },
   {
    "duration": 74,
    "start_time": "2023-08-20T20:59:01.688Z"
   },
   {
    "duration": 28,
    "start_time": "2023-08-20T20:59:01.764Z"
   },
   {
    "duration": 48,
    "start_time": "2023-08-20T20:59:01.793Z"
   },
   {
    "duration": 74,
    "start_time": "2023-08-20T20:59:01.843Z"
   },
   {
    "duration": 40,
    "start_time": "2023-08-20T20:59:01.918Z"
   },
   {
    "duration": 41,
    "start_time": "2023-08-20T20:59:01.959Z"
   },
   {
    "duration": 30,
    "start_time": "2023-08-20T20:59:02.002Z"
   },
   {
    "duration": 22,
    "start_time": "2023-08-20T20:59:02.034Z"
   },
   {
    "duration": 58,
    "start_time": "2023-08-20T20:59:02.057Z"
   },
   {
    "duration": 25,
    "start_time": "2023-08-20T20:59:02.116Z"
   },
   {
    "duration": 27,
    "start_time": "2023-08-20T20:59:02.143Z"
   },
   {
    "duration": 499,
    "start_time": "2023-08-20T20:59:02.172Z"
   },
   {
    "duration": 19,
    "start_time": "2023-08-20T20:59:02.673Z"
   },
   {
    "duration": 2,
    "start_time": "2023-08-20T20:59:02.694Z"
   },
   {
    "duration": 36,
    "start_time": "2023-08-20T20:59:02.697Z"
   },
   {
    "duration": 1199,
    "start_time": "2023-08-20T20:59:02.749Z"
   },
   {
    "duration": 559,
    "start_time": "2023-08-20T20:59:03.950Z"
   },
   {
    "duration": 675,
    "start_time": "2023-08-20T20:59:04.511Z"
   },
   {
    "duration": 681,
    "start_time": "2023-08-20T20:59:05.187Z"
   },
   {
    "duration": 901,
    "start_time": "2023-08-20T20:59:05.870Z"
   },
   {
    "duration": 955,
    "start_time": "2023-08-20T20:59:06.773Z"
   },
   {
    "duration": 1484,
    "start_time": "2023-08-20T20:59:07.730Z"
   },
   {
    "duration": 1181,
    "start_time": "2023-08-20T20:59:09.216Z"
   },
   {
    "duration": 1101,
    "start_time": "2023-08-20T20:59:10.399Z"
   },
   {
    "duration": 1467,
    "start_time": "2023-08-20T20:59:11.502Z"
   },
   {
    "duration": 1454,
    "start_time": "2023-08-20T20:59:12.971Z"
   },
   {
    "duration": 2077,
    "start_time": "2023-08-20T20:59:14.426Z"
   },
   {
    "duration": 1303,
    "start_time": "2023-09-22T20:48:25.928Z"
   },
   {
    "duration": 603,
    "start_time": "2023-09-22T20:48:27.233Z"
   },
   {
    "duration": 4,
    "start_time": "2023-09-22T20:48:27.837Z"
   },
   {
    "duration": 1777,
    "start_time": "2023-09-22T20:48:27.849Z"
   },
   {
    "duration": 3,
    "start_time": "2023-09-22T20:48:29.628Z"
   },
   {
    "duration": 30,
    "start_time": "2023-09-22T20:48:29.632Z"
   },
   {
    "duration": 55,
    "start_time": "2023-09-22T20:48:29.664Z"
   },
   {
    "duration": 6,
    "start_time": "2023-09-22T20:48:29.721Z"
   },
   {
    "duration": 73,
    "start_time": "2023-09-22T20:48:29.729Z"
   },
   {
    "duration": 66,
    "start_time": "2023-09-22T20:48:29.806Z"
   },
   {
    "duration": 2678,
    "start_time": "2023-09-22T20:48:29.874Z"
   },
   {
    "duration": 63,
    "start_time": "2023-09-22T20:48:32.554Z"
   },
   {
    "duration": 8,
    "start_time": "2023-09-22T20:48:32.618Z"
   },
   {
    "duration": 22,
    "start_time": "2023-09-22T20:48:32.628Z"
   },
   {
    "duration": 6,
    "start_time": "2023-09-22T20:48:32.652Z"
   },
   {
    "duration": 12,
    "start_time": "2023-09-22T20:48:32.660Z"
   },
   {
    "duration": 33,
    "start_time": "2023-09-22T20:48:32.673Z"
   },
   {
    "duration": 88,
    "start_time": "2023-09-22T20:48:32.708Z"
   },
   {
    "duration": 12,
    "start_time": "2023-09-22T20:48:32.797Z"
   },
   {
    "duration": 564,
    "start_time": "2023-09-22T20:48:32.810Z"
   },
   {
    "duration": 20,
    "start_time": "2023-09-22T20:48:33.376Z"
   },
   {
    "duration": 38,
    "start_time": "2023-09-22T20:48:33.398Z"
   },
   {
    "duration": 12,
    "start_time": "2023-09-22T20:48:33.438Z"
   },
   {
    "duration": 4,
    "start_time": "2023-09-22T20:48:33.451Z"
   },
   {
    "duration": 20,
    "start_time": "2023-09-22T20:48:33.456Z"
   },
   {
    "duration": 9,
    "start_time": "2023-09-22T20:48:33.477Z"
   },
   {
    "duration": 40,
    "start_time": "2023-09-22T20:48:33.488Z"
   },
   {
    "duration": 28,
    "start_time": "2023-09-22T20:48:33.550Z"
   },
   {
    "duration": 3,
    "start_time": "2023-09-22T20:48:33.580Z"
   },
   {
    "duration": 146,
    "start_time": "2023-09-22T20:48:33.584Z"
   },
   {
    "duration": 61,
    "start_time": "2023-09-22T20:48:33.731Z"
   },
   {
    "duration": 152,
    "start_time": "2023-09-22T20:48:33.793Z"
   },
   {
    "duration": 29,
    "start_time": "2023-09-22T20:48:33.949Z"
   },
   {
    "duration": 5,
    "start_time": "2023-09-22T20:48:33.980Z"
   },
   {
    "duration": 3,
    "start_time": "2023-09-22T20:48:33.986Z"
   },
   {
    "duration": 9,
    "start_time": "2023-09-22T20:48:33.991Z"
   },
   {
    "duration": 167,
    "start_time": "2023-09-22T20:48:34.001Z"
   },
   {
    "duration": 10,
    "start_time": "2023-09-22T20:48:34.169Z"
   },
   {
    "duration": 158,
    "start_time": "2023-09-22T20:48:34.181Z"
   },
   {
    "duration": 32,
    "start_time": "2023-09-22T20:48:34.341Z"
   },
   {
    "duration": 53,
    "start_time": "2023-09-22T20:48:34.374Z"
   },
   {
    "duration": 22,
    "start_time": "2023-09-22T20:48:34.429Z"
   },
   {
    "duration": 10,
    "start_time": "2023-09-22T20:48:34.453Z"
   },
   {
    "duration": 6,
    "start_time": "2023-09-22T20:48:34.465Z"
   },
   {
    "duration": 8,
    "start_time": "2023-09-22T20:48:34.472Z"
   },
   {
    "duration": 8,
    "start_time": "2023-09-22T20:48:34.482Z"
   },
   {
    "duration": 75,
    "start_time": "2023-09-22T20:48:34.492Z"
   },
   {
    "duration": 35,
    "start_time": "2023-09-22T20:48:34.569Z"
   },
   {
    "duration": 56,
    "start_time": "2023-09-22T20:48:34.605Z"
   },
   {
    "duration": 5,
    "start_time": "2023-09-22T20:48:34.663Z"
   },
   {
    "duration": 14,
    "start_time": "2023-09-22T20:48:34.669Z"
   },
   {
    "duration": 5,
    "start_time": "2023-09-22T20:48:34.684Z"
   },
   {
    "duration": 29,
    "start_time": "2023-09-22T20:48:34.691Z"
   },
   {
    "duration": 10,
    "start_time": "2023-09-22T20:48:34.721Z"
   },
   {
    "duration": 14,
    "start_time": "2023-09-22T20:48:34.733Z"
   },
   {
    "duration": 115,
    "start_time": "2023-09-22T20:48:34.749Z"
   },
   {
    "duration": 4,
    "start_time": "2023-09-22T20:48:34.865Z"
   },
   {
    "duration": 53,
    "start_time": "2023-09-22T20:48:34.870Z"
   },
   {
    "duration": 3,
    "start_time": "2023-09-22T20:48:34.924Z"
   },
   {
    "duration": 11,
    "start_time": "2023-09-22T20:48:34.928Z"
   },
   {
    "duration": 162,
    "start_time": "2023-09-22T20:48:34.940Z"
   },
   {
    "duration": 113,
    "start_time": "2023-09-22T20:48:35.103Z"
   },
   {
    "duration": 161,
    "start_time": "2023-09-22T20:48:35.217Z"
   },
   {
    "duration": 159,
    "start_time": "2023-09-22T20:48:35.380Z"
   },
   {
    "duration": 285,
    "start_time": "2023-09-22T20:48:35.541Z"
   },
   {
    "duration": 67,
    "start_time": "2023-09-22T21:25:36.840Z"
   },
   {
    "duration": 1300,
    "start_time": "2023-09-23T22:55:33.147Z"
   },
   {
    "duration": 577,
    "start_time": "2023-09-23T22:55:34.450Z"
   },
   {
    "duration": 5,
    "start_time": "2023-09-23T22:55:35.029Z"
   },
   {
    "duration": 2136,
    "start_time": "2023-09-23T22:55:35.036Z"
   },
   {
    "duration": 3,
    "start_time": "2023-09-23T22:55:37.174Z"
   },
   {
    "duration": 35,
    "start_time": "2023-09-23T22:55:37.179Z"
   },
   {
    "duration": 58,
    "start_time": "2023-09-23T22:55:37.216Z"
   },
   {
    "duration": 27,
    "start_time": "2023-09-23T22:55:37.276Z"
   },
   {
    "duration": 67,
    "start_time": "2023-09-23T22:55:37.305Z"
   },
   {
    "duration": 87,
    "start_time": "2023-09-23T22:55:37.375Z"
   },
   {
    "duration": 3219,
    "start_time": "2023-09-23T22:55:37.464Z"
   },
   {
    "duration": 89,
    "start_time": "2023-09-23T22:55:40.685Z"
   },
   {
    "duration": 5,
    "start_time": "2023-09-23T22:55:40.776Z"
   },
   {
    "duration": 18,
    "start_time": "2023-09-23T22:55:40.783Z"
   },
   {
    "duration": 14,
    "start_time": "2023-09-23T22:55:40.804Z"
   },
   {
    "duration": 24,
    "start_time": "2023-09-23T22:55:40.821Z"
   },
   {
    "duration": 179,
    "start_time": "2023-09-23T22:55:40.847Z"
   },
   {
    "duration": 6,
    "start_time": "2023-09-23T22:55:41.030Z"
   },
   {
    "duration": 14,
    "start_time": "2023-09-23T22:55:41.037Z"
   },
   {
    "duration": 50,
    "start_time": "2023-09-23T22:55:41.053Z"
   },
   {
    "duration": 96,
    "start_time": "2023-09-23T22:55:41.105Z"
   },
   {
    "duration": 15,
    "start_time": "2023-09-23T22:55:41.203Z"
   },
   {
    "duration": 592,
    "start_time": "2023-09-23T22:55:41.219Z"
   },
   {
    "duration": 22,
    "start_time": "2023-09-23T22:55:41.813Z"
   },
   {
    "duration": 40,
    "start_time": "2023-09-23T22:55:41.836Z"
   },
   {
    "duration": 4,
    "start_time": "2023-09-23T22:55:41.878Z"
   },
   {
    "duration": 4,
    "start_time": "2023-09-23T22:55:41.902Z"
   },
   {
    "duration": 36,
    "start_time": "2023-09-23T22:55:41.910Z"
   },
   {
    "duration": 5,
    "start_time": "2023-09-23T22:55:41.947Z"
   },
   {
    "duration": 51,
    "start_time": "2023-09-23T22:55:41.953Z"
   },
   {
    "duration": 37,
    "start_time": "2023-09-23T22:55:42.005Z"
   },
   {
    "duration": 5,
    "start_time": "2023-09-23T22:55:42.044Z"
   },
   {
    "duration": 176,
    "start_time": "2023-09-23T22:55:42.051Z"
   },
   {
    "duration": 77,
    "start_time": "2023-09-23T22:55:42.228Z"
   },
   {
    "duration": 175,
    "start_time": "2023-09-23T22:55:42.306Z"
   },
   {
    "duration": 2,
    "start_time": "2023-09-23T22:55:42.483Z"
   },
   {
    "duration": 25,
    "start_time": "2023-09-23T22:55:42.487Z"
   },
   {
    "duration": 22,
    "start_time": "2023-09-23T22:55:42.513Z"
   },
   {
    "duration": 23,
    "start_time": "2023-09-23T22:55:42.538Z"
   },
   {
    "duration": 12,
    "start_time": "2023-09-23T22:55:42.564Z"
   },
   {
    "duration": 151,
    "start_time": "2023-09-23T22:55:42.578Z"
   },
   {
    "duration": 9,
    "start_time": "2023-09-23T22:55:42.731Z"
   },
   {
    "duration": 14,
    "start_time": "2023-09-23T22:55:42.742Z"
   },
   {
    "duration": 512,
    "start_time": "2023-09-23T22:55:42.758Z"
   },
   {
    "duration": 16,
    "start_time": "2023-09-23T22:55:43.272Z"
   },
   {
    "duration": 23,
    "start_time": "2023-09-23T22:55:43.303Z"
   },
   {
    "duration": 112,
    "start_time": "2023-09-23T22:55:43.328Z"
   },
   {
    "duration": 29,
    "start_time": "2023-09-23T22:55:43.441Z"
   },
   {
    "duration": 85,
    "start_time": "2023-09-23T22:55:43.472Z"
   },
   {
    "duration": 4,
    "start_time": "2023-09-23T22:55:43.559Z"
   },
   {
    "duration": 15,
    "start_time": "2023-09-23T22:55:43.565Z"
   },
   {
    "duration": 35,
    "start_time": "2023-09-23T22:55:43.581Z"
   },
   {
    "duration": 24,
    "start_time": "2023-09-23T22:55:43.618Z"
   },
   {
    "duration": 19,
    "start_time": "2023-09-23T22:55:43.644Z"
   },
   {
    "duration": 76,
    "start_time": "2023-09-23T22:55:43.665Z"
   },
   {
    "duration": 43,
    "start_time": "2023-09-23T22:55:43.743Z"
   },
   {
    "duration": 64,
    "start_time": "2023-09-23T22:55:43.787Z"
   },
   {
    "duration": 5,
    "start_time": "2023-09-23T22:55:43.853Z"
   },
   {
    "duration": 6,
    "start_time": "2023-09-23T22:55:43.860Z"
   },
   {
    "duration": 26,
    "start_time": "2023-09-23T22:55:43.868Z"
   },
   {
    "duration": 15,
    "start_time": "2023-09-23T22:55:43.895Z"
   },
   {
    "duration": 45,
    "start_time": "2023-09-23T22:55:43.912Z"
   },
   {
    "duration": 15,
    "start_time": "2023-09-23T22:55:43.959Z"
   },
   {
    "duration": 163,
    "start_time": "2023-09-23T22:55:43.977Z"
   },
   {
    "duration": 5,
    "start_time": "2023-09-23T22:55:44.142Z"
   },
   {
    "duration": 12,
    "start_time": "2023-09-23T22:55:44.149Z"
   },
   {
    "duration": 79,
    "start_time": "2023-09-23T22:55:44.163Z"
   },
   {
    "duration": 5,
    "start_time": "2023-09-23T22:55:44.245Z"
   },
   {
    "duration": 274,
    "start_time": "2023-09-23T22:55:44.252Z"
   },
   {
    "duration": 287,
    "start_time": "2023-09-23T22:55:44.529Z"
   },
   {
    "duration": 25,
    "start_time": "2023-09-23T22:55:44.818Z"
   },
   {
    "duration": 25,
    "start_time": "2023-09-23T22:55:44.845Z"
   },
   {
    "duration": 200,
    "start_time": "2023-09-23T22:55:44.872Z"
   },
   {
    "duration": 3,
    "start_time": "2023-09-23T22:55:45.074Z"
   },
   {
    "duration": 132,
    "start_time": "2023-09-23T22:55:45.078Z"
   },
   {
    "duration": 161,
    "start_time": "2023-09-23T22:55:45.213Z"
   },
   {
    "duration": 8,
    "start_time": "2023-09-23T22:55:45.376Z"
   },
   {
    "duration": 202,
    "start_time": "2023-09-23T22:55:45.401Z"
   },
   {
    "duration": 2,
    "start_time": "2023-09-23T22:55:45.605Z"
   },
   {
    "duration": 42,
    "start_time": "2023-09-23T22:55:45.609Z"
   },
   {
    "duration": 31,
    "start_time": "2023-09-23T22:55:45.653Z"
   },
   {
    "duration": 225,
    "start_time": "2023-09-23T22:55:45.689Z"
   }
  ],
  "colab": {
   "provenance": []
  },
  "kernelspec": {
   "display_name": "Python 3 (ipykernel)",
   "language": "python",
   "name": "python3"
  },
  "language_info": {
   "codemirror_mode": {
    "name": "ipython",
    "version": 3
   },
   "file_extension": ".py",
   "mimetype": "text/x-python",
   "name": "python",
   "nbconvert_exporter": "python",
   "pygments_lexer": "ipython3",
   "version": "3.9.13"
  },
  "toc": {
   "base_numbering": 1,
   "nav_menu": {},
   "number_sections": true,
   "sideBar": true,
   "skip_h1_title": true,
   "title_cell": "Table of Contents",
   "title_sidebar": "Contents",
   "toc_cell": false,
   "toc_position": {
    "height": "calc(100% - 180px)",
    "left": "10px",
    "top": "150px",
    "width": "349px"
   },
   "toc_section_display": true,
   "toc_window_display": false
  }
 },
 "nbformat": 4,
 "nbformat_minor": 1
}
